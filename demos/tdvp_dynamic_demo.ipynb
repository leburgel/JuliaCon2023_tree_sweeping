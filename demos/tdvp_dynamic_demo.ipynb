{
 "cells": [
  {
   "cell_type": "markdown",
   "metadata": {},
   "source": [
    "# Time evolution with a time-dependent Hamiltonian"
   ]
  },
  {
   "cell_type": "code",
   "execution_count": 1,
   "metadata": {},
   "outputs": [],
   "source": [
    "using DifferentialEquations\n",
    "using ITensors\n",
    "using ITensorNetworks\n",
    "using KrylovKit: exponentiate\n",
    "using LinearAlgebra\n",
    "using Test"
   ]
  },
  {
   "cell_type": "markdown",
   "metadata": {},
   "source": [
    "In this notebook we will demonstrate simulating time evolution for a spin model with a time dependent Hamiltonian. on a lattice with a tree-like geometry using the [TDVP](https://arxiv.org/abs/1408.5056) algorithm.\n",
    "\n",
    "As an example, we will consider a spin-1/2 system with time-dependent next-to-nearest neighbor Heisenberg interactions\n",
    "\n",
    "$$\n",
    "H(t) = J_1(t) \\sum_{\\langle i, j \\rangle} \\vec{S}_i \\cdot \\vec{S}_j + J_2(t) \\sum_{\\langle\\langle i, j \\rangle\\rangle} \\vec{S}_i \\cdot \\vec{S}_j + h(t) \\sum_i S^z_i,\n",
    "$$\n",
    "\n",
    "on a spin system defined on a small comb tree with 6 sites\n",
    "\n",
    "<center><img align=\"center\" width=\"200\" src=\"./fig/small_comb_tree.svg\"></center>"
   ]
  },
  {
   "cell_type": "markdown",
   "metadata": {},
   "source": [
    "### Representing a time-dependent Hamiltonian"
   ]
  },
  {
   "cell_type": "markdown",
   "metadata": {},
   "source": [
    "Consider a simple time-dependent Hamiltonian, which can be written as a sum of static time-independent operators, each of which is mutliplied by its own time-dependent prefactor:\n",
    "\n",
    "$$H(t) = \\sum_i f_i(t) H_i$$\n",
    "\n",
    "To represent such an operator in a tree tensor network form, we can convert the static operators $H_i$ to `TTN` objects in the usual way, and just keep track of a list of the time-dependent coefficients and the static `TTN` operators.\n",
    "\n",
    "As a simple example, we consider a sum of two terms that each have a harmonic time-dependence with a different frequency:"
   ]
  },
  {
   "cell_type": "code",
   "execution_count": 2,
   "metadata": {},
   "outputs": [],
   "source": [
    "# define system geometry\n",
    "c = named_comb_tree((3, 2))\n",
    "root_vertex = (3, 2)\n",
    "s = siteinds(\"S=1/2\", c)\n",
    "\n",
    "# initialize time-dependent prefactors\n",
    "ωs = [0.1, 0.2]\n",
    "fs = [t -> cos(ω * t) for ω in ωs]\n",
    "\n",
    "# initialize static Hamiltonian terms\n",
    "J₁ = 1.0\n",
    "J₂ = 0.1\n",
    "Hs = [heisenberg(c; J1=1.0, J2=0.0), heisenberg(c; J1=0.0, J2=0.1)]\n",
    "Hs = [TTN(H, s) for H in Hs];"
   ]
  },
  {
   "cell_type": "markdown",
   "metadata": {},
   "source": [
    "### Solvers for time-dependent problems"
   ]
  },
  {
   "cell_type": "markdown",
   "metadata": {},
   "source": [
    "Explaining how to define a local solver for time-dependent problems first requires some discussion of the internals of the sweeping routines in ITensorNetworks.jl. Whenever a local update is executed in a sweeping algorithm, an effective Hamiltonian is constructed which embodies the action of the system Hamiltonian on the local region to be updated while taking into account the rest of the network in the form of environments. The action of this effective Hamiltonian, say `H`, on the region to be updated, represented by a single tensor `ψ`, is executed by evaluating `H` on `ψ`: `H(ψ)`.\n",
    "\n",
    "A time dependent operator in ITensorNetworks.jl is represented as an instance of a `TimeDependentSum`, which essentially contains a list of static effective operators and a list of their time-dependent prefactors. Given a `TimeDependentSum`, `H`, the effective Hamiltonian operator at a given time `t` can be extracted by evaluating `H` as `H_t = H(t)`, after which `H_t(ψ)` represents the action of the effective Hamiltonian at time `t` on a local region `ψ`.\n",
    "\n",
    "The first step in defining time evolution solvers for time-dependent problems is to define a solver which takes a `TimeDependentSum` encoding all time dependence as an input, and returns the effect of the exponential of this operator evaluated at the current time (always passed to a local solver as a `current_time` keyword argument) on a given tensor. As an example we give two such solvers, using a DifferentialEquations.jl integrator and a KrylovKit.jl exponentiator respectively:"
   ]
  },
  {
   "cell_type": "code",
   "execution_count": 3,
   "metadata": {},
   "outputs": [],
   "source": [
    "function ode_solver(\n",
    "    H::TimeDependentSum,\n",
    "    time_step,\n",
    "    ψ0;\n",
    "    current_time=0.0,\n",
    "    outputlevel=0,\n",
    "    solver_alg=Tsit5(),\n",
    "    kwargs...,\n",
    ")\n",
    "    if outputlevel ≥ 3\n",
    "        println(\"    In ODE solver, current_time = $current_time, time_step = $time_step\")\n",
    "    end\n",
    "\n",
    "    time_span = (current_time, current_time + time_step)\n",
    "    u0, ITensor_from_vec = to_vec(ψ0)\n",
    "    f(ψ::ITensor, p, t) = H(t)(ψ)\n",
    "    f(u::Vector, p, t) = to_vec(f(ITensor_from_vec(u), p, t))[1]\n",
    "    prob = ODEProblem(f, u0, time_span)\n",
    "    sol = solve(prob, solver_alg; kwargs...)\n",
    "    ut = sol.u[end]\n",
    "    return ITensor_from_vec(ut), nothing\n",
    "end\n",
    "\n",
    "function krylov_solver(\n",
    "    H::TimeDependentSum,\n",
    "    time_step,\n",
    "    ψ0;\n",
    "    current_time=0.0,\n",
    "    outputlevel=0,\n",
    "    kwargs...,\n",
    ")\n",
    "    if outputlevel ≥ 3\n",
    "        println(\"    In Krylov solver, current_time = $current_time, time_step = $time_step\")\n",
    "    end\n",
    "    ψt, info = exponentiate(H(current_time), time_step, ψ0; kwargs...)\n",
    "    return ψt, info\n",
    "end;"
   ]
  },
  {
   "cell_type": "markdown",
   "metadata": {},
   "source": [
    "The next step in defining a TDVP solver for a time-dependent problem is to wrap these solvers in corresponding methods which are compatible with the internal standard solver interface. This interface (assuming ITensorNetworks.jl@0.3.9) provides the solver with a (list of) static effective Hamiltonian(s) representing (a sum of) time-independent Hamiltonian(s). We can add the appropriate time dependence by wrapping these static effective operators in a `TimeDependentSum` using the time-dependence specified above."
   ]
  },
  {
   "cell_type": "code",
   "execution_count": 4,
   "metadata": {},
   "outputs": [],
   "source": [
    "ode_alg = Tsit5()\n",
    "ode_kwargs = (; reltol=1e-8, abstol=1e-8)\n",
    "function tdvp_ode_solver(Hs, ψ0; time_step, kwargs...)\n",
    "    psi_t, info = ode_solver(\n",
    "        -im * TimeDependentSum(fs, Hs), time_step, ψ0; solver_alg=ode_alg, ode_kwargs...\n",
    "    )\n",
    "    return psi_t, (; info)\n",
    "end\n",
    "\n",
    "krylov_kwargs = (; tol=1e-8, eager=true)\n",
    "function tdvp_krylov_solver(Hs, ψ0; time_step, ishermitian=false, issymmetric=false, kwargs...)\n",
    "    psi_t, info = krylov_solver(\n",
    "        -im * TimeDependentSum(fs, Hs),\n",
    "        time_step,\n",
    "        ψ0;\n",
    "        krylov_kwargs...,\n",
    "        ishermitian,\n",
    "        issymmetric,\n",
    "    )\n",
    "    return psi_t, (; info)\n",
    "end;"
   ]
  },
  {
   "cell_type": "markdown",
   "metadata": {},
   "source": [
    "### Integrating the time-dependent problem"
   ]
  },
  {
   "cell_type": "markdown",
   "metadata": {},
   "source": [
    "Having defined our solvers, we can now perform the time integration using the TDVP sweeping algorithm and compare the result to an exact time integration for the full dense quantum state."
   ]
  },
  {
   "cell_type": "code",
   "execution_count": 5,
   "metadata": {},
   "outputs": [
    {
     "name": "stdout",
     "output_type": "stream",
     "text": [
      "norm(ψ0) ≈ 1 = true\n",
      "norm(ψt_ode) ≈ 1 = true\n",
      "norm(ψt_krylov) ≈ 1 = true\n",
      "norm(ψt_full) ≈ 1 = true\n",
      "krylov_err > ode_err = true\n",
      "ode_err < 0.01 = true\n",
      "krylov_err < 0.01 = true\n"
     ]
    }
   ],
   "source": [
    "time_step = 0.1\n",
    "time_total = 1.0\n",
    "\n",
    "nsite = 2\n",
    "maxdim = 100\n",
    "cutoff = 1e-8\n",
    "\n",
    "# start from a product state\n",
    "ψ0 = TTN(ComplexF64, s, v -> iseven(sum(isodd.(v))) ? \"↑\" : \"↓\")\n",
    "\n",
    "ψt_ode = tdvp(tdvp_ode_solver, Hs, time_total, ψ0; time_step, maxdim, cutoff, nsite)\n",
    "\n",
    "ψt_krylov = tdvp(tdvp_krylov_solver, Hs, time_total, ψ0; time_step, cutoff, nsite)\n",
    "\n",
    "ψt_full, _ = tdvp_ode_solver(contract.(Hs), contract(ψ0); time_step=time_total)\n",
    "\n",
    "@show norm(ψ0) ≈ 1\n",
    "@show norm(ψt_ode) ≈ 1\n",
    "@show norm(ψt_krylov) ≈ 1\n",
    "@show norm(ψt_full) ≈ 1\n",
    "\n",
    "ode_err = norm(contract(ψt_ode) - ψt_full)\n",
    "krylov_err = norm(contract(ψt_krylov) - ψt_full)\n",
    "\n",
    "@show krylov_err > ode_err\n",
    "@show ode_err < 1e-2\n",
    "@show krylov_err < 1e-2;"
   ]
  },
  {
   "cell_type": "code",
   "execution_count": null,
   "metadata": {},
   "outputs": [],
   "source": []
  }
 ],
 "metadata": {
  "kernelspec": {
   "display_name": "Julia 1.9.1",
   "language": "julia",
   "name": "julia-1.9"
  },
  "language_info": {
   "file_extension": ".jl",
   "mimetype": "application/julia",
   "name": "julia",
   "version": "1.9.1"
  }
 },
 "nbformat": 4,
 "nbformat_minor": 4
}
