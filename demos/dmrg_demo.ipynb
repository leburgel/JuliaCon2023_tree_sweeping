{
 "cells": [
  {
   "cell_type": "markdown",
   "metadata": {},
   "source": [
    "# Ground state search on a tree"
   ]
  },
  {
   "cell_type": "code",
   "execution_count": 1,
   "metadata": {},
   "outputs": [],
   "source": [
    "using NamedGraphs\n",
    "using ITensors\n",
    "using ITensorNetworks\n",
    "using ITensorUnicodePlots\n",
    "using Dictionaries\n",
    "using SparseArrayKit\n",
    "\n",
    "include(\"utils.jl\")"
   ]
  },
  {
   "cell_type": "markdown",
   "metadata": {},
   "source": [
    "In this notebook we perform a ground state search for a spin model on a lattice with a tree-like geometry using the [density matrix renormalization group (DMRG)](https://tensornetwork.org/mps/algorithms/dmrg/) algorithm.\n",
    "\n",
    "As an example, we will consider a next-to-nearest neighbor spin-1/2 Heisenberg model with Hamiltonian\n",
    "\n",
    "$$\n",
    "H = J_1 \\sum_{\\langle i, j \\rangle} \\vec{S}_i \\cdot \\vec{S}_j + J_2 \\sum_{\\langle\\langle i, j \\rangle\\rangle} \\vec{S}_i \\cdot \\vec{S}_j + h \\sum_i S^z_i,\n",
    "$$\n",
    "\n",
    "on a spin system defined on a small comb tree with 12 sites\n",
    "<center><img align=\"center\" width=\"300\" src=\"./fig/medium_comb_tree.svg\"></center>"
   ]
  },
  {
   "cell_type": "markdown",
   "metadata": {},
   "source": [
    "## Tree tensor networks"
   ]
  },
  {
   "cell_type": "markdown",
   "metadata": {},
   "source": [
    "Having introduced the general `ITensorNetwork` interface in the [ITensorNetworks.jl introduction](./itensornetworks_demo.ipynb), we now specialize to tree tensor networks. A `TreeTensorNetwork` is nothing more than an `ITensorNetwork` on a tree graph that keeps track of its orthogonality center. We can construct a random tree tensor network state with bond dimension 5 on the geometry shown above in the following way:"
   ]
  },
  {
   "cell_type": "code",
   "execution_count": 2,
   "metadata": {},
   "outputs": [
    {
     "data": {
      "text/plain": [
       "    \u001b[38;5;8m⠀⠀⠀⠀⠀⠀⠀⠀⠀⠀⠀⠀⠀⠀⠀⠀⠀⠀⠀⠀⠀⠀⠀⠀⠀⠀⠀⠀⠀⠀⠀⠀⠀⠀⠀⠀⠀⠀⠀⠀⠀⠀⠀⠀⠀⠀⠀⠀⠀⠀⠀⠀\u001b[0m \n",
       "    \u001b[38;5;8m⠀\u001b[0m⠀⠀⠀⠀⠀⠀⠀⠀⠀⠀⠀⠀⠀⠀⠀⠀⠀⠀⠀⠀⠀⠀⠀⠀⠀⠀⠀⠀⠀⠀⠀⠀⠀⠀⠀⠀⠀⠀⠀⠀⠀⠀⠀⠀⠀⠀⠀⠀⠀⠀\u001b[38;5;8m⠀\u001b[0m \n",
       "    \u001b[38;5;8m⠀\u001b[0m⠀⠀⠀⠀⠀⠀⠀⠀⠀⠀⠀⠀⠀⠀⠀⠀⠀⠀⠀⠀⠀⠀⠀⠀⠀⠀⠀⠀⠀⠀⠀⠀⠀⠀⠀⠀⠀⠀⠀⠀⠀⠀⠀⠀⠀⠀⠀⠀⠀⠀\u001b[38;5;8m⠀\u001b[0m \n",
       "    \u001b[38;5;8m⠀\u001b[0m⠀⠀⠀⠀⠀⠀⠀⠀⠀⠀⠀⠀⠀⠀⠀⠀⠀⠀⠀⠀⠀⠀⠀⠀⠀⠀⠀⠀⠀⠀⠀⠀⠀⠀⠀⠀⠀⠀⠀⠀⠀⠀⠀⠀⠀⠀⠀⠀⠀⠀\u001b[38;5;8m⠀\u001b[0m \n",
       "    \u001b[38;5;8m⠀\u001b[0m⠀⠀⠀⠀⠀⠀⠀⠀⠀⠀⠀⠀⠀⠀⠀⠀⠀⠀⠀ψ(2, 3)⠀⠀⠀⠀⠀⠀⠀⠀⠀⠀⠀⠀⠀⠀⠀⠀⠀⠀⠀⠀⠀⠀⠀⠀\u001b[38;5;8m⠀\u001b[0m \n",
       "    \u001b[38;5;8m⠀\u001b[0m⠀⠀⠀⠀⠀⠀⠀⠀⠀⠀⠀⠀⠀⠀⠀⠀⠀⠀⠀⠀⠀⠀25⠀⠀⠀⠀⠀⠀⠀⠀⠀⠀⠀⠀⠀⠀⠀⠀⠀⠀⠀⠀⠀⠀⠀⠀⠀⠀\u001b[38;5;8m⠀\u001b[0m \n",
       "    \u001b[38;5;8m⠀\u001b[0m⠀⠀⠀⠀⠀⠀⠀⠀⠀⠀⠀⠀⠀⠀⠀⠀⠀⠀⠀⠀ψ(2, 2)⠀⠀⠀⠀⠀⠀⠀⠀⠀⠀⠀⠀⠀⠀⠀⠀⠀⠀⠀⠀⠀⠀⠀\u001b[38;5;8m⠀\u001b[0m \n",
       "    \u001b[38;5;8m⠀\u001b[0m⠀⠀⠀⠀⠀⠀⠀⠀⠀⠀⠀⠀⠀⠀⠀⠀⠀⠀⠀⠀⠀⠀⠀2⠀⠀⠀⠀⠀⠀⠀⠀⠀⠀⠀⠀⠀⠀ψ(3, 3)⠀⠀⠀⠀⠀\u001b[38;5;8m⠀\u001b[0m \n",
       "    \u001b[38;5;8m⠀\u001b[0m⠀⠀⠀⠀⠀⠀⠀⠀⠀⠀⠀⠀⠀⠀⠀⠀⠀⠀⠀⠀⠀⠀⠀\u001b[38;5;4m⠈\u001b[0m5⠀⠀⠀⠀⠀⠀⠀⠀⠀⠀⠀⠀⠀\u001b[38;5;4m⡠\u001b[0m5⠀2⠀⠀⠀⠀⠀⠀⠀⠀\u001b[38;5;8m⠀\u001b[0m \n",
       "    \u001b[38;5;8m⠀\u001b[0m⠀⠀⠀⠀⠀⠀⠀⠀⠀⠀⠀⠀⠀⠀⠀⠀⠀⠀⠀\u001b[38;5;4m⢀\u001b[0m5ψ(2, 1)⠀⠀⠀⠀⠀⠀ψ(3, 2)⠀⠀⠀⠀⠀⠀⠀⠀⠀\u001b[38;5;8m⠀\u001b[0m \n",
       "    \u001b[38;5;8m⠀\u001b[0m⠀⠀⠀⠀\u001b[38;5;4m⢀\u001b[0m\u001b[38;5;4m⣀\u001b[0mψ(1, 2)ψ(1, 1)⠀⠀⠀⠀2⠀⠀\u001b[38;5;4m⠈\u001b[0m5\u001b[38;5;4m⠒\u001b[0mψ(3, 1)\u001b[38;5;4m⠘\u001b[0m⠀⠀⠀⠀⠀⠀⠀⠀⠀⠀⠀⠀\u001b[38;5;8m⠀\u001b[0m \n",
       "    \u001b[38;5;8m⠀\u001b[0m⠀ψ(1, 3)⠀2⠀⠀⠀⠀⠀⠀\u001b[38;5;4m⠘\u001b[0m⠀⠀⠀⠀⠀⠀⠀⠀⠀⠀⠀⠀⠀⠀⠀⠀2\u001b[38;5;4m⢆\u001b[0m⠀⠀⠀⠀⠀⠀⠀⠀⠀⠀⠀⠀⠀⠀⠀\u001b[38;5;8m⠀\u001b[0m \n",
       "    \u001b[38;5;8m⠀\u001b[0m⠀⠀⠀⠀\u001b[38;5;4m⠃\u001b[0m⠀⠀⠀⠀⠀⠀⠀⠀⠀⠀⠀⠀⠀⠀⠀⠀⠀⠀⠀⠀⠀⠀⠀⠀⠀⠀⠀⠀\u001b[38;5;4m⠁\u001b[0m⠀5\u001b[38;5;4m⢄\u001b[0m⠀⠀⠀⠀⠀⠀⠀⠀⠀⠀⠀⠀⠀\u001b[38;5;8m⠀\u001b[0m \n",
       "    \u001b[38;5;8m⠀\u001b[0m⠀⠀⠀⠀⠀⠀⠀⠀⠀⠀⠀⠀⠀⠀⠀⠀⠀⠀⠀⠀⠀⠀⠀⠀⠀⠀⠀⠀⠀⠀⠀⠀⠀⠀ψ(4, 1)⠀⠀⠀⠀⠀⠀⠀⠀⠀\u001b[38;5;8m⠀\u001b[0m \n",
       "    \u001b[38;5;8m⠀\u001b[0m⠀⠀⠀⠀⠀⠀⠀⠀⠀⠀⠀⠀⠀⠀⠀⠀⠀⠀⠀⠀⠀⠀⠀⠀⠀⠀⠀⠀⠀⠀⠀⠀⠀⠀⠀⠀⠀2⠀\u001b[38;5;4m⠑\u001b[0m5⠀⠀⠀⠀⠀⠀⠀⠀⠀\u001b[38;5;8m⠀\u001b[0m \n",
       "    \u001b[38;5;8m⠀\u001b[0m⠀⠀⠀⠀⠀⠀⠀⠀⠀⠀⠀⠀⠀⠀⠀⠀⠀⠀⠀⠀⠀⠀⠀⠀⠀⠀⠀⠀⠀⠀⠀⠀⠀⠀⠀⠀⠀⠀⠀ψ(4, 2)⠀⠀⠀⠀\u001b[38;5;8m⠀\u001b[0m \n",
       "    \u001b[38;5;8m⠀\u001b[0m⠀⠀⠀⠀⠀⠀⠀⠀⠀⠀⠀⠀⠀⠀⠀⠀⠀⠀⠀⠀⠀⠀⠀⠀⠀⠀⠀⠀⠀⠀⠀⠀⠀⠀⠀⠀⠀⠀⠀⠀⠀⠀2\u001b[38;5;4m⠑\u001b[0m5⠀⠀⠀⠀⠀\u001b[38;5;8m⠀\u001b[0m \n",
       "    \u001b[38;5;8m⠀\u001b[0m⠀⠀⠀⠀⠀⠀⠀⠀⠀⠀⠀⠀⠀⠀⠀⠀⠀⠀⠀⠀⠀⠀⠀⠀⠀⠀⠀⠀⠀⠀⠀⠀⠀⠀⠀⠀⠀⠀⠀⠀⠀⠀ψ(4, 3)⠀\u001b[38;5;8m⠀\u001b[0m \n",
       "    \u001b[38;5;8m⠀\u001b[0m⠀⠀⠀⠀⠀⠀⠀⠀⠀⠀⠀⠀⠀⠀⠀⠀⠀⠀⠀⠀⠀⠀⠀⠀⠀⠀⠀⠀⠀⠀⠀⠀⠀⠀⠀⠀⠀⠀⠀⠀⠀⠀⠀⠀⠀\u001b[38;5;4m⠸\u001b[0m⠀⠀⠀⠀\u001b[38;5;8m⠀\u001b[0m \n",
       "    \u001b[38;5;8m⠀\u001b[0m⠀⠀⠀⠀⠀⠀⠀⠀⠀⠀⠀⠀⠀⠀⠀⠀⠀⠀⠀⠀⠀⠀⠀⠀⠀⠀⠀⠀⠀⠀⠀⠀⠀⠀⠀⠀⠀⠀⠀⠀⠀⠀⠀⠀⠀⠀⠀⠀⠀⠀\u001b[38;5;8m⠀\u001b[0m \n",
       "    \u001b[38;5;8m⠀\u001b[0m⠀⠀⠀⠀⠀⠀⠀⠀⠀⠀⠀⠀⠀⠀⠀⠀⠀⠀⠀⠀⠀⠀⠀⠀⠀⠀⠀⠀⠀⠀⠀⠀⠀⠀⠀⠀⠀⠀⠀⠀⠀⠀⠀⠀⠀⠀⠀⠀⠀⠀\u001b[38;5;8m⠀\u001b[0m \n",
       "    \u001b[38;5;8m⠀⠀⠀⠀⠀⠀⠀⠀⠀⠀⠀⠀⠀⠀⠀⠀⠀⠀⠀⠀⠀⠀⠀⠀⠀⠀⠀⠀⠀⠀⠀⠀⠀⠀⠀⠀⠀⠀⠀⠀⠀⠀⠀⠀⠀⠀⠀⠀⠀⠀⠀⠀\u001b[0m "
      ]
     },
     "metadata": {},
     "output_type": "display_data"
    },
    {
     "data": {
      "text/plain": [
       "TreeTensorNetwork{Tuple{Int64, Int64}} with 12 vertices:\n",
       "12-element Vector{Tuple{Int64, Int64}}:\n",
       " (1, 1)\n",
       " (2, 1)\n",
       " (3, 1)\n",
       " (4, 1)\n",
       " (1, 2)\n",
       " (2, 2)\n",
       " (3, 2)\n",
       " (4, 2)\n",
       " (1, 3)\n",
       " (2, 3)\n",
       " (3, 3)\n",
       " (4, 3)\n",
       "\n",
       "and 11 edge(s):\n",
       "(1, 1) => (2, 1)\n",
       "(1, 1) => (1, 2)\n",
       "(2, 1) => (3, 1)\n",
       "(2, 1) => (2, 2)\n",
       "(3, 1) => (4, 1)\n",
       "(3, 1) => (3, 2)\n",
       "(4, 1) => (4, 2)\n",
       "(1, 2) => (1, 3)\n",
       "(2, 2) => (2, 3)\n",
       "(3, 2) => (3, 3)\n",
       "(4, 2) => (4, 3)\n",
       "\n",
       "with vertex data:\n",
       "12-element Dictionary{Tuple{Int64, Int64}, Any}\n",
       " (1, 1) │ ((dim=2|id=54|\"S=1/2,Site,n=1×1\"), (dim=5|id=993|\"1×1,2×1\"), (dim=5|i…\n",
       " (2, 1) │ ((dim=2|id=707|\"S=1/2,Site,n=2×1\"), (dim=5|id=993|\"1×1,2×1\"), (dim=5|…\n",
       " (3, 1) │ ((dim=2|id=502|\"S=1/2,Site,n=3×1\"), (dim=5|id=35|\"2×1,3×1\"), (dim=5|i…\n",
       " (4, 1) │ ((dim=2|id=408|\"S=1/2,Site,n=4×1\"), (dim=5|id=795|\"3×1,4×1\"), (dim=5|…\n",
       " (1, 2) │ ((dim=2|id=621|\"S=1/2,Site,n=1×2\"), (dim=5|id=460|\"1×1,1×2\"), (dim=5|…\n",
       " (2, 2) │ ((dim=2|id=866|\"S=1/2,Site,n=2×2\"), (dim=5|id=583|\"2×1,2×2\"), (dim=5|…\n",
       " (3, 2) │ ((dim=2|id=402|\"S=1/2,Site,n=3×2\"), (dim=5|id=731|\"3×1,3×2\"), (dim=5|…\n",
       " (4, 2) │ ((dim=2|id=125|\"S=1/2,Site,n=4×2\"), (dim=5|id=727|\"4×1,4×2\"), (dim=5|…\n",
       " (1, 3) │ ((dim=2|id=687|\"S=1/2,Site,n=1×3\"), (dim=5|id=201|\"1×2,1×3\"))\n",
       " (2, 3) │ ((dim=2|id=210|\"S=1/2,Site,n=2×3\"), (dim=5|id=236|\"2×2,2×3\"))\n",
       " (3, 3) │ ((dim=2|id=685|\"S=1/2,Site,n=3×3\"), (dim=5|id=437|\"3×2,3×3\"))\n",
       " (4, 3) │ ((dim=2|id=320|\"S=1/2,Site,n=4×3\"), (dim=5|id=885|\"4×2,4×3\"))"
      ]
     },
     "execution_count": 2,
     "metadata": {},
     "output_type": "execute_result"
    }
   ],
   "source": [
    "dims = (4, 3)\n",
    "c = named_comb_tree(dims)\n",
    "s = siteinds(\"S=1/2\", c)\n",
    "root_vertex = (1, 3)\n",
    "χ = 5\n",
    "\n",
    "ψ = random_ttn(ComplexF64, s; link_space=χ)\n",
    "@visualize ψ"
   ]
  },
  {
   "cell_type": "markdown",
   "metadata": {},
   "source": [
    "A randomly initialized tree tensor network state does not have a well-defined orthogonality center. We can move the orthogonality center by calling the `ITensors.orthogonalize` method which gauges the state around a given vertex:"
   ]
  },
  {
   "cell_type": "code",
   "execution_count": 3,
   "metadata": {},
   "outputs": [
    {
     "name": "stdout",
     "output_type": "stream",
     "text": [
      "ortho_center(ψ) = [(1, 1), (2, 1), (3, 1), (4, 1), (1, 2), (2, 2), (3, 2), (4, 2), (1, 3), (2, 3), (3, 3), (4, 3)]\n",
      "ortho_center(ψ) = [(2, 1)]\n"
     ]
    }
   ],
   "source": [
    "@show ortho_center(ψ);\n",
    "ψ = orthogonalize(ψ, (2, 1))\n",
    "@show ortho_center(ψ);"
   ]
  },
  {
   "cell_type": "markdown",
   "metadata": {},
   "source": [
    "## The Hamiltonian as a tree tensor network"
   ]
  },
  {
   "cell_type": "markdown",
   "metadata": {},
   "source": [
    "In order to apply the DMRG algorithm (or any DMRG-like sweeping routine for that matter) we need to write the system Hamiltonian as a tensor network operator with the same geometry as the corresponding state. This is done by first constructing a lazy algebraic representation of the Hamiltonian using the familiar `ITensors.OpSum` interface, and then converting it to a `TreeTensorNetwork` in an automated way."
   ]
  },
  {
   "cell_type": "markdown",
   "metadata": {},
   "source": [
    "Constructing the Hamiltonian in an algebraic `OpSum` representation can be done in exactly the same way as you normally would (see for example the [ITensors.jl DMRG tutorial](https://itensor.github.io/ITensors.jl/dev/tutorials/DMRG.html)), where the usual integer site labels are now replaced by graph vertex labels of the appropriate type (in this case tuples of integers). The Hamiltonian defined above (also exported through the `ITensorNetworks.heisenberg` method) can be constructed as:"
   ]
  },
  {
   "cell_type": "code",
   "execution_count": 4,
   "metadata": {},
   "outputs": [
    {
     "data": {
      "text/plain": [
       "sum(\n",
       "  -0.5 S+((1, 1),) S-((2, 1),)\n",
       "  -0.5 S-((1, 1),) S+((2, 1),)\n",
       "  -1.0 Sz((1, 1),) Sz((2, 1),)\n",
       "  -0.5 S+((1, 1),) S-((1, 2),)\n",
       "  -0.5 S-((1, 1),) S+((1, 2),)\n",
       "  -1.0 Sz((1, 1),) Sz((1, 2),)\n",
       "  -0.5 S+((2, 1),) S-((3, 1),)\n",
       "  -0.5 S-((2, 1),) S+((3, 1),)\n",
       "  -1.0 Sz((2, 1),) Sz((3, 1),)\n",
       "  -0.5 S+((2, 1),) S-((2, 2),)\n",
       "  -0.5 S-((2, 1),) S+((2, 2),)\n",
       "  -1.0 Sz((2, 1),) Sz((2, 2),)\n",
       "  -0.5 S+((3, 1),) S-((4, 1),)\n",
       "  -0.5 S-((3, 1),) S+((4, 1),)\n",
       "  -1.0 Sz((3, 1),) Sz((4, 1),)\n",
       "  -0.5 S+((3, 1),) S-((3, 2),)\n",
       "  -0.5 S-((3, 1),) S+((3, 2),)\n",
       "  -1.0 Sz((3, 1),) Sz((3, 2),)\n",
       "  -0.5 S+((4, 1),) S-((4, 2),)\n",
       "  -0.5 S-((4, 1),) S+((4, 2),)\n",
       "  -1.0 Sz((4, 1),) Sz((4, 2),)\n",
       "  -0.5 S+((1, 2),) S-((1, 3),)\n",
       "  -0.5 S-((1, 2),) S+((1, 3),)\n",
       "  -1.0 Sz((1, 2),) Sz((1, 3),)\n",
       "  -0.5 S+((2, 2),) S-((2, 3),)\n",
       "  -0.5 S-((2, 2),) S+((2, 3),)\n",
       "  -1.0 Sz((2, 2),) Sz((2, 3),)\n",
       "  -0.5 S+((3, 2),) S-((3, 3),)\n",
       "  -0.5 S-((3, 2),) S+((3, 3),)\n",
       "  -1.0 Sz((3, 2),) Sz((3, 3),)\n",
       "  -0.5 S+((4, 2),) S-((4, 3),)\n",
       "  -0.5 S-((4, 2),) S+((4, 3),)\n",
       "  -1.0 Sz((4, 2),) Sz((4, 3),)\n",
       "  1.0 S+((1, 1),) S-((3, 1),)\n",
       "  1.0 S-((1, 1),) S+((3, 1),)\n",
       "  2.0 Sz((1, 1),) Sz((3, 1),)\n",
       "  1.0 S+((1, 1),) S-((2, 2),)\n",
       "  1.0 S-((1, 1),) S+((2, 2),)\n",
       "  2.0 Sz((1, 1),) Sz((2, 2),)\n",
       "  1.0 S+((1, 1),) S-((1, 3),)\n",
       "  1.0 S-((1, 1),) S+((1, 3),)\n",
       "  2.0 Sz((1, 1),) Sz((1, 3),)\n",
       "  1.0 S+((2, 1),) S-((1, 2),)\n",
       "  1.0 S-((2, 1),) S+((1, 2),)\n",
       "  2.0 Sz((2, 1),) Sz((1, 2),)\n",
       "  1.0 S+((2, 1),) S-((4, 1),)\n",
       "  1.0 S-((2, 1),) S+((4, 1),)\n",
       "  2.0 Sz((2, 1),) Sz((4, 1),)\n",
       "  1.0 S+((2, 1),) S-((3, 2),)\n",
       "  1.0 S-((2, 1),) S+((3, 2),)\n",
       "  2.0 Sz((2, 1),) Sz((3, 2),)\n",
       "  1.0 S+((2, 1),) S-((2, 3),)\n",
       "  1.0 S-((2, 1),) S+((2, 3),)\n",
       "  2.0 Sz((2, 1),) Sz((2, 3),)\n",
       "  1.0 S+((3, 1),) S-((2, 2),)\n",
       "  1.0 S-((3, 1),) S+((2, 2),)\n",
       "  2.0 Sz((3, 1),) Sz((2, 2),)\n",
       "  1.0 S+((3, 1),) S-((4, 2),)\n",
       "  1.0 S-((3, 1),) S+((4, 2),)\n",
       "  2.0 Sz((3, 1),) Sz((4, 2),)\n",
       "  1.0 S+((3, 1),) S-((3, 3),)\n",
       "  1.0 S-((3, 1),) S+((3, 3),)\n",
       "  2.0 Sz((3, 1),) Sz((3, 3),)\n",
       "  1.0 S+((4, 1),) S-((3, 2),)\n",
       "  1.0 S-((4, 1),) S+((3, 2),)\n",
       "  2.0 Sz((4, 1),) Sz((3, 2),)\n",
       "  1.0 S+((4, 1),) S-((4, 3),)\n",
       "  1.0 S-((4, 1),) S+((4, 3),)\n",
       "  2.0 Sz((4, 1),) Sz((4, 3),)\n",
       "  -0.2 Sz((1, 1),)\n",
       "  -0.2 Sz((2, 1),)\n",
       "  -0.2 Sz((3, 1),)\n",
       "  -0.2 Sz((4, 1),)\n",
       "  -0.2 Sz((1, 2),)\n",
       "  -0.2 Sz((2, 2),)\n",
       "  -0.2 Sz((3, 2),)\n",
       "  -0.2 Sz((4, 2),)\n",
       "  -0.2 Sz((1, 3),)\n",
       "  -0.2 Sz((2, 3),)\n",
       "  -0.2 Sz((3, 3),)\n",
       "  -0.2 Sz((4, 3),)\n",
       ")"
      ]
     },
     "execution_count": 4,
     "metadata": {},
     "output_type": "execute_result"
    }
   ],
   "source": [
    "J1 = -1.0\n",
    "J2 = 2\n",
    "h = -0.2\n",
    "\n",
    "Hos = OpSum()\n",
    "for (v1, v2) in nearest_neighbors(c)\n",
    "    Hos += J1 / 2, \"S+\", v1, \"S-\", v2\n",
    "    Hos += J1 / 2, \"S-\", v1, \"S+\", v2\n",
    "    Hos += J1, \"Sz\", v1, \"Sz\", v2\n",
    "end\n",
    "for (v1, v2) in next_nearest_neighbors(c)\n",
    "    Hos += J2 / 2, \"S+\", v1, \"S-\", v2\n",
    "    Hos += J2 / 2, \"S-\", v1, \"S+\", v2\n",
    "    Hos += J2, \"Sz\", v1, \"Sz\", v2\n",
    "end\n",
    "for v in vertices(c)\n",
    "    Hos += h, \"Sz\", v\n",
    "end\n",
    "Hos"
   ]
  },
  {
   "cell_type": "markdown",
   "metadata": {},
   "source": [
    "This procedure can be adapted to construct Hamiltonians with interactions of arbitrary weight and range. More convenient helper functions like `nearest_neighbors` and `next_nearest_neighbors` will be added to ITensorNetworks.jl in the near future to facilitate this."
   ]
  },
  {
   "cell_type": "markdown",
   "metadata": {},
   "source": [
    "We can automatically construct the Hamiltonian as a tree tensor network operator by passing this `OpSum` along with the physical site indices to the tree tensor network constructor:"
   ]
  },
  {
   "cell_type": "code",
   "execution_count": 5,
   "metadata": {},
   "outputs": [
    {
     "data": {
      "text/plain": [
       "    \u001b[38;5;8m⠀⠀⠀⠀⠀⠀⠀⠀⠀⠀⠀⠀⠀⠀⠀⠀⠀⠀⠀⠀⠀⠀⠀⠀⠀⠀⠀⠀⠀⠀⠀⠀⠀⠀⠀⠀⠀⠀⠀⠀⠀⠀⠀⠀⠀⠀⠀⠀⠀⠀⠀⠀⠀⠀⠀⠀⠀⠀⠀⠀⠀⠀⠀⠀⠀⠀⠀⠀⠀⠀⠀⠀\u001b[0m \n",
       "    \u001b[38;5;8m⠀\u001b[0m⠀⠀⠀⠀⠀⠀⠀⠀⠀⠀⠀⠀⠀⠀⠀⠀⠀⠀⠀⠀⠀⠀⠀⠀⠀⠀⠀⠀⠀⠀⠀⠀⠀⠀⠀⠀⠀⠀⠀⠀⠀⠀⠀⠀⠀⠀⠀⠀⠀⠀⠀⠀⠀⠀⠀⠀⠀⠀⠀⠀⠀⠀⠀⠀⠀⠀⠀⠀⠀⠀\u001b[38;5;8m⠀\u001b[0m \n",
       "    \u001b[38;5;8m⠀\u001b[0m⠀⠀⠀⠀⠀⠀⠀⠀⠀⠀⠀⠀⠀⠀⠀⠀⠀⠀⠀⠀⠀⠀⠀⠀⠀⠀⠀⠀⠀⠀⠀⠀⠀⠀⠀⠀⠀⠀⠀⠀⠀⠀⠀⠀⠀⠀⠀⠀⠀⠀⠀⠀⠀⠀⠀⠀⠀⠀⠀⠀⠀⠀⠀⠀⠀⠀⠀⠀⠀⠀\u001b[38;5;8m⠀\u001b[0m \n",
       "    \u001b[38;5;8m⠀\u001b[0m⠀⠀⠀⠀⠀⠀⠀⠀⠀⠀⠀⠀⠀⠀⠀⠀⠀⠀⠀⠀⠀⠀⠀⠀⠀⠀⠀⠀⠀⠀⠀⠀⠀⠀⠀⠀⠀⠀⠀⠀⠀⠀⠀⠀⠀⠀⠀⠀⠀⠀⠀⠀⠀⠀⠀⠀⠀⠀⠀⠀⠀⠀⠀⠀⠀⠀⠀⠀⠀⠀\u001b[38;5;8m⠀\u001b[0m \n",
       "    \u001b[38;5;8m⠀\u001b[0m⠀⠀⠀⠀⠀⠀⠀⠀⠀⠀⠀⠀⠀⠀⠀⠀⠀⠀⠀⠀⠀⠀⠀⠀⠀⠀⠀⠀⠀⠀⠀⠀⠀⠀⠀⠀⠀⠀⠀⠀⠀⠀⠀⠀⠀⠀⠀⠀⠀⠀⠀⠀⠀⠀⠀⠀⠀⠀⠀⠀⠀⠀⠀⠀⠀⠀⠀⠀⠀⠀\u001b[38;5;8m⠀\u001b[0m \n",
       "    \u001b[38;5;8m⠀\u001b[0m⠀⠀⠀⠀⠀⠀⠀⠀⠀⠀⠀⠀⠀⠀⠀⠀⠀⠀⠀⠀⠀⠀⠀⠀⠀⠀⠀⠀⠀⠀⠀⠀⠀⠀⠀⠀⠀⠀⠀⠀⠀⠀⠀⠀⠀⠀⠀⠀⠀⠀⠀⠀⠀⠀⠀⠀⠀⠀⠀⠀⠀⠀⠀⠀⠀⠀⠀⠀⠀⠀\u001b[38;5;8m⠀\u001b[0m \n",
       "    \u001b[38;5;8m⠀\u001b[0m⠀⠀⠀⠀⠀⠀⠀⠀⠀⠀⠀⠀⠀⠀⠀⠀⠀⠀⠀⠀⠀⠀⠀⠀⠀⠀⠀⠀⠀⠀⠀⠀⠀⠀⠀⠀⠀⠀⠀⠀⠀⠀⠀⠀⠀⠀⠀⠀⠀⠀⠀⠀⠀⠀⠀⠀⠀⠀⠀⠀⠀⠀⠀⠀⠀⠀⠀⠀⠀⠀\u001b[38;5;8m⠀\u001b[0m \n",
       "    \u001b[38;5;8m⠀\u001b[0m⠀⠀⠀⠀⠀⠀⠀⠀⠀⠀⠀⠀⠀⠀⠀⠀⠀⠀⠀⠀⠀⠀⠀⠀⠀⠀⠀⠀⠀⠀⠀⠀⠀⠀⠀⠀⠀⠀⠀⠀⠀⠀⠀⠀⠀⠀⠀⠀⠀⠀⠀⠀⠀⠀⠀⠀⠀⠀⠀⠀⠀⠀⠀⠀⠀⠀⠀⠀⠀⠀\u001b[38;5;8m⠀\u001b[0m \n",
       "    \u001b[38;5;8m⠀\u001b[0m⠀⠀⠀⠀⠀⠀⠀⠀⠀⠀⠀⠀⠀⠀⠀⠀⠀⠀⠀⠀⠀⠀⠀⠀⠀⠀⠀⠀⠀H(2, 3)⠀⠀⠀⠀⠀⠀⠀⠀⠀⠀⠀⠀⠀⠀⠀⠀⠀⠀⠀⠀⠀⠀⠀⠀⠀⠀⠀⠀⠀⠀⠀⠀⠀⠀\u001b[38;5;8m⠀\u001b[0m \n",
       "    \u001b[38;5;8m⠀\u001b[0m⠀⠀⠀⠀⠀⠀⠀⠀⠀⠀⠀⠀⠀⠀⠀⠀⠀⠀⠀⠀⠀⠀⠀⠀⠀⠀⠀⠀⠀(2)'⊗2⠀⠀⠀⠀⠀⠀⠀⠀⠀⠀⠀⠀⠀⠀⠀⠀⠀⠀⠀⠀⠀⠀⠀⠀⠀⠀⠀⠀⠀⠀⠀⠀⠀⠀⠀\u001b[38;5;8m⠀\u001b[0m \n",
       "    \u001b[38;5;8m⠀\u001b[0m⠀⠀⠀⠀⠀⠀⠀⠀⠀⠀⠀⠀⠀⠀⠀⠀⠀⠀⠀⠀⠀⠀⠀⠀⠀⠀⠀⠀⠀⠀⠀⠀5⠀⠀⠀⠀⠀⠀⠀⠀⠀⠀⠀⠀⠀⠀⠀⠀⠀⠀⠀⠀⠀⠀⠀⠀⠀⠀⠀⠀⠀⠀⠀⠀⠀⠀⠀⠀⠀\u001b[38;5;8m⠀\u001b[0m \n",
       "    \u001b[38;5;8m⠀\u001b[0m⠀⠀⠀⠀⠀⠀⠀⠀⠀⠀⠀⠀⠀⠀⠀⠀⠀⠀⠀⠀⠀⠀⠀⠀⠀⠀⠀⠀⠀⠀⠀⠀\u001b[38;5;4m⢸\u001b[0m⠀⠀⠀⠀⠀⠀⠀⠀⠀⠀⠀⠀⠀⠀⠀⠀⠀⠀⠀⠀⠀⠀⠀⠀⠀⠀⠀⠀⠀⠀⠀⠀⠀⠀⠀⠀⠀\u001b[38;5;8m⠀\u001b[0m \n",
       "    \u001b[38;5;8m⠀\u001b[0m⠀⠀⠀⠀⠀⠀⠀⠀⠀⠀⠀⠀⠀⠀⠀⠀⠀⠀⠀⠀⠀⠀⠀⠀⠀⠀⠀⠀⠀H(2, 2)⠀⠀⠀⠀⠀⠀⠀⠀⠀⠀⠀⠀⠀⠀⠀⠀⠀⠀⠀⠀⠀⠀⠀⠀⠀⠀⠀⠀⠀⠀⠀⠀⠀⠀\u001b[38;5;8m⠀\u001b[0m \n",
       "    \u001b[38;5;8m⠀\u001b[0m⠀⠀⠀⠀⠀⠀⠀⠀⠀⠀⠀⠀⠀⠀⠀⠀⠀⠀⠀⠀⠀⠀⠀⠀⠀⠀⠀⠀⠀⠀⠀⠀\u001b[38;5;4m⢸\u001b[0m\u001b[38;5;4m⡆\u001b[0m⠀⠀⠀⠀⠀⠀⠀⠀⠀⠀⠀⠀⠀⠀⠀⠀⠀⠀⠀⠀H(3, 3)⠀⠀⠀⠀⠀⠀⠀⠀⠀\u001b[38;5;8m⠀\u001b[0m \n",
       "    \u001b[38;5;8m⠀\u001b[0m⠀⠀⠀⠀⠀⠀⠀⠀⠀⠀⠀⠀⠀⠀⠀⠀⠀⠀⠀⠀⠀⠀⠀⠀⠀⠀⠀⠀⠀(2)'⊗2⠀⠀⠀⠀⠀⠀⠀⠀⠀⠀⠀⠀⠀⠀⠀⠀⠀⠀⠀⠀⠀\u001b[38;5;4m⡰\u001b[0m\u001b[38;5;4m⡇\u001b[0m⠀⠀⠀⠀⠀⠀⠀⠀⠀⠀⠀⠀\u001b[38;5;8m⠀\u001b[0m \n",
       "    \u001b[38;5;8m⠀\u001b[0m⠀⠀⠀⠀⠀⠀⠀⠀⠀⠀⠀⠀⠀⠀⠀⠀⠀⠀⠀⠀⠀⠀⠀⠀⠀⠀⠀⠀⠀⠀⠀⠀\u001b[38;5;4m⠘\u001b[0m8⠀⠀⠀⠀⠀⠀⠀⠀⠀⠀⠀⠀⠀⠀⠀⠀⠀⠀⠀⠀(2)'⊗2⠀⠀⠀⠀⠀⠀⠀⠀⠀⠀\u001b[38;5;8m⠀\u001b[0m \n",
       "    \u001b[38;5;8m⠀\u001b[0m⠀⠀⠀⠀⠀⠀⠀⠀⠀⠀⠀⠀⠀⠀⠀⠀⠀⠀⠀⠀⠀⠀⠀⠀⠀⠀⠀⠀⠀⠀⠀⠀⠀\u001b[38;5;4m⠈\u001b[0m\u001b[38;5;4m⡆\u001b[0m⠀⠀⠀⠀⠀⠀⠀⠀⠀⠀⠀⠀⠀⠀⠀⠀⠀⠀\u001b[38;5;4m⢀\u001b[0m\u001b[38;5;4m⠎\u001b[0m⠀⠀\u001b[38;5;4m⠃\u001b[0m⠀⠀⠀⠀⠀⠀⠀⠀⠀⠀⠀⠀\u001b[38;5;8m⠀\u001b[0m \n",
       "    \u001b[38;5;8m⠀\u001b[0m⠀⠀⠀⠀⠀⠀⠀⠀⠀⠀⠀⠀⠀⠀⠀⠀⠀⠀⠀⠀⠀⠀⠀⠀⠀⠀⠀⠀⠀⠀⠀⠀⠀⠀\u001b[38;5;4m⡇\u001b[0m⠀⠀⠀⠀⠀⠀⠀⠀⠀⠀⠀⠀⠀⠀⠀H(3, 2)⠀⠀⠀⠀⠀⠀⠀⠀⠀⠀⠀⠀⠀\u001b[38;5;8m⠀\u001b[0m \n",
       "    \u001b[38;5;8m⠀\u001b[0m⠀⠀⠀⠀⠀⠀⠀⠀⠀⠀⠀⠀⠀⠀⠀⠀⠀⠀⠀⠀⠀⠀⠀⠀⠀⠀⠀\u001b[38;5;4m⢀\u001b[0m\u001b[38;5;4m⣀\u001b[0m8\u001b[38;5;4m⠤\u001b[0mH(2, 1)\u001b[38;5;4m⡀\u001b[0m⠀⠀⠀⠀⠀⠀⠀⠀⠀⠀⠀(2)'⊗2⠀⠀⠀⠀⠀⠀⠀⠀⠀⠀⠀⠀⠀⠀\u001b[38;5;8m⠀\u001b[0m \n",
       "    \u001b[38;5;8m⠀\u001b[0m⠀⠀⠀⠀⠀⠀⠀⠀⠀⠀⠀⠀⠀⠀⠀⠀⠀⠀8\u001b[38;5;4m⣀\u001b[0mH(1, 1)\u001b[38;5;4m⠁\u001b[0m⠀⠀⠀(2)'⊗2⠀\u001b[38;5;4m⠈\u001b[0m\u001b[38;5;4m⠑\u001b[0m8\u001b[38;5;4m⢄\u001b[0m\u001b[38;5;4m⡀\u001b[0m⠀⠀⠀⠀⠀\u001b[38;5;4m⡠\u001b[0m8⠀⠀⠀\u001b[38;5;4m⡇\u001b[0m⠀⠀⠀⠀⠀⠀⠀⠀⠀⠀⠀⠀⠀⠀⠀⠀\u001b[38;5;8m⠀\u001b[0m \n",
       "    \u001b[38;5;8m⠀\u001b[0m⠀⠀⠀⠀⠀⠀\u001b[38;5;4m⢀\u001b[0m\u001b[38;5;4m⣀\u001b[0m\u001b[38;5;4m⣀\u001b[0m5H(1, 2)\u001b[38;5;4m⠉\u001b[0m⠀⠀(2)'⊗2⠀⠀⠀⠀⠀⠀⠀⠀\u001b[38;5;4m⠸\u001b[0m⠀⠀⠀⠀⠀⠀⠀\u001b[38;5;4m⠈\u001b[0mH(3, 1)⠀⠀⠀⠀⠀⠀⠀⠀⠀⠀⠀⠀⠀⠀⠀⠀⠀⠀⠀⠀\u001b[38;5;8m⠀\u001b[0m \n",
       "    \u001b[38;5;8m⠀\u001b[0m⠀⠀H(1, 3)⠀(2)'⊗2⠀⠀⠀⠀⠀⠀⠀\u001b[38;5;4m⢸\u001b[0m⠀⠀⠀⠀⠀⠀⠀⠀⠀⠀⠀⠀⠀⠀⠀⠀⠀⠀⠀⠀⠀⠀\u001b[38;5;4m⡟\u001b[0m\u001b[38;5;4m⢄\u001b[0m⠀⠀⠀⠀⠀⠀⠀⠀⠀⠀⠀⠀⠀⠀⠀⠀⠀⠀⠀⠀⠀⠀\u001b[38;5;8m⠀\u001b[0m \n",
       "    \u001b[38;5;8m⠀\u001b[0m⠀⠀(2)'⊗2⠀⠀⠀⠀⠀\u001b[38;5;4m⢸\u001b[0m⠀⠀⠀⠀⠀⠀⠀⠀⠀⠀⠀⠀⠀⠀⠀⠀⠀⠀⠀⠀⠀⠀⠀⠀⠀⠀⠀⠀⠀(2)'⊗2⠀⠀⠀⠀⠀⠀⠀⠀⠀⠀⠀⠀⠀⠀⠀⠀⠀⠀⠀⠀⠀\u001b[38;5;8m⠀\u001b[0m \n",
       "    \u001b[38;5;8m⠀\u001b[0m⠀⠀⠀⠀⠀\u001b[38;5;4m⠸\u001b[0m⠀⠀⠀⠀⠀⠀⠀⠀⠀⠀⠀⠀⠀⠀⠀⠀⠀⠀⠀⠀⠀⠀⠀⠀⠀⠀⠀⠀⠀⠀⠀⠀⠀⠀⠀⠀⠀⠀⠀⠀\u001b[38;5;4m⠃\u001b[0m⠀⠀8\u001b[38;5;4m⡀\u001b[0m⠀⠀⠀⠀⠀⠀⠀⠀⠀⠀⠀⠀⠀⠀⠀⠀⠀⠀⠀\u001b[38;5;8m⠀\u001b[0m \n",
       "    \u001b[38;5;8m⠀\u001b[0m⠀⠀⠀⠀⠀⠀⠀⠀⠀⠀⠀⠀⠀⠀⠀⠀⠀⠀⠀⠀⠀⠀⠀⠀⠀⠀⠀⠀⠀⠀⠀⠀⠀⠀⠀⠀⠀⠀⠀⠀⠀⠀⠀⠀⠀⠀⠀⠀⠀⠀\u001b[38;5;4m⠘\u001b[0m\u001b[38;5;4m⢄\u001b[0m⠀⠀⠀⠀⠀⠀⠀⠀⠀⠀⠀⠀⠀⠀⠀⠀⠀⠀\u001b[38;5;8m⠀\u001b[0m \n",
       "    \u001b[38;5;8m⠀\u001b[0m⠀⠀⠀⠀⠀⠀⠀⠀⠀⠀⠀⠀⠀⠀⠀⠀⠀⠀⠀⠀⠀⠀⠀⠀⠀⠀⠀⠀⠀⠀⠀⠀⠀⠀⠀⠀⠀⠀⠀⠀⠀⠀⠀⠀⠀⠀⠀⠀⠀⠀H(4, 1)⠀⠀⠀⠀⠀⠀⠀⠀⠀⠀⠀⠀⠀\u001b[38;5;8m⠀\u001b[0m \n",
       "    \u001b[38;5;8m⠀\u001b[0m⠀⠀⠀⠀⠀⠀⠀⠀⠀⠀⠀⠀⠀⠀⠀⠀⠀⠀⠀⠀⠀⠀⠀⠀⠀⠀⠀⠀⠀⠀⠀⠀⠀⠀⠀⠀⠀⠀⠀⠀⠀⠀⠀⠀⠀⠀⠀⠀⠀⠀⠀⠀⠀\u001b[38;5;4m⡗\u001b[0m\u001b[38;5;4m⡄\u001b[0m⠀⠀⠀⠀⠀⠀⠀⠀⠀⠀⠀⠀⠀⠀⠀\u001b[38;5;8m⠀\u001b[0m \n",
       "    \u001b[38;5;8m⠀\u001b[0m⠀⠀⠀⠀⠀⠀⠀⠀⠀⠀⠀⠀⠀⠀⠀⠀⠀⠀⠀⠀⠀⠀⠀⠀⠀⠀⠀⠀⠀⠀⠀⠀⠀⠀⠀⠀⠀⠀⠀⠀⠀⠀⠀⠀⠀⠀⠀⠀⠀⠀(2)'⊗2⠀⠀⠀⠀⠀⠀⠀⠀⠀⠀⠀⠀⠀⠀\u001b[38;5;8m⠀\u001b[0m \n",
       "    \u001b[38;5;8m⠀\u001b[0m⠀⠀⠀⠀⠀⠀⠀⠀⠀⠀⠀⠀⠀⠀⠀⠀⠀⠀⠀⠀⠀⠀⠀⠀⠀⠀⠀⠀⠀⠀⠀⠀⠀⠀⠀⠀⠀⠀⠀⠀⠀⠀⠀⠀⠀⠀⠀⠀⠀⠀⠀⠀⠀\u001b[38;5;4m⠃\u001b[0m⠀⠀8\u001b[38;5;4m⡀\u001b[0m⠀⠀⠀⠀⠀⠀⠀⠀⠀⠀⠀⠀\u001b[38;5;8m⠀\u001b[0m \n",
       "    \u001b[38;5;8m⠀\u001b[0m⠀⠀⠀⠀⠀⠀⠀⠀⠀⠀⠀⠀⠀⠀⠀⠀⠀⠀⠀⠀⠀⠀⠀⠀⠀⠀⠀⠀⠀⠀⠀⠀⠀⠀⠀⠀⠀⠀⠀⠀⠀⠀⠀⠀⠀⠀⠀⠀⠀⠀⠀⠀⠀⠀⠀⠀⠀\u001b[38;5;4m⠈\u001b[0m\u001b[38;5;4m⢆\u001b[0m⠀⠀⠀⠀⠀⠀⠀⠀⠀⠀⠀\u001b[38;5;8m⠀\u001b[0m \n",
       "    \u001b[38;5;8m⠀\u001b[0m⠀⠀⠀⠀⠀⠀⠀⠀⠀⠀⠀⠀⠀⠀⠀⠀⠀⠀⠀⠀⠀⠀⠀⠀⠀⠀⠀⠀⠀⠀⠀⠀⠀⠀⠀⠀⠀⠀⠀⠀⠀⠀⠀⠀⠀⠀⠀⠀⠀⠀⠀⠀⠀⠀⠀⠀H(4, 2)⠀⠀⠀⠀⠀⠀⠀\u001b[38;5;8m⠀\u001b[0m \n",
       "    \u001b[38;5;8m⠀\u001b[0m⠀⠀⠀⠀⠀⠀⠀⠀⠀⠀⠀⠀⠀⠀⠀⠀⠀⠀⠀⠀⠀⠀⠀⠀⠀⠀⠀⠀⠀⠀⠀⠀⠀⠀⠀⠀⠀⠀⠀⠀⠀⠀⠀⠀⠀⠀⠀⠀⠀⠀⠀⠀⠀⠀⠀⠀(2)'⊗5⠀⠀⠀⠀⠀⠀⠀⠀\u001b[38;5;8m⠀\u001b[0m \n",
       "    \u001b[38;5;8m⠀\u001b[0m⠀⠀⠀⠀⠀⠀⠀⠀⠀⠀⠀⠀⠀⠀⠀⠀⠀⠀⠀⠀⠀⠀⠀⠀⠀⠀⠀⠀⠀⠀⠀⠀⠀⠀⠀⠀⠀⠀⠀⠀⠀⠀⠀⠀⠀⠀⠀⠀⠀⠀⠀⠀⠀⠀⠀⠀⠀⠀⠀\u001b[38;5;4m⠇\u001b[0m⠀⠀\u001b[38;5;4m⠱\u001b[0m\u001b[38;5;4m⡀\u001b[0m⠀⠀⠀⠀⠀⠀\u001b[38;5;8m⠀\u001b[0m \n",
       "    \u001b[38;5;8m⠀\u001b[0m⠀⠀⠀⠀⠀⠀⠀⠀⠀⠀⠀⠀⠀⠀⠀⠀⠀⠀⠀⠀⠀⠀⠀⠀⠀⠀⠀⠀⠀⠀⠀⠀⠀⠀⠀⠀⠀⠀⠀⠀⠀⠀⠀⠀⠀⠀⠀⠀⠀⠀⠀⠀⠀⠀⠀⠀⠀⠀⠀⠀⠀H(4, 3)⠀⠀\u001b[38;5;8m⠀\u001b[0m \n",
       "    \u001b[38;5;8m⠀\u001b[0m⠀⠀⠀⠀⠀⠀⠀⠀⠀⠀⠀⠀⠀⠀⠀⠀⠀⠀⠀⠀⠀⠀⠀⠀⠀⠀⠀⠀⠀⠀⠀⠀⠀⠀⠀⠀⠀⠀⠀⠀⠀⠀⠀⠀⠀⠀⠀⠀⠀⠀⠀⠀⠀⠀⠀⠀⠀⠀⠀⠀⠀(2)'⊗2⠀⠀⠀\u001b[38;5;8m⠀\u001b[0m \n",
       "    \u001b[38;5;8m⠀\u001b[0m⠀⠀⠀⠀⠀⠀⠀⠀⠀⠀⠀⠀⠀⠀⠀⠀⠀⠀⠀⠀⠀⠀⠀⠀⠀⠀⠀⠀⠀⠀⠀⠀⠀⠀⠀⠀⠀⠀⠀⠀⠀⠀⠀⠀⠀⠀⠀⠀⠀⠀⠀⠀⠀⠀⠀⠀⠀⠀⠀⠀⠀⠀⠀⠀\u001b[38;5;4m⡇\u001b[0m⠀⠀⠀⠀⠀\u001b[38;5;8m⠀\u001b[0m \n",
       "    \u001b[38;5;8m⠀\u001b[0m⠀⠀⠀⠀⠀⠀⠀⠀⠀⠀⠀⠀⠀⠀⠀⠀⠀⠀⠀⠀⠀⠀⠀⠀⠀⠀⠀⠀⠀⠀⠀⠀⠀⠀⠀⠀⠀⠀⠀⠀⠀⠀⠀⠀⠀⠀⠀⠀⠀⠀⠀⠀⠀⠀⠀⠀⠀⠀⠀⠀⠀⠀⠀⠀\u001b[38;5;4m⠁\u001b[0m⠀⠀⠀⠀⠀\u001b[38;5;8m⠀\u001b[0m \n",
       "    \u001b[38;5;8m⠀\u001b[0m⠀⠀⠀⠀⠀⠀⠀⠀⠀⠀⠀⠀⠀⠀⠀⠀⠀⠀⠀⠀⠀⠀⠀⠀⠀⠀⠀⠀⠀⠀⠀⠀⠀⠀⠀⠀⠀⠀⠀⠀⠀⠀⠀⠀⠀⠀⠀⠀⠀⠀⠀⠀⠀⠀⠀⠀⠀⠀⠀⠀⠀⠀⠀⠀⠀⠀⠀⠀⠀⠀\u001b[38;5;8m⠀\u001b[0m \n",
       "    \u001b[38;5;8m⠀\u001b[0m⠀⠀⠀⠀⠀⠀⠀⠀⠀⠀⠀⠀⠀⠀⠀⠀⠀⠀⠀⠀⠀⠀⠀⠀⠀⠀⠀⠀⠀⠀⠀⠀⠀⠀⠀⠀⠀⠀⠀⠀⠀⠀⠀⠀⠀⠀⠀⠀⠀⠀⠀⠀⠀⠀⠀⠀⠀⠀⠀⠀⠀⠀⠀⠀⠀⠀⠀⠀⠀⠀\u001b[38;5;8m⠀\u001b[0m \n",
       "    \u001b[38;5;8m⠀\u001b[0m⠀⠀⠀⠀⠀⠀⠀⠀⠀⠀⠀⠀⠀⠀⠀⠀⠀⠀⠀⠀⠀⠀⠀⠀⠀⠀⠀⠀⠀⠀⠀⠀⠀⠀⠀⠀⠀⠀⠀⠀⠀⠀⠀⠀⠀⠀⠀⠀⠀⠀⠀⠀⠀⠀⠀⠀⠀⠀⠀⠀⠀⠀⠀⠀⠀⠀⠀⠀⠀⠀\u001b[38;5;8m⠀\u001b[0m \n",
       "    \u001b[38;5;8m⠀\u001b[0m⠀⠀⠀⠀⠀⠀⠀⠀⠀⠀⠀⠀⠀⠀⠀⠀⠀⠀⠀⠀⠀⠀⠀⠀⠀⠀⠀⠀⠀⠀⠀⠀⠀⠀⠀⠀⠀⠀⠀⠀⠀⠀⠀⠀⠀⠀⠀⠀⠀⠀⠀⠀⠀⠀⠀⠀⠀⠀⠀⠀⠀⠀⠀⠀⠀⠀⠀⠀⠀⠀\u001b[38;5;8m⠀\u001b[0m \n",
       "    \u001b[38;5;8m⠀⠀⠀⠀⠀⠀⠀⠀⠀⠀⠀⠀⠀⠀⠀⠀⠀⠀⠀⠀⠀⠀⠀⠀⠀⠀⠀⠀⠀⠀⠀⠀⠀⠀⠀⠀⠀⠀⠀⠀⠀⠀⠀⠀⠀⠀⠀⠀⠀⠀⠀⠀⠀⠀⠀⠀⠀⠀⠀⠀⠀⠀⠀⠀⠀⠀⠀⠀⠀⠀⠀⠀\u001b[0m "
      ]
     },
     "metadata": {},
     "output_type": "display_data"
    },
    {
     "data": {
      "text/plain": [
       "TreeTensorNetwork{Tuple{Int64, Int64}} with 12 vertices:\n",
       "12-element Vector{Tuple{Int64, Int64}}:\n",
       " (1, 1)\n",
       " (2, 1)\n",
       " (3, 1)\n",
       " (4, 1)\n",
       " (1, 2)\n",
       " (2, 2)\n",
       " (3, 2)\n",
       " (4, 2)\n",
       " (1, 3)\n",
       " (2, 3)\n",
       " (3, 3)\n",
       " (4, 3)\n",
       "\n",
       "and 11 edge(s):\n",
       "(1, 1) => (2, 1)\n",
       "(1, 1) => (1, 2)\n",
       "(2, 1) => (3, 1)\n",
       "(2, 1) => (2, 2)\n",
       "(3, 1) => (4, 1)\n",
       "(3, 1) => (3, 2)\n",
       "(4, 1) => (4, 2)\n",
       "(1, 2) => (1, 3)\n",
       "(2, 2) => (2, 3)\n",
       "(3, 2) => (3, 3)\n",
       "(4, 2) => (4, 3)\n",
       "\n",
       "with vertex data:\n",
       "12-element Dictionary{Tuple{Int64, Int64}, Any}\n",
       " (1, 1) │ ((dim=8|id=65|\"1×1,1×2\"), (dim=8|id=746|\"1×1,2×1\"), (dim=2|id=54|\"S=1…\n",
       " (2, 1) │ ((dim=8|id=746|\"1×1,2×1\"), (dim=8|id=705|\"2×1,2×2\"), (dim=8|id=894|\"2…\n",
       " (3, 1) │ ((dim=8|id=894|\"2×1,3×1\"), (dim=8|id=644|\"3×1,3×2\"), (dim=8|id=95|\"3×…\n",
       " (4, 1) │ ((dim=8|id=95|\"3×1,4×1\"), (dim=8|id=150|\"4×1,4×2\"), (dim=2|id=408|\"S=…\n",
       " (1, 2) │ ((dim=5|id=819|\"1×2,1×3\"), (dim=8|id=65|\"1×1,1×2\"), (dim=2|id=621|\"S=…\n",
       " (2, 2) │ ((dim=8|id=705|\"2×1,2×2\"), (dim=5|id=333|\"2×2,2×3\"), (dim=2|id=866|\"S…\n",
       " (3, 2) │ ((dim=8|id=644|\"3×1,3×2\"), (dim=5|id=704|\"3×2,3×3\"), (dim=2|id=402|\"S…\n",
       " (4, 2) │ ((dim=8|id=150|\"4×1,4×2\"), (dim=5|id=147|\"4×2,4×3\"), (dim=2|id=125|\"S…\n",
       " (1, 3) │ ((dim=5|id=819|\"1×2,1×3\"), (dim=2|id=687|\"S=1/2,Site,n=1×3\")', (dim=2…\n",
       " (2, 3) │ ((dim=5|id=333|\"2×2,2×3\"), (dim=2|id=210|\"S=1/2,Site,n=2×3\")', (dim=2…\n",
       " (3, 3) │ ((dim=5|id=704|\"3×2,3×3\"), (dim=2|id=685|\"S=1/2,Site,n=3×3\")', (dim=2…\n",
       " (4, 3) │ ((dim=5|id=147|\"4×2,4×3\"), (dim=2|id=320|\"S=1/2,Site,n=4×3\")', (dim=2…"
      ]
     },
     "execution_count": 5,
     "metadata": {},
     "output_type": "execute_result"
    }
   ],
   "source": [
    "H = TTN(Hos, s)\n",
    "@visualize H width=70 height=40"
   ]
  },
  {
   "cell_type": "markdown",
   "metadata": {},
   "source": [
    "This gives a tensor network operator with a maximal bond dimension of 8 in this specific case."
   ]
  },
  {
   "cell_type": "code",
   "execution_count": 6,
   "metadata": {},
   "outputs": [
    {
     "data": {
      "text/plain": [
       "DataGraph{Tuple{Int64, Int64}, Any, Int64, NamedGraph{Tuple{Int64, Int64}}, NamedEdge{Tuple{Int64, Int64}}} with 12 vertices:\n",
       "12-element Vector{Tuple{Int64, Int64}}:\n",
       " (1, 1)\n",
       " (2, 1)\n",
       " (3, 1)\n",
       " (4, 1)\n",
       " (1, 2)\n",
       " (2, 2)\n",
       " (3, 2)\n",
       " (4, 2)\n",
       " (1, 3)\n",
       " (2, 3)\n",
       " (3, 3)\n",
       " (4, 3)\n",
       "\n",
       "and 11 edge(s):\n",
       "(1, 1) => (2, 1)\n",
       "(1, 1) => (1, 2)\n",
       "(2, 1) => (3, 1)\n",
       "(2, 1) => (2, 2)\n",
       "(3, 1) => (4, 1)\n",
       "(3, 1) => (3, 2)\n",
       "(4, 1) => (4, 2)\n",
       "(1, 2) => (1, 3)\n",
       "(2, 2) => (2, 3)\n",
       "(3, 2) => (3, 3)\n",
       "(4, 2) => (4, 3)\n",
       "\n",
       "with vertex data:\n",
       "0-element Dictionary{Tuple{Int64, Int64}, Any}\n",
       "\n",
       "and edge data:\n",
       "11-element Dictionary{NamedEdge{Tuple{Int64, Int64}}, Int64}\n",
       " (1, 1) => (2, 1) │ 8\n",
       " (1, 1) => (1, 2) │ 8\n",
       " (2, 1) => (3, 1) │ 8\n",
       " (2, 1) => (2, 2) │ 8\n",
       " (3, 1) => (4, 1) │ 8\n",
       " (3, 1) => (3, 2) │ 8\n",
       " (4, 1) => (4, 2) │ 8\n",
       " (1, 2) => (1, 3) │ 5\n",
       " (2, 2) => (2, 3) │ 5\n",
       " (3, 2) => (3, 3) │ 5\n",
       " (4, 2) => (4, 3) │ 5"
      ]
     },
     "execution_count": 6,
     "metadata": {},
     "output_type": "execute_result"
    }
   ],
   "source": [
    "linkdims(H)"
   ]
  },
  {
   "cell_type": "markdown",
   "metadata": {},
   "source": [
    "### The Hamiltonian as a finite state machine"
   ]
  },
  {
   "cell_type": "markdown",
   "metadata": {},
   "source": [
    "The automated `OpSum` to `TTN` conversion is performed by first constructing an intermediate symbolic sparse finite state machine representation of the Hamiltonian. This sparse representation is built in the form of a `DataGraph` with `SparseArrayKit.SparseArray`s as vertex data:"
   ]
  },
  {
   "cell_type": "code",
   "execution_count": 7,
   "metadata": {},
   "outputs": [
    {
     "data": {
      "text/plain": [
       "DataGraph{Tuple{Int64, Int64}, SparseArray{Sum{Scaled{Float64, Prod{Op}}}}, Any, NamedGraph{Tuple{Int64, Int64}}, NamedEdge{Tuple{Int64, Int64}}}"
      ]
     },
     "execution_count": 7,
     "metadata": {},
     "output_type": "execute_result"
    }
   ],
   "source": [
    "Hsparse, _ = ITensorNetworks.finite_state_machine(Hos, s, root_vertex)\n",
    "typeof(Hsparse)"
   ]
  },
  {
   "cell_type": "markdown",
   "metadata": {},
   "source": [
    "For each vertex, this sparse array encodes the operators acting on this vertex, and how they connect to other vertices:"
   ]
  },
  {
   "cell_type": "code",
   "execution_count": 8,
   "metadata": {},
   "outputs": [
    {
     "data": {
      "text/plain": [
       "14×14×17 SparseArray{Sum{Scaled{Float64, Prod{Op}}}, 3}:\n",
       "[:, :, 1] =\n",
       " 0.0  0.0  0.0  0.0  0.0  0.0  0.0  …  0.0  0.0  0.0  0.0  1.0 Id((2, 1),)\n",
       " 0.0  0.0  0.0  0.0  0.0  0.0  0.0     0.0  0.0  0.0  0.0  0.0\n",
       " 0.0  0.0  0.0  0.0  0.0  0.0  0.0     0.0  0.0  0.0  0.0  0.0\n",
       " 0.0  0.0  0.0  0.0  0.0  0.0  0.0     0.0  0.0  0.0  0.0  0.0\n",
       " 0.0  0.0  0.0  0.0  0.0  0.0  0.0     0.0  0.0  0.0  0.0  0.0\n",
       " 0.0  0.0  0.0  0.0  0.0  0.0  0.0  …  0.0  0.0  0.0  0.0  0.0\n",
       " 0.0  0.0  0.0  0.0  0.0  0.0  0.0     0.0  0.0  0.0  0.0  0.0\n",
       " 0.0  0.0  0.0  0.0  0.0  0.0  0.0     0.0  0.0  0.0  0.0  0.0\n",
       " 0.0  0.0  0.0  0.0  0.0  0.0  0.0     0.0  0.0  0.0  0.0  0.0\n",
       " 0.0  0.0  0.0  0.0  0.0  0.0  0.0     0.0  0.0  0.0  0.0  0.0\n",
       " 0.0  0.0  0.0  0.0  0.0  0.0  0.0  …  0.0  0.0  0.0  0.0  0.0\n",
       " 0.0  0.0  0.0  0.0  0.0  0.0  0.0     0.0  0.0  0.0  0.0  0.0\n",
       " 0.0  0.0  0.0  0.0  0.0  0.0  0.0     0.0  0.0  0.0  0.0  0.0\n",
       " 0.0  0.0  0.0  0.0  0.0  0.0  0.0     0.0  0.0  0.0  0.0  0.0\n",
       "\n",
       "[:, :, 2] =\n",
       " 0.0  0.0  0.0  0.0  0.0  0.0  0.0  …  0.0  0.0  0.0  0.0  0.0\n",
       " 0.0  0.0  0.0  0.0  0.0  0.0  0.0     0.0  0.0  0.0  0.0  0.0\n",
       " 0.0  0.0  0.0  0.0  0.0  0.0  0.0     0.0  0.0  0.0  0.0  0.0\n",
       " 0.0  0.0  0.0  0.0  0.0  0.0  0.0     0.0  0.0  0.0  0.0  1.0 Id((2, 1),)\n",
       " 0.0  0.0  0.0  0.0  0.0  0.0  0.0     0.0  0.0  0.0  0.0  0.0\n",
       " 0.0  0.0  0.0  0.0  0.0  0.0  0.0  …  0.0  0.0  0.0  0.0  0.0\n",
       " 0.0  0.0  0.0  0.0  0.0  0.0  0.0     0.0  0.0  0.0  0.0  0.0\n",
       " 0.0  0.0  0.0  0.0  0.0  0.0  0.0     0.0  0.0  0.0  0.0  0.0\n",
       " 0.0  0.0  0.0  0.0  0.0  0.0  0.0     0.0  0.0  0.0  0.0  0.0\n",
       " 0.0  0.0  0.0  0.0  0.0  0.0  0.0     0.0  0.0  0.0  0.0  0.0\n",
       " 0.0  0.0  0.0  0.0  0.0  0.0  0.0  …  0.0  0.0  0.0  0.0  0.0\n",
       " 0.0  0.0  0.0  0.0  0.0  0.0  0.0     0.0  0.0  0.0  0.0  0.0\n",
       " 0.0  0.0  0.0  0.0  0.0  0.0  0.0     0.0  0.0  0.0  0.0  0.0\n",
       " 0.0  0.0  0.0  0.0  0.0  0.0  0.0     0.0  0.0  0.0  0.0  0.0\n",
       "\n",
       "[:, :, 3] =\n",
       " 0.0  0.0  0.0  0.0  0.0  0.0  0.0  …  0.0  0.0  0.0  0.0  0.0\n",
       " 0.0  0.0  0.0  0.0  0.0  0.0  0.0     0.0  0.0  0.0  0.0  0.0\n",
       " 0.0  0.0  0.0  0.0  0.0  0.0  0.0     0.0  0.0  0.0  0.0  0.0\n",
       " 0.0  0.0  0.0  0.0  0.0  0.0  0.0     0.0  0.0  0.0  0.0  0.0\n",
       " 0.0  0.0  0.0  0.0  0.0  0.0  0.0     0.0  0.0  0.0  0.0  0.0\n",
       " 0.0  0.0  0.0  0.0  0.0  0.0  0.0  …  0.0  0.0  0.0  0.0  0.0\n",
       " 0.0  0.0  0.0  0.0  0.0  0.0  0.0     0.0  0.0  0.0  0.0  1.0 Id((2, 1),)\n",
       " 0.0  0.0  0.0  0.0  0.0  0.0  0.0     0.0  0.0  0.0  0.0  0.0\n",
       " 0.0  0.0  0.0  0.0  0.0  0.0  0.0     0.0  0.0  0.0  0.0  0.0\n",
       " 0.0  0.0  0.0  0.0  0.0  0.0  0.0     0.0  0.0  0.0  0.0  0.0\n",
       " 0.0  0.0  0.0  0.0  0.0  0.0  0.0  …  0.0  0.0  0.0  0.0  0.0\n",
       " 0.0  0.0  0.0  0.0  0.0  0.0  0.0     0.0  0.0  0.0  0.0  0.0\n",
       " 0.0  0.0  0.0  0.0  0.0  0.0  0.0     0.0  0.0  0.0  0.0  0.0\n",
       " 0.0  0.0  0.0  0.0  0.0  0.0  0.0     0.0  0.0  0.0  0.0  0.0\n",
       "\n",
       ";;; … \n",
       "\n",
       "[:, :, 15] =\n",
       " 0.0  0.0  0.0  0.0  0.0  0.0  0.0  …  0.0  0.0  1.0 Id((2, 1),)  0.0  0.0\n",
       " 0.0  0.0  0.0  0.0  0.0  0.0  0.0     0.0  0.0  0.0              0.0  0.0\n",
       " 0.0  0.0  0.0  0.0  0.0  0.0  0.0     0.0  0.0  0.0              0.0  0.0\n",
       " 0.0  0.0  0.0  0.0  0.0  0.0  0.0     0.0  0.0  0.0              0.0  0.0\n",
       " 0.0  0.0  0.0  0.0  0.0  0.0  0.0     0.0  0.0  0.0              0.0  0.0\n",
       " 0.0  0.0  0.0  0.0  0.0  0.0  0.0  …  0.0  0.0  0.0              0.0  0.0\n",
       " 0.0  0.0  0.0  0.0  0.0  0.0  0.0     0.0  0.0  0.0              0.0  0.0\n",
       " 0.0  0.0  0.0  0.0  0.0  0.0  0.0     0.0  0.0  0.0              0.0  0.0\n",
       " 0.0  0.0  0.0  0.0  0.0  0.0  0.0     0.0  0.0  0.0              0.0  0.0\n",
       " 0.0  0.0  0.0  0.0  0.0  0.0  0.0     0.0  0.0  0.0              0.0  0.0\n",
       " 0.0  0.0  0.0  0.0  0.0  0.0  0.0  …  0.0  0.0  0.0              0.0  0.0\n",
       " 0.0  0.0  0.0  0.0  0.0  0.0  0.0     0.0  0.0  0.0              0.0  0.0\n",
       " 0.0  0.0  0.0  0.0  0.0  0.0  0.0     0.0  0.0  0.0              0.0  0.0\n",
       " 0.0  0.0  0.0  0.0  0.0  0.0  0.0     0.0  0.0  0.0              0.0  0.0\n",
       "\n",
       "[:, :, 16] =\n",
       " 0.0  0.0  0.0  0.0  0.0  0.0  0.0  …  0.0  0.0  0.0  2.0 Id((2, 1),)  0.0\n",
       " 0.0  0.0  0.0  0.0  0.0  0.0  0.0     0.0  0.0  0.0  0.0              0.0\n",
       " 0.0  0.0  0.0  0.0  0.0  0.0  0.0     0.0  0.0  0.0  0.0              0.0\n",
       " 0.0  0.0  0.0  0.0  0.0  0.0  0.0     0.0  0.0  0.0  0.0              0.0\n",
       " 0.0  0.0  0.0  0.0  0.0  0.0  0.0     0.0  0.0  0.0  0.0              0.0\n",
       " 0.0  0.0  0.0  0.0  0.0  0.0  0.0  …  0.0  0.0  0.0  0.0              0.0\n",
       " 0.0  0.0  0.0  0.0  0.0  0.0  0.0     0.0  0.0  0.0  0.0              0.0\n",
       " 0.0  0.0  0.0  0.0  0.0  0.0  0.0     0.0  0.0  0.0  0.0              0.0\n",
       " 0.0  0.0  0.0  0.0  0.0  0.0  0.0     0.0  0.0  0.0  0.0              0.0\n",
       " 0.0  0.0  0.0  0.0  0.0  0.0  0.0     0.0  0.0  0.0  0.0              0.0\n",
       " 0.0  0.0  0.0  0.0  0.0  0.0  0.0  …  0.0  0.0  0.0  0.0              0.0\n",
       " 0.0  0.0  0.0  0.0  0.0  0.0  0.0     0.0  0.0  0.0  0.0              0.0\n",
       " 0.0  0.0  0.0  0.0  0.0  0.0  0.0     0.0  0.0  0.0  0.0              0.0\n",
       " 0.0  0.0  0.0  0.0  0.0  0.0  0.0     0.0  0.0  0.0  0.0              0.0\n",
       "\n",
       "[:, :, 17] =\n",
       " 1.0 Id((2, 1),)  0.0              …  0.0  0.0  0.0  -0.2 Sz((2, 1),)\n",
       " 0.0              0.0                 0.0  0.0  0.0  1.0 S-((2, 1),)\n",
       " 0.0              1.0 Id((2, 1),)     0.0  0.0  0.0  0.0\n",
       " 0.0              0.0                 0.0  0.0  0.0  0.0\n",
       " 0.0              0.0                 0.0  0.0  0.0  1.0 S+((2, 1),)\n",
       " 0.0              0.0              …  0.0  0.0  0.0  0.0\n",
       " 0.0              0.0                 0.0  0.0  0.0  0.0\n",
       " 0.0              0.0                 0.0  0.0  0.0  1.0 Sz((2, 1),)\n",
       " 0.0              0.0                 0.0  0.0  0.0  0.0\n",
       " 0.0              0.0                 0.0  0.0  0.0  0.0\n",
       " 0.0              0.0              …  0.0  0.0  0.0  1.0 S-((2, 1),)\n",
       " 0.0              0.0                 0.0  0.0  0.0  1.0 S+((2, 1),)\n",
       " 0.0              0.0                 0.0  0.0  0.0  1.0 Sz((2, 1),)\n",
       " 0.0              0.0                 0.0  0.0  0.0  1.0 Id((2, 1),)"
      ]
     },
     "execution_count": 8,
     "metadata": {},
     "output_type": "execute_result"
    }
   ],
   "source": [
    "Hsparse[2, 1]"
   ]
  },
  {
   "cell_type": "code",
   "execution_count": 9,
   "metadata": {},
   "outputs": [
    {
     "data": {
      "text/plain": [
       "Dict{CartesianIndex{3}, Sum{Scaled{Float64, Prod{Op}}}} with 34 entries:\n",
       "  CartesianIndex(1, 14, 7)   => 1.0 S+((2, 1),)\n",
       "  CartesianIndex(1, 6, 17)   => 1.0 S+((2, 1),)\n",
       "  CartesianIndex(6, 3, 17)   => 1.0 Id((2, 1),)\n",
       "  CartesianIndex(1, 12, 15)  => 1.0 Id((2, 1),)\n",
       "  CartesianIndex(4, 14, 2)   => 1.0 Id((2, 1),)\n",
       "  CartesianIndex(1, 11, 14)  => 1.0 Id((2, 1),)\n",
       "  CartesianIndex(8, 14, 17)  => 1.0 Sz((2, 1),)\n",
       "  CartesianIndex(1, 14, 13)  => 2.0 Sz((2, 1),)\n",
       "  CartesianIndex(1, 1, 17)   => 1.0 Id((2, 1),)\n",
       "  CartesianIndex(1, 7, 17)   => -0.5 S-((2, 1),)\n",
       "  CartesianIndex(1, 14, 10)  => 1.0 S-((2, 1),)\n",
       "  CartesianIndex(1, 8, 17)   => 1.0 S-((2, 1),)\n",
       "  CartesianIndex(1, 10, 17)  => 2.0 Sz((2, 1),)\n",
       "  CartesianIndex(1, 14, 5)   => -0.5 S+((2, 1),)\n",
       "  CartesianIndex(1, 13, 16)  => 2.0 Id((2, 1),)\n",
       "  CartesianIndex(11, 14, 17) => 1.0 S-((2, 1),)\n",
       "  CartesianIndex(14, 14, 17) => 1.0 Id((2, 1),)\n",
       "  CartesianIndex(13, 14, 17) => 1.0 Sz((2, 1),)\n",
       "  CartesianIndex(3, 2, 17)   => 1.0 Id((2, 1),)\n",
       "  CartesianIndex(1, 14, 12)  => 2.0 Sz((2, 1),)\n",
       "  CartesianIndex(1, 14, 8)   => -0.5 S-((2, 1),)\n",
       "  CartesianIndex(1, 14, 17)  => -0.2 Sz((2, 1),)\n",
       "  CartesianIndex(5, 14, 17)  => 1.0 S+((2, 1),)\n",
       "  CartesianIndex(1, 14, 1)   => 1.0 Id((2, 1),)\n",
       "  CartesianIndex(10, 14, 4)  => 1.0 Id((2, 1),)\n",
       "  ⋮                          => ⋮"
      ]
     },
     "execution_count": 9,
     "metadata": {},
     "output_type": "execute_result"
    }
   ],
   "source": [
    "nonzero_pairs(Hsparse[2, 1])"
   ]
  },
  {
   "cell_type": "markdown",
   "metadata": {},
   "source": [
    "## DMRG on a tree tensor networks"
   ]
  },
  {
   "cell_type": "markdown",
   "metadata": {},
   "source": [
    "Given the Hamiltonian and some initial state, we can find the ground state using the DMRG algorithm. For example, we can run 10 sweeps of 2-site DMRG:"
   ]
  },
  {
   "cell_type": "code",
   "execution_count": 10,
   "metadata": {},
   "outputs": [
    {
     "name": "stdout",
     "output_type": "stream",
     "text": [
      "e = -9.280045336117446 - 1.3327080450627432e-17im\n"
     ]
    }
   ],
   "source": [
    "nsite = 2\n",
    "nsweeps = 10\n",
    "maxdim = 50\n",
    "cutoff = 1e-5\n",
    "outputlevel = 0\n",
    "\n",
    "ψ = dmrg(H, ψ; nsweeps, maxdim, cutoff, nsite, outputlevel)\n",
    "e = inner(ψ', H, ψ) / inner(ψ, ψ)\n",
    "@show e;"
   ]
  },
  {
   "cell_type": "markdown",
   "metadata": {},
   "source": [
    "We can compare this result to what we would get if we would used an MPS optimization instead by snaking an MPS along the comb tree to force it into a linear geometry."
   ]
  },
  {
   "cell_type": "code",
   "execution_count": 11,
   "metadata": {},
   "outputs": [
    {
     "name": "stdout",
     "output_type": "stream",
     "text": [
      "eline = -9.27968424885621\n",
      "abs(inner(ψ', H, ψ) - inner(ψline', Hline, ψline)) = 0.00036108726122741075\n"
     ]
    },
    {
     "data": {
      "text/plain": [
       "0.00036108726122741075"
      ]
     },
     "execution_count": 11,
     "metadata": {},
     "output_type": "execute_result"
    }
   ],
   "source": [
    "snaked_vertices = snake_tree(c)\n",
    "vmap = Dictionary(snaked_vertices, 1:length(snaked_vertices))\n",
    "sline = map(v -> only(s[v]), snaked_vertices)\n",
    "Hline = MPO(relabel_sites(Hos, vmap), sline)\n",
    "\n",
    "ψline = randomMPS(sline; linkdims=χ)\n",
    "eline, ψline = dmrg(Hline, ψline; nsweeps, maxdim, cutoff, nsite, outputlevel)\n",
    "@show eline\n",
    "\n",
    "@show abs(inner(ψ', H, ψ) - inner(ψline', Hline, ψline))"
   ]
  },
  {
   "cell_type": "markdown",
   "metadata": {},
   "source": [
    "As expected we get the exact same result. However, the MPS approach is naturally less compatible with the system geometry, which is evident from the fact that the MPO representation of the Hamiltonian has a larger bond dimension than its corresponding tree version:"
   ]
  },
  {
   "cell_type": "code",
   "execution_count": 12,
   "metadata": {},
   "outputs": [
    {
     "name": "stdout",
     "output_type": "stream",
     "text": [
      "linkdims(Hline) = [5, 8, 8, 8, 11, 8, 8, 11, 8, 8, 5]\n",
      "collect(edge_data(linkdims(H))) = [8, 8, 8, 8, 8, 8, 8, 5, 5, 5, 5]\n"
     ]
    }
   ],
   "source": [
    "# MPO\n",
    "@show linkdims(Hline)\n",
    "\n",
    "# TTN\n",
    "@show collect(edge_data(linkdims(H)));"
   ]
  },
  {
   "cell_type": "markdown",
   "metadata": {},
   "source": [
    "## Upcoming"
   ]
  },
  {
   "cell_type": "markdown",
   "metadata": {},
   "source": [
    "More features will be added to the tree sweeping framework in the near future, such as support for quantum number conservation, the use of custom dynamic sweeping patterns, and more."
   ]
  },
  {
   "cell_type": "code",
   "execution_count": null,
   "metadata": {},
   "outputs": [],
   "source": []
  }
 ],
 "metadata": {
  "kernelspec": {
   "display_name": "Julia 1.9.1",
   "language": "julia",
   "name": "julia-1.9"
  },
  "language_info": {
   "file_extension": ".jl",
   "mimetype": "application/julia",
   "name": "julia",
   "version": "1.9.1"
  }
 },
 "nbformat": 4,
 "nbformat_minor": 4
}
