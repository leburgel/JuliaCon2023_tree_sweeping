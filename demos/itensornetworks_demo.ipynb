{
 "cells": [
  {
   "cell_type": "markdown",
   "metadata": {},
   "source": [
    "# Getting started with [ITensorNetworks.jl](https://github.com/mtfishman/ITensorNetworks.jl)\n",
    "\n",
    "This notebook gives a general introduction to ITensorNetworks.jl, focusing on the representation and manipulation of general networks. Specific algorithms are introduced in other examples."
   ]
  },
  {
   "cell_type": "markdown",
   "metadata": {},
   "source": [
    "## [NamedGraphs.jl](https://github.com/mtfishman/NamedGraphs.jl) and [DataGraphs.jl](https://github.com/mtfishman/DataGraphs.jl)"
   ]
  },
  {
   "cell_type": "markdown",
   "metadata": {},
   "source": [
    "A tensor network can in general be thought of as a graph with tensors located at the graph vertices, where the edges of the graph correspond to contracted tensor indices. In order to represent a general tensor network, or `ITensorNetwork`, we require a corresponding graph data structure. For the local tensors the [ITensors.jl](https://github.com/ITensor/ITensors.jl) package is used, while the graph structure is built on top of [Graphs.jl](https://github.com/JuliaGraphs/Graphs.jl)."
   ]
  },
  {
   "cell_type": "markdown",
   "metadata": {},
   "source": [
    "The graph data of an `ITensorNetwork` is encoded in a `NamedGraph` object from the [NamedGraphs.jl](https://github.com/mtfishman/NamedGraphs.jl) package. This packages introduces graph types with named vertices and edges built on top of the [Graphs.jl](https://github.com/JuliaGraphs/Graphs.jl) package.\n",
    "\n",
    "A `NamedGraph` simply takes a set of names for the vertices of the graph:"
   ]
  },
  {
   "cell_type": "code",
   "execution_count": 1,
   "metadata": {},
   "outputs": [
    {
     "data": {
      "text/plain": [
       "NamedGraph{String} with 4 vertices:\n",
       "4-element Vector{String}:\n",
       " \"A\"\n",
       " \"B\"\n",
       " \"C\"\n",
       " \"D\"\n",
       "\n",
       "and 4 edge(s):\n",
       "\"A\" => \"B\"\n",
       "\"A\" => \"C\"\n",
       "\"B\" => \"D\"\n",
       "\"C\" => \"D\"\n"
      ]
     },
     "execution_count": 1,
     "metadata": {},
     "output_type": "execute_result"
    }
   ],
   "source": [
    "using Graphs: grid, add_vertex!, add_edge!\n",
    "using NamedGraphs\n",
    "\n",
    "g = NamedGraph(grid((2, 2)), [\"A\", \"B\", \"C\", \"D\"])"
   ]
  },
  {
   "cell_type": "markdown",
   "metadata": {},
   "source": [
    "Custom graphs can be constructed by adding vertices and edges in the usual way:"
   ]
  },
  {
   "cell_type": "code",
   "execution_count": 2,
   "metadata": {},
   "outputs": [
    {
     "data": {
      "text/plain": [
       "NamedGraph{String} with 5 vertices:\n",
       "5-element Vector{String}:\n",
       " \"A\"\n",
       " \"B\"\n",
       " \"C\"\n",
       " \"D\"\n",
       " \"E\"\n",
       "\n",
       "and 6 edge(s):\n",
       "\"A\" => \"B\"\n",
       "\"A\" => \"C\"\n",
       "\"B\" => \"D\"\n",
       "\"B\" => \"E\"\n",
       "\"C\" => \"D\"\n",
       "\"D\" => \"E\"\n"
      ]
     },
     "execution_count": 2,
     "metadata": {},
     "output_type": "execute_result"
    }
   ],
   "source": [
    "add_vertex!(g, \"E\")\n",
    "add_edge!(g, \"B\", \"E\")\n",
    "add_edge!(g, \"D\", \"E\")"
   ]
  },
  {
   "cell_type": "markdown",
   "metadata": {},
   "source": [
    "ITensorNetworks.jl provides some nice visualization tools for general graph subtypes:"
   ]
  },
  {
   "cell_type": "code",
   "execution_count": 3,
   "metadata": {},
   "outputs": [
    {
     "data": {
      "text/plain": [
       "    \u001b[38;5;8m⠀⠀⠀⠀⠀⠀⠀⠀⠀⠀⠀⠀⠀⠀⠀⠀⠀⠀⠀⠀⠀⠀⠀⠀⠀⠀⠀⠀⠀⠀⠀⠀⠀⠀⠀⠀⠀⠀⠀⠀⠀⠀⠀⠀⠀⠀⠀⠀⠀⠀⠀⠀\u001b[0m \n",
       "    \u001b[38;5;8m⠀\u001b[0m⠀⠀⠀⠀⠀⠀⠀⠀⠀⠀⠀⠀⠀⠀⠀⠀⠀⠀⠀⠀⠀⠀⠀⠀⠀⠀⠀⠀⠀⠀⠀⠀⠀⠀⠀⠀⠀⠀⠀⠀⠀⠀⠀⠀⠀⠀⠀⠀⠀⠀\u001b[38;5;8m⠀\u001b[0m \n",
       "    \u001b[38;5;8m⠀\u001b[0m⠀⠀⠀⠀⠀⠀⠀⠀⠀⠀⠀⠀⠀⠀⠀⠀⠀⠀⠀⠀⠀⠀⠀⠀⠀⠀⠀⠀⠀⠀⠀⠀⠀⠀⠀⠀⠀⠀⠀⠀⠀⠀⠀⠀⠀⠀⠀⠀⠀⠀\u001b[38;5;8m⠀\u001b[0m \n",
       "    \u001b[38;5;8m⠀\u001b[0m⠀⠀⠀⠀⠀⠀⠀⠀⠀⠀⠀⠀⠀⠀⠀⠀⠀⠀⠀⠀⠀⠀⠀⠀⠀⠀⠀⠀⠀⠀⠀⠀⠀⠀⠀⠀⠀⠀⠀⠀⠀⠀⠀⠀⠀⠀⠀⠀⠀⠀\u001b[38;5;8m⠀\u001b[0m \n",
       "    \u001b[38;5;8m⠀\u001b[0m⠀⠀⠀⠀⠀⠀⠀⠀⠀⠀⠀⠀⠀⠀⠀⠀⠀gE\u001b[38;5;4m⡀\u001b[0m⠀⠀⠀⠀⠀⠀⠀⠀⠀⠀⠀⠀⠀⠀⠀⠀⠀⠀⠀⠀⠀⠀⠀⠀⠀⠀⠀⠀⠀⠀\u001b[38;5;8m⠀\u001b[0m \n",
       "    \u001b[38;5;8m⠀\u001b[0m⠀⠀⠀⠀⠀⠀⠀⠀⠀⠀⠀⠀⠀⠀⠀\u001b[38;5;4m⢀\u001b[0m\u001b[38;5;4m⠤\u001b[0m\u001b[38;5;4m⠊\u001b[0m⠀\u001b[38;5;4m⠈\u001b[0m\u001b[38;5;4m⠑\u001b[0m\u001b[38;5;4m⠢\u001b[0m\u001b[38;5;4m⠤\u001b[0m\u001b[38;5;4m⣀\u001b[0m⠀⠀⠀⠀⠀⠀⠀⠀⠀⠀⠀⠀⠀⠀⠀⠀⠀⠀⠀⠀⠀⠀⠀⠀⠀⠀\u001b[38;5;8m⠀\u001b[0m \n",
       "    \u001b[38;5;8m⠀\u001b[0m⠀⠀⠀⠀⠀⠀⠀⠀⠀⠀⠀⠀⠀\u001b[38;5;4m⡠\u001b[0m\u001b[38;5;4m⠔\u001b[0m\u001b[38;5;4m⠁\u001b[0m⠀⠀⠀⠀⠀⠀⠀⠀\u001b[38;5;4m⠉\u001b[0m\u001b[38;5;4m⠒\u001b[0m\u001b[38;5;4m⠤\u001b[0m\u001b[38;5;4m⣀\u001b[0m⠀⠀⠀⠀⠀⠀⠀⠀⠀⠀⠀⠀⠀⠀⠀⠀⠀⠀⠀⠀⠀⠀\u001b[38;5;8m⠀\u001b[0m \n",
       "    \u001b[38;5;8m⠀\u001b[0m⠀⠀⠀⠀⠀⠀⠀⠀⠀⠀\u001b[38;5;4m⢀\u001b[0m\u001b[38;5;4m⠤\u001b[0m\u001b[38;5;4m⠊\u001b[0m⠀⠀⠀⠀⠀⠀⠀⠀⠀⠀⠀⠀⠀⠀⠀\u001b[38;5;4m⠉\u001b[0m\u001b[38;5;4m⠒\u001b[0m\u001b[38;5;4m⠤\u001b[0m\u001b[38;5;4m⣀\u001b[0m⠀⠀⠀⠀⠀⠀⠀⠀⠀⠀⠀⠀⠀⠀⠀⠀⠀⠀\u001b[38;5;8m⠀\u001b[0m \n",
       "    \u001b[38;5;8m⠀\u001b[0m⠀⠀⠀⠀⠀⠀⠀⠀\u001b[38;5;4m⡠\u001b[0m\u001b[38;5;4m⠔\u001b[0m\u001b[38;5;4m⠁\u001b[0m⠀⠀⠀⠀⠀⠀⠀⠀⠀⠀⠀⠀⠀⠀⠀⠀⠀⠀⠀⠀⠀\u001b[38;5;4m⠉\u001b[0m\u001b[38;5;4m⠑\u001b[0m\u001b[38;5;4m⠢\u001b[0m\u001b[38;5;4m⢄\u001b[0m\u001b[38;5;4m⡀\u001b[0m⠀⠀⠀⠀⠀⠀⠀⠀⠀⠀⠀⠀⠀\u001b[38;5;8m⠀\u001b[0m \n",
       "    \u001b[38;5;8m⠀\u001b[0m⠀⠀⠀⠀⠀\u001b[38;5;4m⢀\u001b[0m\u001b[38;5;4m⠤\u001b[0m\u001b[38;5;4m⠊\u001b[0m⠀⠀⠀⠀⠀⠀⠀⠀⠀⠀⠀⠀⠀⠀⠀⠀⠀⠀⠀⠀⠀⠀⠀⠀⠀⠀⠀\u001b[38;5;4m⢀\u001b[0m\u001b[38;5;4m⣈\u001b[0m\u001b[38;5;4m⣑\u001b[0m\u001b[38;5;4m⣢\u001b[0mgD⠀⠀⠀⠀⠀⠀⠀⠀⠀\u001b[38;5;8m⠀\u001b[0m \n",
       "    \u001b[38;5;8m⠀\u001b[0m⠀⠀⠀gB\u001b[38;5;4m⠓\u001b[0m\u001b[38;5;4m⠒\u001b[0m\u001b[38;5;4m⠒\u001b[0m\u001b[38;5;4m⠒\u001b[0m\u001b[38;5;4m⠒\u001b[0m\u001b[38;5;4m⠒\u001b[0m\u001b[38;5;4m⠒\u001b[0m\u001b[38;5;4m⠒\u001b[0m\u001b[38;5;4m⠒\u001b[0m\u001b[38;5;4m⠒\u001b[0m\u001b[38;5;4m⠒\u001b[0m\u001b[38;5;4m⠒\u001b[0m\u001b[38;5;4m⠒\u001b[0m\u001b[38;5;4m⠒\u001b[0m\u001b[38;5;4m⠒\u001b[0m\u001b[38;5;4m⠉\u001b[0m\u001b[38;5;4m⠉\u001b[0m\u001b[38;5;4m⠉\u001b[0m\u001b[38;5;4m⠉\u001b[0m\u001b[38;5;4m⠉\u001b[0m\u001b[38;5;4m⠉\u001b[0m\u001b[38;5;4m⠉\u001b[0m\u001b[38;5;4m⠉\u001b[0m\u001b[38;5;4m⠉\u001b[0m\u001b[38;5;4m⠉\u001b[0m\u001b[38;5;4m⠉\u001b[0m\u001b[38;5;4m⠉\u001b[0m\u001b[38;5;4m⠉\u001b[0m\u001b[38;5;4m⠉\u001b[0m\u001b[38;5;4m⠉\u001b[0m\u001b[38;5;4m⠁\u001b[0m⠀⠀⠀⠀\u001b[38;5;4m⠱\u001b[0m\u001b[38;5;4m⡀\u001b[0m⠀⠀⠀⠀⠀⠀⠀⠀\u001b[38;5;8m⠀\u001b[0m \n",
       "    \u001b[38;5;8m⠀\u001b[0m⠀⠀⠀⠀\u001b[38;5;4m⢱\u001b[0m⠀⠀⠀⠀⠀⠀⠀⠀⠀⠀⠀⠀⠀⠀⠀⠀⠀⠀⠀⠀⠀⠀⠀⠀⠀⠀⠀⠀⠀⠀⠀⠀⠀⠀⠀⠀\u001b[38;5;4m⢣\u001b[0m⠀⠀⠀⠀⠀⠀⠀⠀\u001b[38;5;8m⠀\u001b[0m \n",
       "    \u001b[38;5;8m⠀\u001b[0m⠀⠀⠀⠀\u001b[38;5;4m⠈\u001b[0m\u001b[38;5;4m⡆\u001b[0m⠀⠀⠀⠀⠀⠀⠀⠀⠀⠀⠀⠀⠀⠀⠀⠀⠀⠀⠀⠀⠀⠀⠀⠀⠀⠀⠀⠀⠀⠀⠀⠀⠀⠀⠀⠀\u001b[38;5;4m⢇\u001b[0m⠀⠀⠀⠀⠀⠀⠀\u001b[38;5;8m⠀\u001b[0m \n",
       "    \u001b[38;5;8m⠀\u001b[0m⠀⠀⠀⠀⠀\u001b[38;5;4m⢱\u001b[0m⠀⠀⠀⠀⠀⠀⠀⠀⠀⠀⠀⠀⠀⠀⠀⠀⠀⠀⠀⠀⠀⠀⠀⠀⠀⠀⠀⠀⠀⠀⠀⠀⠀⠀⠀⠀\u001b[38;5;4m⠈\u001b[0m\u001b[38;5;4m⢆\u001b[0m⠀⠀⠀⠀⠀⠀\u001b[38;5;8m⠀\u001b[0m \n",
       "    \u001b[38;5;8m⠀\u001b[0m⠀⠀⠀⠀⠀\u001b[38;5;4m⠈\u001b[0m\u001b[38;5;4m⡆\u001b[0m⠀⠀⠀⠀⠀⠀⠀⠀⠀⠀⠀⠀⠀⠀⠀⠀⠀⠀⠀⠀⠀⠀⠀⠀⠀⠀⠀⠀⠀⠀⠀⠀⠀⠀⠀⠀\u001b[38;5;4m⠘\u001b[0m\u001b[38;5;4m⡄\u001b[0m⠀⠀⠀⠀⠀\u001b[38;5;8m⠀\u001b[0m \n",
       "    \u001b[38;5;8m⠀\u001b[0m⠀⠀⠀⠀⠀⠀\u001b[38;5;4m⢱\u001b[0m⠀⠀⠀⠀⠀⠀⠀⠀⠀⠀⠀⠀⠀⠀⠀⠀⠀⠀⠀⠀⠀⠀⠀⠀⠀⠀⠀⠀⠀⠀⠀⠀⠀⠀⠀⠀⠀\u001b[38;5;4m⠸\u001b[0m\u001b[38;5;4m⡀\u001b[0m⠀⠀⠀⠀\u001b[38;5;8m⠀\u001b[0m \n",
       "    \u001b[38;5;8m⠀\u001b[0m⠀⠀⠀⠀⠀⠀\u001b[38;5;4m⠈\u001b[0m\u001b[38;5;4m⡆\u001b[0m⠀⠀⠀⠀⠀⠀⠀⠀⠀⠀⠀⠀⠀⠀⠀\u001b[38;5;4m⣀\u001b[0m\u001b[38;5;4m⣀\u001b[0m\u001b[38;5;4m⣀\u001b[0m\u001b[38;5;4m⣀\u001b[0m\u001b[38;5;4m⣀\u001b[0m\u001b[38;5;4m⣀\u001b[0m\u001b[38;5;4m⣀\u001b[0m\u001b[38;5;4m⣀\u001b[0m\u001b[38;5;4m⣀\u001b[0m\u001b[38;5;4m⣀\u001b[0m\u001b[38;5;4m⣀\u001b[0m\u001b[38;5;4m⣀\u001b[0m\u001b[38;5;4m⣀\u001b[0m\u001b[38;5;4m⣀\u001b[0m\u001b[38;5;4m⣀\u001b[0m\u001b[38;5;4m⠤\u001b[0m\u001b[38;5;4m⠤\u001b[0m\u001b[38;5;4m⠤\u001b[0m\u001b[38;5;4m⠤\u001b[0m\u001b[38;5;4m⠤\u001b[0m\u001b[38;5;4m⠤\u001b[0mgC⠀⠀⠀⠀\u001b[38;5;8m⠀\u001b[0m \n",
       "    \u001b[38;5;8m⠀\u001b[0m⠀⠀⠀⠀⠀⠀gA\u001b[38;5;4m⠉\u001b[0m\u001b[38;5;4m⠉\u001b[0m\u001b[38;5;4m⠉\u001b[0m\u001b[38;5;4m⠉\u001b[0m\u001b[38;5;4m⠉\u001b[0m\u001b[38;5;4m⠉\u001b[0m\u001b[38;5;4m⠉\u001b[0m\u001b[38;5;4m⠉\u001b[0m\u001b[38;5;4m⠉\u001b[0m\u001b[38;5;4m⠉\u001b[0m\u001b[38;5;4m⠉\u001b[0m\u001b[38;5;4m⠉\u001b[0m\u001b[38;5;4m⠉\u001b[0m\u001b[38;5;4m⠉\u001b[0m\u001b[38;5;4m⠉\u001b[0m⠀⠀⠀⠀⠀⠀⠀⠀⠀⠀⠀⠀⠀⠀⠀⠀⠀⠀⠀⠀⠀⠀⠀⠀⠀⠀⠀\u001b[38;5;8m⠀\u001b[0m \n",
       "    \u001b[38;5;8m⠀\u001b[0m⠀⠀⠀⠀⠀⠀⠀⠀⠀⠀⠀⠀⠀⠀⠀⠀⠀⠀⠀⠀⠀⠀⠀⠀⠀⠀⠀⠀⠀⠀⠀⠀⠀⠀⠀⠀⠀⠀⠀⠀⠀⠀⠀⠀⠀⠀⠀⠀⠀⠀\u001b[38;5;8m⠀\u001b[0m \n",
       "    \u001b[38;5;8m⠀\u001b[0m⠀⠀⠀⠀⠀⠀⠀⠀⠀⠀⠀⠀⠀⠀⠀⠀⠀⠀⠀⠀⠀⠀⠀⠀⠀⠀⠀⠀⠀⠀⠀⠀⠀⠀⠀⠀⠀⠀⠀⠀⠀⠀⠀⠀⠀⠀⠀⠀⠀⠀\u001b[38;5;8m⠀\u001b[0m \n",
       "    \u001b[38;5;8m⠀\u001b[0m⠀⠀⠀⠀⠀⠀⠀⠀⠀⠀⠀⠀⠀⠀⠀⠀⠀⠀⠀⠀⠀⠀⠀⠀⠀⠀⠀⠀⠀⠀⠀⠀⠀⠀⠀⠀⠀⠀⠀⠀⠀⠀⠀⠀⠀⠀⠀⠀⠀⠀\u001b[38;5;8m⠀\u001b[0m \n",
       "    \u001b[38;5;8m⠀⠀⠀⠀⠀⠀⠀⠀⠀⠀⠀⠀⠀⠀⠀⠀⠀⠀⠀⠀⠀⠀⠀⠀⠀⠀⠀⠀⠀⠀⠀⠀⠀⠀⠀⠀⠀⠀⠀⠀⠀⠀⠀⠀⠀⠀⠀⠀⠀⠀⠀⠀\u001b[0m "
      ]
     },
     "metadata": {},
     "output_type": "display_data"
    }
   ],
   "source": [
    "using ITensorNetworks\n",
    "using ITensorUnicodePlots\n",
    "\n",
    "@visualize g;"
   ]
  },
  {
   "cell_type": "markdown",
   "metadata": {},
   "source": [
    "NamedGraphs.jl also contains some predefined generators for common graphs with a well-defined geometry, such as a grid with tuple vertex labels:"
   ]
  },
  {
   "cell_type": "code",
   "execution_count": 4,
   "metadata": {},
   "outputs": [
    {
     "data": {
      "text/plain": [
       "    \u001b[38;5;8m⠀⠀⠀⠀⠀⠀⠀⠀⠀⠀⠀⠀⠀⠀⠀⠀⠀⠀⠀⠀⠀⠀⠀⠀⠀⠀⠀⠀⠀⠀⠀⠀⠀⠀⠀⠀⠀⠀⠀⠀⠀⠀⠀⠀⠀⠀⠀⠀⠀⠀⠀⠀\u001b[0m \n",
       "    \u001b[38;5;8m⠀\u001b[0m⠀⠀⠀⠀⠀⠀⠀⠀⠀⠀⠀⠀⠀⠀⠀⠀⠀⠀⠀⠀⠀⠀⠀⠀⠀⠀⠀⠀⠀⠀⠀⠀⠀⠀⠀⠀⠀⠀⠀⠀⠀⠀⠀⠀⠀⠀⠀⠀⠀⠀\u001b[38;5;8m⠀\u001b[0m \n",
       "    \u001b[38;5;8m⠀\u001b[0m⠀⠀⠀⠀⠀⠀⠀⠀⠀⠀⠀⠀⠀⠀⠀⠀⠀⠀⠀⠀⠀⠀⠀⠀⠀⠀⠀⠀⠀⠀⠀⠀⠀⠀⠀⠀⠀⠀⠀⠀⠀⠀⠀⠀⠀⠀⠀⠀⠀⠀\u001b[38;5;8m⠀\u001b[0m \n",
       "    \u001b[38;5;8m⠀\u001b[0m⠀⠀⠀⠀⠀⠀⠀⠀⠀⠀⠀⠀⠀⠀⠀⠀⠀⠀⠀⠀⠀⠀⠀⠀⠀⠀⠀⠀⠀⠀⠀⠀⠀⠀⠀⠀⠀⠀⠀⠀⠀⠀⠀⠀⠀⠀⠀⠀⠀⠀\u001b[38;5;8m⠀\u001b[0m \n",
       "    \u001b[38;5;8m⠀\u001b[0m⠀⠀⠀⠀⠀⠀⠀⠀⠀⠀⠀⠀⠀⠀g(1, 1, 2)\u001b[38;5;4m⣀\u001b[0m⠀⠀⠀⠀⠀⠀⠀⠀⠀⠀⠀⠀⠀⠀⠀⠀⠀⠀⠀⠀⠀⠀⠀⠀⠀\u001b[38;5;8m⠀\u001b[0m \n",
       "    \u001b[38;5;8m⠀\u001b[0m⠀⠀⠀⠀⠀⠀⠀⠀⠀⠀⠀⠀⠀⠀⠀\u001b[38;5;4m⣀\u001b[0m\u001b[38;5;4m⠤\u001b[0m\u001b[38;5;4m⠒\u001b[0m\u001b[38;5;4m⠉\u001b[0m\u001b[38;5;4m⢸\u001b[0m⠀⠀⠀⠀⠀\u001b[38;5;4m⠉\u001b[0m\u001b[38;5;4m⠉\u001b[0m\u001b[38;5;4m⠉\u001b[0m\u001b[38;5;4m⠉\u001b[0m\u001b[38;5;4m⠉\u001b[0m\u001b[38;5;4m⠑\u001b[0m\u001b[38;5;4m⠒\u001b[0m\u001b[38;5;4m⠒\u001b[0m\u001b[38;5;4m⠒\u001b[0m\u001b[38;5;4m⠒\u001b[0m\u001b[38;5;4m⠢\u001b[0m\u001b[38;5;4m⠤\u001b[0m\u001b[38;5;4m⠤\u001b[0m\u001b[38;5;4m⠤\u001b[0mg(1, 2, 2)⠀\u001b[38;5;8m⠀\u001b[0m \n",
       "    \u001b[38;5;8m⠀\u001b[0m⠀⠀⠀⠀⠀⠀⠀⠀⠀⠀⠀\u001b[38;5;4m⢀\u001b[0m\u001b[38;5;4m⡠\u001b[0m\u001b[38;5;4m⠒\u001b[0m\u001b[38;5;4m⠉\u001b[0m⠀⠀⠀⠀\u001b[38;5;4m⢸\u001b[0m⠀⠀⠀⠀⠀⠀⠀⠀⠀⠀⠀⠀⠀⠀⠀⠀⠀⠀⠀⠀\u001b[38;5;4m⣀\u001b[0m\u001b[38;5;4m⠤\u001b[0m\u001b[38;5;4m⠒\u001b[0m\u001b[38;5;4m⠉\u001b[0m\u001b[38;5;4m⡇\u001b[0m⠀⠀⠀⠀⠀\u001b[38;5;8m⠀\u001b[0m \n",
       "    \u001b[38;5;8m⠀\u001b[0m⠀⠀⠀⠀⠀⠀⠀\u001b[38;5;4m⢀\u001b[0m\u001b[38;5;4m⡠\u001b[0m\u001b[38;5;4m⠔\u001b[0m\u001b[38;5;4m⠊\u001b[0m\u001b[38;5;4m⠁\u001b[0m⠀⠀⠀⠀⠀⠀⠀⠀\u001b[38;5;4m⡇\u001b[0m⠀⠀⠀⠀⠀⠀⠀⠀⠀⠀⠀⠀⠀⠀⠀\u001b[38;5;4m⢀\u001b[0m\u001b[38;5;4m⡠\u001b[0m\u001b[38;5;4m⠔\u001b[0m\u001b[38;5;4m⠉\u001b[0m⠀⠀⠀⠀\u001b[38;5;4m⢱\u001b[0m⠀⠀⠀⠀⠀\u001b[38;5;8m⠀\u001b[0m \n",
       "    \u001b[38;5;8m⠀\u001b[0m(2, 1, 2)⠀⠀⠀⠀⠀⠀⠀⠀⠀⠀⠀\u001b[38;5;4m⡇\u001b[0m⠀⠀⠀⠀⠀⠀⠀⠀⠀⠀⠀\u001b[38;5;4m⢀\u001b[0m\u001b[38;5;4m⡠\u001b[0m\u001b[38;5;4m⠔\u001b[0m\u001b[38;5;4m⠊\u001b[0m\u001b[38;5;4m⠁\u001b[0m⠀⠀⠀⠀⠀⠀⠀\u001b[38;5;4m⢸\u001b[0m⠀⠀⠀⠀⠀\u001b[38;5;8m⠀\u001b[0m \n",
       "    \u001b[38;5;8m⠀\u001b[0m⠀⠀⠀⠀\u001b[38;5;4m⡇\u001b[0m⠀\u001b[38;5;4m⠉\u001b[0m\u001b[38;5;4m⠉\u001b[0m\u001b[38;5;4m⠉\u001b[0m\u001b[38;5;4m⠉\u001b[0m\u001b[38;5;4m⠉\u001b[0m\u001b[38;5;4m⠉\u001b[0m\u001b[38;5;4m⠉\u001b[0m\u001b[38;5;4m⠒\u001b[0m\u001b[38;5;4m⠒\u001b[0m\u001b[38;5;4m⠒\u001b[0m\u001b[38;5;4m⠒\u001b[0m\u001b[38;5;4m⠒\u001b[0m\u001b[38;5;4m⠒\u001b[0m\u001b[38;5;4m⠒\u001b[0m\u001b[38;5;4m⡧\u001b[0m\u001b[38;5;4m⠤\u001b[0m\u001b[38;5;4m⠤\u001b[0m\u001b[38;5;4m⠤\u001b[0mg(2, 2, 2)⠀⠀⠀⠀⠀⠀⠀⠀⠀⠀\u001b[38;5;4m⠘\u001b[0m\u001b[38;5;4m⡄\u001b[0m⠀⠀⠀⠀\u001b[38;5;8m⠀\u001b[0m \n",
       "    \u001b[38;5;8m⠀\u001b[0m⠀⠀⠀⠀\u001b[38;5;4m⢣\u001b[0m⠀⠀⠀⠀⠀⠀⠀⠀⠀⠀⠀⠀⠀⠀⠀\u001b[38;5;4m⡇\u001b[0m⠀⠀⠀⠀⠀⠀⠀⠀\u001b[38;5;4m⢸\u001b[0m⠀⠀⠀⠀⠀⠀⠀⠀⠀⠀⠀⠀⠀⠀⠀\u001b[38;5;4m⡇\u001b[0m⠀⠀⠀⠀\u001b[38;5;8m⠀\u001b[0m \n",
       "    \u001b[38;5;8m⠀\u001b[0m⠀⠀⠀⠀\u001b[38;5;4m⢸\u001b[0m⠀⠀⠀⠀⠀⠀⠀⠀⠀⠀⠀⠀⠀⠀⠀\u001b[38;5;4m⡇\u001b[0m⠀⠀⠀⠀⠀⠀⠀⠀\u001b[38;5;4m⢸\u001b[0m⠀⠀⠀⠀⠀⠀⠀⠀⠀⠀⠀⠀⠀⠀⠀\u001b[38;5;4m⢇\u001b[0m⠀⠀⠀⠀\u001b[38;5;8m⠀\u001b[0m \n",
       "    \u001b[38;5;8m⠀\u001b[0m⠀⠀⠀⠀\u001b[38;5;4m⠸\u001b[0m\u001b[38;5;4m⡀\u001b[0m⠀⠀⠀⠀⠀⠀⠀⠀⠀g(1, 1, 1)\u001b[38;5;4m⠒\u001b[0m\u001b[38;5;4m⠒\u001b[0m\u001b[38;5;4m⠒\u001b[0m\u001b[38;5;4m⠢\u001b[0m\u001b[38;5;4m⢼\u001b[0m\u001b[38;5;4m⠤\u001b[0m\u001b[38;5;4m⠤\u001b[0m\u001b[38;5;4m⠤\u001b[0m\u001b[38;5;4m⠤\u001b[0m\u001b[38;5;4m⠤\u001b[0m\u001b[38;5;4m⠤\u001b[0m\u001b[38;5;4m⢄\u001b[0m\u001b[38;5;4m⣀\u001b[0m\u001b[38;5;4m⣀\u001b[0m\u001b[38;5;4m⣀\u001b[0m\u001b[38;5;4m⣀\u001b[0m\u001b[38;5;4m⣀\u001b[0m\u001b[38;5;4m⣀\u001b[0m\u001b[38;5;4m⣀\u001b[0m⠀\u001b[38;5;4m⢸\u001b[0m⠀⠀⠀⠀\u001b[38;5;8m⠀\u001b[0m \n",
       "    \u001b[38;5;8m⠀\u001b[0m⠀⠀⠀⠀⠀\u001b[38;5;4m⡇\u001b[0m⠀⠀⠀⠀⠀⠀⠀\u001b[38;5;4m⢀\u001b[0m\u001b[38;5;4m⡠\u001b[0m\u001b[38;5;4m⠔\u001b[0m\u001b[38;5;4m⠊\u001b[0m\u001b[38;5;4m⠁\u001b[0m⠀⠀⠀⠀⠀⠀⠀⠀⠀⠀⠀\u001b[38;5;4m⢸\u001b[0m⠀⠀⠀⠀⠀⠀⠀⠀⠀⠀g(1, 2, 1)\u001b[38;5;8m⠀\u001b[0m \n",
       "    \u001b[38;5;8m⠀\u001b[0m⠀⠀⠀⠀⠀\u001b[38;5;4m⡇\u001b[0m⠀⠀⠀⠀\u001b[38;5;4m⣀\u001b[0m\u001b[38;5;4m⠤\u001b[0m\u001b[38;5;4m⠊\u001b[0m\u001b[38;5;4m⠁\u001b[0m⠀⠀⠀⠀⠀⠀⠀⠀⠀⠀⠀⠀⠀⠀⠀\u001b[38;5;4m⠸\u001b[0m\u001b[38;5;4m⡀\u001b[0m⠀⠀⠀⠀⠀⠀⠀\u001b[38;5;4m⢀\u001b[0m\u001b[38;5;4m⡠\u001b[0m\u001b[38;5;4m⠔\u001b[0m\u001b[38;5;4m⠊\u001b[0m\u001b[38;5;4m⠁\u001b[0m⠀⠀⠀⠀⠀⠀⠀\u001b[38;5;8m⠀\u001b[0m \n",
       "    \u001b[38;5;8m⠀\u001b[0m⠀⠀⠀⠀⠀\u001b[38;5;4m⢸\u001b[0m\u001b[38;5;4m⢀\u001b[0m\u001b[38;5;4m⠤\u001b[0m\u001b[38;5;4m⠒\u001b[0m\u001b[38;5;4m⠉\u001b[0m⠀⠀⠀⠀⠀⠀⠀⠀⠀⠀⠀⠀⠀⠀⠀⠀⠀⠀⠀⠀\u001b[38;5;4m⡇\u001b[0m⠀⠀⠀⠀\u001b[38;5;4m⡠\u001b[0m\u001b[38;5;4m⠔\u001b[0m\u001b[38;5;4m⠊\u001b[0m\u001b[38;5;4m⠁\u001b[0m⠀⠀⠀⠀⠀⠀⠀⠀⠀⠀⠀\u001b[38;5;8m⠀\u001b[0m \n",
       "    \u001b[38;5;8m⠀\u001b[0mg(2, 1, 1)\u001b[38;5;4m⠒\u001b[0m\u001b[38;5;4m⠒\u001b[0m\u001b[38;5;4m⠒\u001b[0m\u001b[38;5;4m⠢\u001b[0m\u001b[38;5;4m⠤\u001b[0m\u001b[38;5;4m⠤\u001b[0m\u001b[38;5;4m⠤\u001b[0m\u001b[38;5;4m⠤\u001b[0m\u001b[38;5;4m⠤\u001b[0m\u001b[38;5;4m⣀\u001b[0m\u001b[38;5;4m⣀\u001b[0m\u001b[38;5;4m⣀\u001b[0m\u001b[38;5;4m⣀\u001b[0m\u001b[38;5;4m⣀\u001b[0m\u001b[38;5;4m⡀\u001b[0m⠀⠀⠀⠀⠀\u001b[38;5;4m⡇\u001b[0m\u001b[38;5;4m⣀\u001b[0m\u001b[38;5;4m⠤\u001b[0m\u001b[38;5;4m⠒\u001b[0m\u001b[38;5;4m⠉\u001b[0m⠀⠀⠀⠀⠀⠀⠀⠀⠀⠀⠀⠀⠀⠀⠀\u001b[38;5;8m⠀\u001b[0m \n",
       "    \u001b[38;5;8m⠀\u001b[0m⠀⠀⠀⠀⠀⠀⠀⠀⠀⠀⠀⠀⠀⠀⠀⠀⠀⠀⠀⠀⠀⠀⠀⠀\u001b[38;5;4m⠈\u001b[0mg(2, 2, 1)⠀⠀⠀⠀⠀⠀⠀⠀⠀⠀⠀⠀⠀⠀⠀\u001b[38;5;8m⠀\u001b[0m \n",
       "    \u001b[38;5;8m⠀\u001b[0m⠀⠀⠀⠀⠀⠀⠀⠀⠀⠀⠀⠀⠀⠀⠀⠀⠀⠀⠀⠀⠀⠀⠀⠀⠀⠀⠀⠀⠀⠀⠀⠀⠀⠀⠀⠀⠀⠀⠀⠀⠀⠀⠀⠀⠀⠀⠀⠀⠀⠀\u001b[38;5;8m⠀\u001b[0m \n",
       "    \u001b[38;5;8m⠀\u001b[0m⠀⠀⠀⠀⠀⠀⠀⠀⠀⠀⠀⠀⠀⠀⠀⠀⠀⠀⠀⠀⠀⠀⠀⠀⠀⠀⠀⠀⠀⠀⠀⠀⠀⠀⠀⠀⠀⠀⠀⠀⠀⠀⠀⠀⠀⠀⠀⠀⠀⠀\u001b[38;5;8m⠀\u001b[0m \n",
       "    \u001b[38;5;8m⠀\u001b[0m⠀⠀⠀⠀⠀⠀⠀⠀⠀⠀⠀⠀⠀⠀⠀⠀⠀⠀⠀⠀⠀⠀⠀⠀⠀⠀⠀⠀⠀⠀⠀⠀⠀⠀⠀⠀⠀⠀⠀⠀⠀⠀⠀⠀⠀⠀⠀⠀⠀⠀\u001b[38;5;8m⠀\u001b[0m \n",
       "    \u001b[38;5;8m⠀⠀⠀⠀⠀⠀⠀⠀⠀⠀⠀⠀⠀⠀⠀⠀⠀⠀⠀⠀⠀⠀⠀⠀⠀⠀⠀⠀⠀⠀⠀⠀⠀⠀⠀⠀⠀⠀⠀⠀⠀⠀⠀⠀⠀⠀⠀⠀⠀⠀⠀⠀\u001b[0m "
      ]
     },
     "metadata": {},
     "output_type": "display_data"
    }
   ],
   "source": [
    "g = named_grid((2, 2, 2))\n",
    "@visualize g;"
   ]
  },
  {
   "cell_type": "markdown",
   "metadata": {},
   "source": [
    "The package [DataGraphs.jl]() provides a `DataGraph` type which wraps an arbitrary graph and keeps track of data on its vertices and edges:"
   ]
  },
  {
   "cell_type": "code",
   "execution_count": 5,
   "metadata": {},
   "outputs": [],
   "source": [
    "using DataGraphs"
   ]
  },
  {
   "cell_type": "code",
   "execution_count": 6,
   "metadata": {},
   "outputs": [
    {
     "name": "stdout",
     "output_type": "stream",
     "text": [
      "search: \u001b[0m\u001b[1mD\u001b[22m\u001b[0m\u001b[1ma\u001b[22m\u001b[0m\u001b[1mt\u001b[22m\u001b[0m\u001b[1ma\u001b[22m\u001b[0m\u001b[1mG\u001b[22m\u001b[0m\u001b[1mr\u001b[22m\u001b[0m\u001b[1ma\u001b[22m\u001b[0m\u001b[1mp\u001b[22m\u001b[0m\u001b[1mh\u001b[22m \u001b[0m\u001b[1mD\u001b[22m\u001b[0m\u001b[1ma\u001b[22m\u001b[0m\u001b[1mt\u001b[22m\u001b[0m\u001b[1ma\u001b[22m\u001b[0m\u001b[1mG\u001b[22m\u001b[0m\u001b[1mr\u001b[22m\u001b[0m\u001b[1ma\u001b[22m\u001b[0m\u001b[1mp\u001b[22m\u001b[0m\u001b[1mh\u001b[22ms \u001b[0m\u001b[1md\u001b[22m\u001b[0m\u001b[1ma\u001b[22m\u001b[0m\u001b[1mt\u001b[22m\u001b[0m\u001b[1ma\u001b[22m_\u001b[0m\u001b[1mg\u001b[22m\u001b[0m\u001b[1mr\u001b[22m\u001b[0m\u001b[1ma\u001b[22m\u001b[0m\u001b[1mp\u001b[22m\u001b[0m\u001b[1mh\u001b[22m Abstract\u001b[0m\u001b[1mD\u001b[22m\u001b[0m\u001b[1ma\u001b[22m\u001b[0m\u001b[1mt\u001b[22m\u001b[0m\u001b[1ma\u001b[22m\u001b[0m\u001b[1mG\u001b[22m\u001b[0m\u001b[1mr\u001b[22m\u001b[0m\u001b[1ma\u001b[22m\u001b[0m\u001b[1mp\u001b[22m\u001b[0m\u001b[1mh\u001b[22m\n",
      "\n"
     ]
    },
    {
     "data": {
      "text/latex": [
       "No documentation found.\n",
       "\n",
       "\\section{Summary}\n",
       "\\begin{verbatim}\n",
       "struct DataGraph{V, VD, ED, G<:Graphs.AbstractGraph, E<:Graphs.AbstractEdge}\n",
       "\\end{verbatim}\n",
       "\\section{Fields}\n",
       "\\begin{verbatim}\n",
       "underlying_graph :: G<:Graphs.AbstractGraph\n",
       "vertex_data      :: Dictionaries.Dictionary{V, VD}\n",
       "edge_data        :: Dictionaries.Dictionary{E<:Graphs.AbstractEdge, ED}\n",
       "\\end{verbatim}\n",
       "\\section{Supertype Hierarchy}\n",
       "\\begin{verbatim}\n",
       "DataGraph{V, VD, ED, G<:Graphs.AbstractGraph, E<:Graphs.AbstractEdge} <: AbstractDataGraph{V, VD, ED} <: Graphs.AbstractGraph{V} <: Any\n",
       "\\end{verbatim}\n"
      ],
      "text/markdown": [
       "No documentation found.\n",
       "\n",
       "# Summary\n",
       "\n",
       "```\n",
       "struct DataGraph{V, VD, ED, G<:Graphs.AbstractGraph, E<:Graphs.AbstractEdge}\n",
       "```\n",
       "\n",
       "# Fields\n",
       "\n",
       "```\n",
       "underlying_graph :: G<:Graphs.AbstractGraph\n",
       "vertex_data      :: Dictionaries.Dictionary{V, VD}\n",
       "edge_data        :: Dictionaries.Dictionary{E<:Graphs.AbstractEdge, ED}\n",
       "```\n",
       "\n",
       "# Supertype Hierarchy\n",
       "\n",
       "```\n",
       "DataGraph{V, VD, ED, G<:Graphs.AbstractGraph, E<:Graphs.AbstractEdge} <: AbstractDataGraph{V, VD, ED} <: Graphs.AbstractGraph{V} <: Any\n",
       "```\n"
      ],
      "text/plain": [
       "  No documentation found.\n",
       "\n",
       "\u001b[1m  Summary\u001b[22m\n",
       "\u001b[1m  ≡≡≡≡≡≡≡≡≡\u001b[22m\n",
       "\n",
       "\u001b[36m  struct DataGraph{V, VD, ED, G<:Graphs.AbstractGraph, E<:Graphs.AbstractEdge}\u001b[39m\n",
       "\n",
       "\u001b[1m  Fields\u001b[22m\n",
       "\u001b[1m  ≡≡≡≡≡≡≡≡\u001b[22m\n",
       "\n",
       "\u001b[36m  underlying_graph :: G<:Graphs.AbstractGraph\u001b[39m\n",
       "\u001b[36m  vertex_data      :: Dictionaries.Dictionary{V, VD}\u001b[39m\n",
       "\u001b[36m  edge_data        :: Dictionaries.Dictionary{E<:Graphs.AbstractEdge, ED}\u001b[39m\n",
       "\n",
       "\u001b[1m  Supertype Hierarchy\u001b[22m\n",
       "\u001b[1m  ≡≡≡≡≡≡≡≡≡≡≡≡≡≡≡≡≡≡≡≡≡\u001b[22m\n",
       "\n",
       "\u001b[36m  DataGraph{V, VD, ED, G<:Graphs.AbstractGraph, E<:Graphs.AbstractEdge} <: AbstractDataGraph{V, VD, ED} <: Graphs.AbstractGraph{V} <: Any\u001b[39m"
      ]
     },
     "execution_count": 6,
     "metadata": {},
     "output_type": "execute_result"
    }
   ],
   "source": [
    "?DataGraph"
   ]
  },
  {
   "cell_type": "markdown",
   "metadata": {},
   "source": [
    "## An `ITensorNetwork`"
   ]
  },
  {
   "cell_type": "markdown",
   "metadata": {},
   "source": [
    "A tensor network can be constructed by specifying the underlying graph and a bond dimension (`link_space`) for the virtual indices of the network:"
   ]
  },
  {
   "cell_type": "code",
   "execution_count": 7,
   "metadata": {},
   "outputs": [
    {
     "data": {
      "text/plain": [
       "    \u001b[38;5;8m⠀⠀⠀⠀⠀⠀⠀⠀⠀⠀⠀⠀⠀⠀⠀⠀⠀⠀⠀⠀⠀⠀⠀⠀⠀⠀⠀⠀⠀⠀⠀⠀⠀⠀⠀⠀⠀⠀⠀⠀⠀⠀⠀⠀⠀⠀⠀⠀⠀⠀⠀⠀\u001b[0m \n",
       "    \u001b[38;5;8m⠀\u001b[0m⠀⠀⠀⠀⠀⠀⠀⠀⠀⠀⠀⠀⠀⠀⠀⠀⠀⠀⠀⠀⠀⠀⠀⠀⠀⠀⠀⠀⠀⠀⠀⠀⠀⠀⠀⠀⠀⠀⠀⠀⠀⠀⠀⠀⠀⠀⠀⠀⠀⠀\u001b[38;5;8m⠀\u001b[0m \n",
       "    \u001b[38;5;8m⠀\u001b[0m⠀⠀⠀⠀⠀⠀⠀⠀⠀⠀⠀⠀⠀⠀⠀⠀⠀⠀⠀⠀⠀⠀⠀⠀⠀⠀⠀⠀⠀⠀⠀⠀⠀⠀⠀⠀⠀⠀⠀⠀⠀⠀⠀⠀⠀⠀⠀⠀⠀⠀\u001b[38;5;8m⠀\u001b[0m \n",
       "    \u001b[38;5;8m⠀\u001b[0m⠀⠀⠀⠀⠀⠀⠀⠀⠀⠀⠀⠀⠀⠀⠀⠀⠀⠀⠀⠀⠀⠀⠀⠀⠀⠀⠀⠀⠀⠀⠀⠀⠀⠀⠀⠀⠀⠀⠀⠀⠀⠀⠀⠀⠀⠀⠀⠀⠀⠀\u001b[38;5;8m⠀\u001b[0m \n",
       "    \u001b[38;5;8m⠀\u001b[0m⠀⠀⠀tn1⠀⠀⠀⠀⠀⠀⠀⠀⠀⠀⠀⠀⠀⠀⠀⠀⠀⠀⠀⠀⠀⠀⠀⠀⠀⠀⠀⠀⠀⠀⠀⠀⠀⠀⠀⠀⠀⠀⠀⠀⠀⠀⠀⠀\u001b[38;5;8m⠀\u001b[0m \n",
       "    \u001b[38;5;8m⠀\u001b[0m⠀⠀⠀⠀⠀\u001b[38;5;4m⠉\u001b[0m\u001b[38;5;4m⠢\u001b[0m\u001b[38;5;4m⢄\u001b[0m\u001b[38;5;4m⡀\u001b[0m⠀⠀⠀⠀⠀⠀⠀⠀⠀⠀⠀⠀⠀⠀⠀⠀⠀⠀⠀⠀⠀⠀⠀⠀⠀⠀⠀⠀⠀⠀⠀⠀⠀⠀⠀⠀⠀⠀⠀⠀⠀\u001b[38;5;8m⠀\u001b[0m \n",
       "    \u001b[38;5;8m⠀\u001b[0m⠀⠀⠀⠀⠀⠀⠀⠀\u001b[38;5;4m⠈\u001b[0m\u001b[38;5;4m⠒\u001b[0m\u001b[38;5;4m⠤\u001b[0m\u001b[38;5;4m⡀\u001b[0m⠀⠀⠀⠀⠀⠀⠀⠀⠀⠀⠀⠀⠀⠀⠀⠀⠀⠀⠀⠀⠀⠀⠀⠀⠀⠀⠀⠀⠀⠀⠀⠀⠀⠀⠀⠀⠀⠀\u001b[38;5;8m⠀\u001b[0m \n",
       "    \u001b[38;5;8m⠀\u001b[0m⠀⠀⠀⠀⠀⠀⠀⠀⠀⠀⠀\u001b[38;5;4m⠈\u001b[0m\u001b[38;5;4m⠑\u001b[0m\u001b[38;5;4m⠢\u001b[0m2⠀⠀⠀⠀⠀⠀⠀⠀⠀⠀⠀⠀⠀⠀⠀⠀⠀⠀⠀⠀⠀⠀⠀⠀⠀⠀⠀⠀⠀⠀⠀⠀⠀⠀⠀\u001b[38;5;8m⠀\u001b[0m \n",
       "    \u001b[38;5;8m⠀\u001b[0m⠀⠀⠀⠀⠀⠀⠀⠀⠀⠀⠀⠀⠀⠀⠀\u001b[38;5;4m⠉\u001b[0m\u001b[38;5;4m⠢\u001b[0m\u001b[38;5;4m⢄\u001b[0m\u001b[38;5;4m⡀\u001b[0m⠀⠀⠀⠀⠀⠀⠀⠀⠀⠀⠀⠀⠀⠀⠀⠀⠀⠀⠀⠀⠀⠀⠀⠀⠀⠀⠀⠀⠀⠀⠀\u001b[38;5;8m⠀\u001b[0m \n",
       "    \u001b[38;5;8m⠀\u001b[0m⠀⠀⠀⠀⠀⠀⠀⠀⠀⠀⠀⠀⠀⠀⠀⠀⠀⠀\u001b[38;5;4m⠈\u001b[0m\u001b[38;5;4m⠒\u001b[0m\u001b[38;5;4m⠤\u001b[0m\u001b[38;5;4m⡀\u001b[0m⠀⠀⠀⠀⠀⠀⠀⠀⠀⠀⠀⠀⠀⠀⠀⠀⠀⠀⠀⠀⠀⠀⠀⠀⠀⠀⠀⠀\u001b[38;5;8m⠀\u001b[0m \n",
       "    \u001b[38;5;8m⠀\u001b[0m⠀⠀⠀⠀⠀⠀⠀⠀⠀⠀⠀⠀⠀⠀⠀⠀⠀⠀⠀⠀⠀\u001b[38;5;4m⠈\u001b[0m\u001b[38;5;4m⠑\u001b[0m\u001b[38;5;4m⠢\u001b[0m\u001b[38;5;4m⣀\u001b[0m⠀⠀⠀⠀⠀⠀⠀⠀⠀⠀⠀⠀⠀⠀⠀⠀⠀⠀⠀⠀⠀⠀⠀⠀⠀\u001b[38;5;8m⠀\u001b[0m \n",
       "    \u001b[38;5;8m⠀\u001b[0m⠀⠀⠀⠀⠀⠀⠀⠀⠀⠀⠀⠀⠀⠀⠀⠀⠀⠀⠀⠀⠀⠀⠀⠀tn2\u001b[38;5;4m⢄\u001b[0m\u001b[38;5;4m⡀\u001b[0m⠀⠀⠀⠀⠀⠀⠀⠀⠀⠀⠀⠀⠀⠀⠀⠀⠀⠀⠀⠀⠀\u001b[38;5;8m⠀\u001b[0m \n",
       "    \u001b[38;5;8m⠀\u001b[0m⠀⠀⠀⠀⠀⠀⠀⠀⠀⠀⠀⠀⠀⠀⠀⠀⠀⠀⠀⠀⠀⠀⠀⠀⠀⠀⠀⠀\u001b[38;5;4m⠈\u001b[0m\u001b[38;5;4m⠑\u001b[0m\u001b[38;5;4m⠤\u001b[0m\u001b[38;5;4m⣀\u001b[0m⠀⠀⠀⠀⠀⠀⠀⠀⠀⠀⠀⠀⠀⠀⠀⠀⠀⠀\u001b[38;5;8m⠀\u001b[0m \n",
       "    \u001b[38;5;8m⠀\u001b[0m⠀⠀⠀⠀⠀⠀⠀⠀⠀⠀⠀⠀⠀⠀⠀⠀⠀⠀⠀⠀⠀⠀⠀⠀⠀⠀⠀⠀⠀⠀⠀⠀\u001b[38;5;4m⠑\u001b[0m\u001b[38;5;4m⠢\u001b[0m\u001b[38;5;4m⢄\u001b[0m⠀⠀⠀⠀⠀⠀⠀⠀⠀⠀⠀⠀⠀⠀⠀\u001b[38;5;8m⠀\u001b[0m \n",
       "    \u001b[38;5;8m⠀\u001b[0m⠀⠀⠀⠀⠀⠀⠀⠀⠀⠀⠀⠀⠀⠀⠀⠀⠀⠀⠀⠀⠀⠀⠀⠀⠀⠀⠀⠀⠀⠀⠀⠀⠀⠀⠀2\u001b[38;5;4m⠒\u001b[0m\u001b[38;5;4m⢄\u001b[0m\u001b[38;5;4m⡀\u001b[0m⠀⠀⠀⠀⠀⠀⠀⠀⠀⠀⠀\u001b[38;5;8m⠀\u001b[0m \n",
       "    \u001b[38;5;8m⠀\u001b[0m⠀⠀⠀⠀⠀⠀⠀⠀⠀⠀⠀⠀⠀⠀⠀⠀⠀⠀⠀⠀⠀⠀⠀⠀⠀⠀⠀⠀⠀⠀⠀⠀⠀⠀⠀⠀⠀⠀\u001b[38;5;4m⠈\u001b[0m\u001b[38;5;4m⠑\u001b[0m\u001b[38;5;4m⠤\u001b[0m\u001b[38;5;4m⣀\u001b[0m⠀⠀⠀⠀⠀⠀⠀⠀\u001b[38;5;8m⠀\u001b[0m \n",
       "    \u001b[38;5;8m⠀\u001b[0m⠀⠀⠀⠀⠀⠀⠀⠀⠀⠀⠀⠀⠀⠀⠀⠀⠀⠀⠀⠀⠀⠀⠀⠀⠀⠀⠀⠀⠀⠀⠀⠀⠀⠀⠀⠀⠀⠀⠀⠀⠀⠀\u001b[38;5;4m⠑\u001b[0m\u001b[38;5;4m⠢\u001b[0m\u001b[38;5;4m⢄\u001b[0m⠀⠀⠀⠀⠀\u001b[38;5;8m⠀\u001b[0m \n",
       "    \u001b[38;5;8m⠀\u001b[0m⠀⠀⠀⠀⠀⠀⠀⠀⠀⠀⠀⠀⠀⠀⠀⠀⠀⠀⠀⠀⠀⠀⠀⠀⠀⠀⠀⠀⠀⠀⠀⠀⠀⠀⠀⠀⠀⠀⠀⠀⠀⠀⠀⠀tn3⠀⠀⠀\u001b[38;5;8m⠀\u001b[0m \n",
       "    \u001b[38;5;8m⠀\u001b[0m⠀⠀⠀⠀⠀⠀⠀⠀⠀⠀⠀⠀⠀⠀⠀⠀⠀⠀⠀⠀⠀⠀⠀⠀⠀⠀⠀⠀⠀⠀⠀⠀⠀⠀⠀⠀⠀⠀⠀⠀⠀⠀⠀⠀⠀⠀⠀⠀⠀⠀\u001b[38;5;8m⠀\u001b[0m \n",
       "    \u001b[38;5;8m⠀\u001b[0m⠀⠀⠀⠀⠀⠀⠀⠀⠀⠀⠀⠀⠀⠀⠀⠀⠀⠀⠀⠀⠀⠀⠀⠀⠀⠀⠀⠀⠀⠀⠀⠀⠀⠀⠀⠀⠀⠀⠀⠀⠀⠀⠀⠀⠀⠀⠀⠀⠀⠀\u001b[38;5;8m⠀\u001b[0m \n",
       "    \u001b[38;5;8m⠀\u001b[0m⠀⠀⠀⠀⠀⠀⠀⠀⠀⠀⠀⠀⠀⠀⠀⠀⠀⠀⠀⠀⠀⠀⠀⠀⠀⠀⠀⠀⠀⠀⠀⠀⠀⠀⠀⠀⠀⠀⠀⠀⠀⠀⠀⠀⠀⠀⠀⠀⠀⠀\u001b[38;5;8m⠀\u001b[0m \n",
       "    \u001b[38;5;8m⠀⠀⠀⠀⠀⠀⠀⠀⠀⠀⠀⠀⠀⠀⠀⠀⠀⠀⠀⠀⠀⠀⠀⠀⠀⠀⠀⠀⠀⠀⠀⠀⠀⠀⠀⠀⠀⠀⠀⠀⠀⠀⠀⠀⠀⠀⠀⠀⠀⠀⠀⠀\u001b[0m "
      ]
     },
     "metadata": {},
     "output_type": "display_data"
    },
    {
     "data": {
      "text/plain": [
       "ITensor ord=2 (dim=2|id=922|\"1,2\") (dim=2|id=371|\"2,3\")\n",
       "NDTensors.EmptyStorage{NDTensors.EmptyNumber, NDTensors.Dense{NDTensors.EmptyNumber, Vector{NDTensors.EmptyNumber}}}"
      ]
     },
     "execution_count": 7,
     "metadata": {},
     "output_type": "execute_result"
    }
   ],
   "source": [
    "using ITensors\n",
    "using ITensorNetworks\n",
    "\n",
    "tn = ITensorNetwork(named_grid(3); link_space=2)\n",
    "@visualize tn;\n",
    "tn[2]\n"
   ]
  },
  {
   "cell_type": "markdown",
   "metadata": {},
   "source": [
    "If we want to represent a quantum state as an `ITensorNetwork`, we can specify the local Hilbert space using the familiar `ITensors.siteinds` interface, which returns a network of `ITensors.Index` objects:"
   ]
  },
  {
   "cell_type": "code",
   "execution_count": 8,
   "metadata": {},
   "outputs": [
    {
     "data": {
      "text/plain": [
       "IndsNetwork{Int64, Index} with 3 vertices:\n",
       "3-element Vector{Int64}:\n",
       " 1\n",
       " 2\n",
       " 3\n",
       "\n",
       "and 2 edge(s):\n",
       "1 => 2\n",
       "2 => 3\n",
       "\n",
       "with vertex data:\n",
       "3-element Dictionaries.Dictionary{Int64, Vector{Index}}\n",
       " 1 │ Index[(dim=2|id=543|\"S=1/2,Site,n=1\")]\n",
       " 2 │ Index[(dim=2|id=265|\"S=1/2,Site,n=2\")]\n",
       " 3 │ Index[(dim=2|id=370|\"S=1/2,Site,n=3\")]\n",
       "\n",
       "and edge data:\n",
       "0-element Dictionaries.Dictionary{NamedEdge{Int64}, Vector{Index}}"
      ]
     },
     "execution_count": 8,
     "metadata": {},
     "output_type": "execute_result"
    }
   ],
   "source": [
    "s = siteinds(\"S=1/2\", named_grid(3))"
   ]
  },
  {
   "cell_type": "markdown",
   "metadata": {},
   "source": [
    "We can then construct quantum states from these site indices:"
   ]
  },
  {
   "cell_type": "code",
   "execution_count": 9,
   "metadata": {},
   "outputs": [
    {
     "data": {
      "text/plain": [
       "    \u001b[38;5;8m⠀⠀⠀⠀⠀⠀⠀⠀⠀⠀⠀⠀⠀⠀⠀⠀⠀⠀⠀⠀⠀⠀⠀⠀⠀⠀⠀⠀⠀⠀⠀⠀⠀⠀⠀⠀⠀⠀⠀⠀⠀⠀⠀⠀⠀⠀⠀⠀⠀⠀⠀⠀\u001b[0m \n",
       "    \u001b[38;5;8m⠀\u001b[0m⠀⠀⠀⠀⠀⠀⠀⠀⠀⠀⠀⠀⠀⠀⠀⠀⠀⠀⠀⠀⠀⠀⠀⠀⠀⠀⠀⠀⠀⠀⠀⠀⠀⠀⠀⠀⠀⠀⠀⠀⠀⠀⠀⠀⠀⠀⠀⠀⠀⠀\u001b[38;5;8m⠀\u001b[0m \n",
       "    \u001b[38;5;8m⠀\u001b[0m⠀⠀⠀⠀⠀⠀⠀⠀⠀⠀⠀⠀⠀⠀⠀⠀⠀⠀⠀⠀⠀⠀⠀⠀⠀⠀⠀⠀⠀⠀⠀⠀⠀⠀⠀⠀⠀⠀⠀⠀⠀⠀⠀⠀⠀⠀⠀⠀⠀⠀\u001b[38;5;8m⠀\u001b[0m \n",
       "    \u001b[38;5;8m⠀\u001b[0m⠀⠀⠀⠀⠀⠀⠀⠀⠀⠀⠀⠀⠀⠀⠀⠀⠀⠀⠀⠀⠀⠀⠀⠀⠀⠀⠀⠀⠀⠀⠀⠀⠀⠀⠀⠀⠀⠀⠀⠀⠀⠀⠀⠀⠀⠀⠀⠀⠀⠀\u001b[38;5;8m⠀\u001b[0m \n",
       "    \u001b[38;5;8m⠀\u001b[0m⠀⠀tn11⠀⠀⠀⠀⠀⠀⠀⠀⠀⠀⠀⠀⠀⠀⠀⠀⠀⠀⠀⠀⠀⠀⠀⠀⠀⠀⠀⠀⠀⠀⠀⠀⠀⠀⠀⠀⠀⠀⠀⠀⠀⠀⠀⠀\u001b[38;5;8m⠀\u001b[0m \n",
       "    \u001b[38;5;8m⠀\u001b[0m⠀⠀⠀⠀\u001b[38;5;4m⡇\u001b[0m\u001b[38;5;4m⠉\u001b[0m\u001b[38;5;4m⠢\u001b[0m\u001b[38;5;4m⢄\u001b[0m\u001b[38;5;4m⡀\u001b[0m⠀⠀⠀⠀⠀⠀⠀⠀⠀⠀⠀⠀⠀⠀⠀⠀⠀⠀⠀⠀⠀⠀⠀⠀⠀⠀⠀⠀⠀⠀⠀⠀⠀⠀⠀⠀⠀⠀⠀⠀⠀\u001b[38;5;8m⠀\u001b[0m \n",
       "    \u001b[38;5;8m⠀\u001b[0m⠀⠀⠀⠀\u001b[38;5;4m⡇\u001b[0m⠀⠀⠀\u001b[38;5;4m⠈\u001b[0m\u001b[38;5;4m⠒\u001b[0m\u001b[38;5;4m⠤\u001b[0m\u001b[38;5;4m⡀\u001b[0m⠀⠀⠀⠀⠀⠀⠀⠀⠀⠀⠀⠀⠀⠀⠀⠀⠀⠀⠀⠀⠀⠀⠀⠀⠀⠀⠀⠀⠀⠀⠀⠀⠀⠀⠀⠀⠀⠀\u001b[38;5;8m⠀\u001b[0m \n",
       "    \u001b[38;5;8m⠀\u001b[0m⠀⠀⠀⠀\u001b[38;5;4m⡇\u001b[0m⠀⠀⠀⠀⠀⠀\u001b[38;5;4m⠈\u001b[0m\u001b[38;5;4m⠑\u001b[0m\u001b[38;5;4m⠢\u001b[0m2⠀⠀⠀⠀⠀⠀⠀⠀⠀⠀⠀⠀⠀⠀⠀⠀⠀⠀⠀⠀⠀⠀⠀⠀⠀⠀⠀⠀⠀⠀⠀⠀⠀⠀⠀\u001b[38;5;8m⠀\u001b[0m \n",
       "    \u001b[38;5;8m⠀\u001b[0m⠀⠀⠀⠀2⠀⠀⠀⠀⠀⠀⠀⠀⠀⠀\u001b[38;5;4m⠉\u001b[0m\u001b[38;5;4m⠢\u001b[0m\u001b[38;5;4m⢄\u001b[0m\u001b[38;5;4m⡀\u001b[0m⠀⠀⠀⠀⠀⠀⠀⠀⠀⠀⠀⠀⠀⠀⠀⠀⠀⠀⠀⠀⠀⠀⠀⠀⠀⠀⠀⠀⠀⠀⠀\u001b[38;5;8m⠀\u001b[0m \n",
       "    \u001b[38;5;8m⠀\u001b[0m⠀⠀⠀⠀\u001b[38;5;4m⡇\u001b[0m⠀⠀⠀⠀⠀⠀⠀⠀⠀⠀⠀⠀⠀\u001b[38;5;4m⠈\u001b[0m\u001b[38;5;4m⠒\u001b[0m\u001b[38;5;4m⠤\u001b[0m\u001b[38;5;4m⡀\u001b[0m⠀⠀⠀⠀⠀⠀⠀⠀⠀⠀⠀⠀⠀⠀⠀⠀⠀⠀⠀⠀⠀⠀⠀⠀⠀⠀⠀⠀\u001b[38;5;8m⠀\u001b[0m \n",
       "    \u001b[38;5;8m⠀\u001b[0m⠀⠀⠀⠀\u001b[38;5;4m⡇\u001b[0m⠀⠀⠀⠀⠀⠀⠀⠀⠀⠀⠀⠀⠀⠀⠀⠀\u001b[38;5;4m⠈\u001b[0m\u001b[38;5;4m⠑\u001b[0m\u001b[38;5;4m⠢\u001b[0m\u001b[38;5;4m⣀\u001b[0m⠀⠀⠀⠀⠀⠀⠀⠀⠀⠀⠀⠀⠀⠀⠀⠀⠀⠀⠀⠀⠀⠀⠀⠀⠀\u001b[38;5;8m⠀\u001b[0m \n",
       "    \u001b[38;5;8m⠀\u001b[0m⠀⠀⠀⠀\u001b[38;5;4m⡇\u001b[0m⠀⠀⠀⠀⠀⠀⠀⠀⠀⠀⠀⠀⠀⠀⠀⠀⠀⠀tn12\u001b[38;5;4m⢄\u001b[0m\u001b[38;5;4m⡀\u001b[0m⠀⠀⠀⠀⠀⠀⠀⠀⠀⠀⠀⠀⠀⠀⠀⠀⠀⠀⠀⠀⠀\u001b[38;5;8m⠀\u001b[0m \n",
       "    \u001b[38;5;8m⠀\u001b[0m⠀⠀⠀⠀\u001b[38;5;4m⠁\u001b[0m⠀⠀⠀⠀⠀⠀⠀⠀⠀⠀⠀⠀⠀⠀⠀⠀⠀⠀⠀⠀\u001b[38;5;4m⡇\u001b[0m⠀⠀\u001b[38;5;4m⠈\u001b[0m\u001b[38;5;4m⠑\u001b[0m\u001b[38;5;4m⠤\u001b[0m\u001b[38;5;4m⣀\u001b[0m⠀⠀⠀⠀⠀⠀⠀⠀⠀⠀⠀⠀⠀⠀⠀⠀⠀⠀\u001b[38;5;8m⠀\u001b[0m \n",
       "    \u001b[38;5;8m⠀\u001b[0m⠀⠀⠀⠀⠀⠀⠀⠀⠀⠀⠀⠀⠀⠀⠀⠀⠀⠀⠀⠀⠀⠀⠀⠀⠀\u001b[38;5;4m⡇\u001b[0m⠀⠀⠀⠀⠀⠀\u001b[38;5;4m⠑\u001b[0m\u001b[38;5;4m⠢\u001b[0m\u001b[38;5;4m⢄\u001b[0m⠀⠀⠀⠀⠀⠀⠀⠀⠀⠀⠀⠀⠀⠀⠀\u001b[38;5;8m⠀\u001b[0m \n",
       "    \u001b[38;5;8m⠀\u001b[0m⠀⠀⠀⠀⠀⠀⠀⠀⠀⠀⠀⠀⠀⠀⠀⠀⠀⠀⠀⠀⠀⠀⠀⠀⠀2⠀⠀⠀⠀⠀⠀⠀⠀⠀2\u001b[38;5;4m⠒\u001b[0m\u001b[38;5;4m⢄\u001b[0m\u001b[38;5;4m⡀\u001b[0m⠀⠀⠀⠀⠀⠀⠀⠀⠀⠀⠀\u001b[38;5;8m⠀\u001b[0m \n",
       "    \u001b[38;5;8m⠀\u001b[0m⠀⠀⠀⠀⠀⠀⠀⠀⠀⠀⠀⠀⠀⠀⠀⠀⠀⠀⠀⠀⠀⠀⠀⠀⠀\u001b[38;5;4m⡇\u001b[0m⠀⠀⠀⠀⠀⠀⠀⠀⠀⠀⠀⠀\u001b[38;5;4m⠈\u001b[0m\u001b[38;5;4m⠑\u001b[0m\u001b[38;5;4m⠤\u001b[0m\u001b[38;5;4m⣀\u001b[0m⠀⠀⠀⠀⠀⠀⠀⠀\u001b[38;5;8m⠀\u001b[0m \n",
       "    \u001b[38;5;8m⠀\u001b[0m⠀⠀⠀⠀⠀⠀⠀⠀⠀⠀⠀⠀⠀⠀⠀⠀⠀⠀⠀⠀⠀⠀⠀⠀⠀\u001b[38;5;4m⡇\u001b[0m⠀⠀⠀⠀⠀⠀⠀⠀⠀⠀⠀⠀⠀⠀⠀⠀\u001b[38;5;4m⠑\u001b[0m\u001b[38;5;4m⠢\u001b[0m\u001b[38;5;4m⢄\u001b[0m⠀⠀⠀⠀⠀\u001b[38;5;8m⠀\u001b[0m \n",
       "    \u001b[38;5;8m⠀\u001b[0m⠀⠀⠀⠀⠀⠀⠀⠀⠀⠀⠀⠀⠀⠀⠀⠀⠀⠀⠀⠀⠀⠀⠀⠀⠀\u001b[38;5;4m⡇\u001b[0m⠀⠀⠀⠀⠀⠀⠀⠀⠀⠀⠀⠀⠀⠀⠀⠀⠀tn13⠀⠀⠀\u001b[38;5;8m⠀\u001b[0m \n",
       "    \u001b[38;5;8m⠀\u001b[0m⠀⠀⠀⠀⠀⠀⠀⠀⠀⠀⠀⠀⠀⠀⠀⠀⠀⠀⠀⠀⠀⠀⠀⠀⠀\u001b[38;5;4m⠃\u001b[0m⠀⠀⠀⠀⠀⠀⠀⠀⠀⠀⠀⠀⠀⠀⠀⠀⠀⠀⠀\u001b[38;5;4m⢸\u001b[0m⠀⠀⠀⠀\u001b[38;5;8m⠀\u001b[0m \n",
       "    \u001b[38;5;8m⠀\u001b[0m⠀⠀⠀⠀⠀⠀⠀⠀⠀⠀⠀⠀⠀⠀⠀⠀⠀⠀⠀⠀⠀⠀⠀⠀⠀⠀⠀⠀⠀⠀⠀⠀⠀⠀⠀⠀⠀⠀⠀⠀⠀⠀⠀⠀⠀\u001b[38;5;4m⢸\u001b[0m⠀⠀⠀⠀\u001b[38;5;8m⠀\u001b[0m \n",
       "    \u001b[38;5;8m⠀\u001b[0m⠀⠀⠀⠀⠀⠀⠀⠀⠀⠀⠀⠀⠀⠀⠀⠀⠀⠀⠀⠀⠀⠀⠀⠀⠀⠀⠀⠀⠀⠀⠀⠀⠀⠀⠀⠀⠀⠀⠀⠀⠀⠀⠀⠀⠀2⠀⠀⠀⠀\u001b[38;5;8m⠀\u001b[0m \n",
       "    \u001b[38;5;8m⠀⠀⠀⠀⠀⠀⠀⠀⠀⠀⠀⠀⠀⠀⠀⠀⠀⠀⠀⠀⠀⠀⠀⠀⠀⠀⠀⠀⠀⠀⠀⠀⠀⠀⠀⠀⠀⠀⠀⠀⠀⠀⠀⠀⠀⠀⠀⠀⠀⠀⠀⠀\u001b[0m "
      ]
     },
     "metadata": {},
     "output_type": "display_data"
    },
    {
     "data": {
      "text/plain": [
       "    \u001b[38;5;8m⠀⠀⠀⠀⠀⠀⠀⠀⠀⠀⠀⠀⠀⠀⠀⠀⠀⠀⠀⠀⠀⠀⠀⠀⠀⠀⠀⠀⠀⠀⠀⠀⠀⠀⠀⠀⠀⠀⠀⠀⠀⠀⠀⠀⠀⠀⠀⠀⠀⠀⠀⠀\u001b[0m \n",
       "    \u001b[38;5;8m⠀\u001b[0m⠀⠀⠀⠀⠀⠀⠀⠀⠀⠀⠀⠀⠀⠀⠀⠀⠀⠀⠀⠀⠀⠀⠀⠀⠀⠀⠀⠀⠀⠀⠀⠀⠀⠀⠀⠀⠀⠀⠀⠀⠀⠀⠀⠀⠀⠀⠀⠀⠀⠀\u001b[38;5;8m⠀\u001b[0m \n",
       "    \u001b[38;5;8m⠀\u001b[0m⠀⠀⠀⠀⠀⠀⠀⠀⠀⠀⠀⠀⠀⠀⠀⠀⠀⠀⠀⠀⠀⠀⠀⠀⠀⠀⠀⠀⠀⠀⠀⠀⠀⠀⠀⠀⠀⠀⠀⠀⠀⠀⠀⠀⠀⠀⠀⠀⠀⠀\u001b[38;5;8m⠀\u001b[0m \n",
       "    \u001b[38;5;8m⠀\u001b[0m⠀⠀⠀⠀⠀⠀⠀⠀⠀⠀⠀⠀⠀⠀⠀⠀⠀⠀⠀⠀⠀⠀⠀⠀⠀⠀⠀⠀⠀⠀⠀⠀⠀⠀⠀⠀⠀⠀⠀⠀⠀⠀⠀⠀⠀⠀⠀⠀⠀⠀\u001b[38;5;8m⠀\u001b[0m \n",
       "    \u001b[38;5;8m⠀\u001b[0m⠀⠀tn21⠀⠀⠀⠀⠀⠀⠀⠀⠀⠀⠀⠀⠀⠀⠀⠀⠀⠀⠀⠀⠀⠀⠀⠀⠀⠀⠀⠀⠀⠀⠀⠀⠀⠀⠀⠀⠀⠀⠀⠀⠀⠀⠀⠀\u001b[38;5;8m⠀\u001b[0m \n",
       "    \u001b[38;5;8m⠀\u001b[0m⠀⠀⠀⠀\u001b[38;5;4m⡇\u001b[0m\u001b[38;5;4m⠉\u001b[0m\u001b[38;5;4m⠢\u001b[0m\u001b[38;5;4m⢄\u001b[0m\u001b[38;5;4m⡀\u001b[0m⠀⠀⠀⠀⠀⠀⠀⠀⠀⠀⠀⠀⠀⠀⠀⠀⠀⠀⠀⠀⠀⠀⠀⠀⠀⠀⠀⠀⠀⠀⠀⠀⠀⠀⠀⠀⠀⠀⠀⠀⠀\u001b[38;5;8m⠀\u001b[0m \n",
       "    \u001b[38;5;8m⠀\u001b[0m⠀⠀⠀⠀\u001b[38;5;4m⡇\u001b[0m⠀⠀⠀\u001b[38;5;4m⠈\u001b[0m\u001b[38;5;4m⠒\u001b[0m\u001b[38;5;4m⠤\u001b[0m\u001b[38;5;4m⡀\u001b[0m⠀⠀⠀⠀⠀⠀⠀⠀⠀⠀⠀⠀⠀⠀⠀⠀⠀⠀⠀⠀⠀⠀⠀⠀⠀⠀⠀⠀⠀⠀⠀⠀⠀⠀⠀⠀⠀⠀\u001b[38;5;8m⠀\u001b[0m \n",
       "    \u001b[38;5;8m⠀\u001b[0m⠀⠀⠀⠀\u001b[38;5;4m⡇\u001b[0m⠀⠀⠀⠀⠀⠀\u001b[38;5;4m⠈\u001b[0m\u001b[38;5;4m⠑\u001b[0m\u001b[38;5;4m⠢\u001b[0m2⠀⠀⠀⠀⠀⠀⠀⠀⠀⠀⠀⠀⠀⠀⠀⠀⠀⠀⠀⠀⠀⠀⠀⠀⠀⠀⠀⠀⠀⠀⠀⠀⠀⠀⠀\u001b[38;5;8m⠀\u001b[0m \n",
       "    \u001b[38;5;8m⠀\u001b[0m⠀⠀⠀⠀2⠀⠀⠀⠀⠀⠀⠀⠀⠀⠀\u001b[38;5;4m⠉\u001b[0m\u001b[38;5;4m⠢\u001b[0m\u001b[38;5;4m⢄\u001b[0m\u001b[38;5;4m⡀\u001b[0m⠀⠀⠀⠀⠀⠀⠀⠀⠀⠀⠀⠀⠀⠀⠀⠀⠀⠀⠀⠀⠀⠀⠀⠀⠀⠀⠀⠀⠀⠀⠀\u001b[38;5;8m⠀\u001b[0m \n",
       "    \u001b[38;5;8m⠀\u001b[0m⠀⠀⠀⠀\u001b[38;5;4m⡇\u001b[0m⠀⠀⠀⠀⠀⠀⠀⠀⠀⠀⠀⠀⠀\u001b[38;5;4m⠈\u001b[0m\u001b[38;5;4m⠒\u001b[0m\u001b[38;5;4m⠤\u001b[0m\u001b[38;5;4m⡀\u001b[0m⠀⠀⠀⠀⠀⠀⠀⠀⠀⠀⠀⠀⠀⠀⠀⠀⠀⠀⠀⠀⠀⠀⠀⠀⠀⠀⠀⠀\u001b[38;5;8m⠀\u001b[0m \n",
       "    \u001b[38;5;8m⠀\u001b[0m⠀⠀⠀⠀\u001b[38;5;4m⡇\u001b[0m⠀⠀⠀⠀⠀⠀⠀⠀⠀⠀⠀⠀⠀⠀⠀⠀\u001b[38;5;4m⠈\u001b[0m\u001b[38;5;4m⠑\u001b[0m\u001b[38;5;4m⠢\u001b[0m\u001b[38;5;4m⣀\u001b[0m⠀⠀⠀⠀⠀⠀⠀⠀⠀⠀⠀⠀⠀⠀⠀⠀⠀⠀⠀⠀⠀⠀⠀⠀⠀\u001b[38;5;8m⠀\u001b[0m \n",
       "    \u001b[38;5;8m⠀\u001b[0m⠀⠀⠀⠀\u001b[38;5;4m⡇\u001b[0m⠀⠀⠀⠀⠀⠀⠀⠀⠀⠀⠀⠀⠀⠀⠀⠀⠀⠀tn22\u001b[38;5;4m⢄\u001b[0m\u001b[38;5;4m⡀\u001b[0m⠀⠀⠀⠀⠀⠀⠀⠀⠀⠀⠀⠀⠀⠀⠀⠀⠀⠀⠀⠀⠀\u001b[38;5;8m⠀\u001b[0m \n",
       "    \u001b[38;5;8m⠀\u001b[0m⠀⠀⠀⠀\u001b[38;5;4m⠁\u001b[0m⠀⠀⠀⠀⠀⠀⠀⠀⠀⠀⠀⠀⠀⠀⠀⠀⠀⠀⠀⠀\u001b[38;5;4m⡇\u001b[0m⠀⠀\u001b[38;5;4m⠈\u001b[0m\u001b[38;5;4m⠑\u001b[0m\u001b[38;5;4m⠤\u001b[0m\u001b[38;5;4m⣀\u001b[0m⠀⠀⠀⠀⠀⠀⠀⠀⠀⠀⠀⠀⠀⠀⠀⠀⠀⠀\u001b[38;5;8m⠀\u001b[0m \n",
       "    \u001b[38;5;8m⠀\u001b[0m⠀⠀⠀⠀⠀⠀⠀⠀⠀⠀⠀⠀⠀⠀⠀⠀⠀⠀⠀⠀⠀⠀⠀⠀⠀\u001b[38;5;4m⡇\u001b[0m⠀⠀⠀⠀⠀⠀\u001b[38;5;4m⠑\u001b[0m\u001b[38;5;4m⠢\u001b[0m\u001b[38;5;4m⢄\u001b[0m⠀⠀⠀⠀⠀⠀⠀⠀⠀⠀⠀⠀⠀⠀⠀\u001b[38;5;8m⠀\u001b[0m \n",
       "    \u001b[38;5;8m⠀\u001b[0m⠀⠀⠀⠀⠀⠀⠀⠀⠀⠀⠀⠀⠀⠀⠀⠀⠀⠀⠀⠀⠀⠀⠀⠀⠀2⠀⠀⠀⠀⠀⠀⠀⠀⠀2\u001b[38;5;4m⠒\u001b[0m\u001b[38;5;4m⢄\u001b[0m\u001b[38;5;4m⡀\u001b[0m⠀⠀⠀⠀⠀⠀⠀⠀⠀⠀⠀\u001b[38;5;8m⠀\u001b[0m \n",
       "    \u001b[38;5;8m⠀\u001b[0m⠀⠀⠀⠀⠀⠀⠀⠀⠀⠀⠀⠀⠀⠀⠀⠀⠀⠀⠀⠀⠀⠀⠀⠀⠀\u001b[38;5;4m⡇\u001b[0m⠀⠀⠀⠀⠀⠀⠀⠀⠀⠀⠀⠀\u001b[38;5;4m⠈\u001b[0m\u001b[38;5;4m⠑\u001b[0m\u001b[38;5;4m⠤\u001b[0m\u001b[38;5;4m⣀\u001b[0m⠀⠀⠀⠀⠀⠀⠀⠀\u001b[38;5;8m⠀\u001b[0m \n",
       "    \u001b[38;5;8m⠀\u001b[0m⠀⠀⠀⠀⠀⠀⠀⠀⠀⠀⠀⠀⠀⠀⠀⠀⠀⠀⠀⠀⠀⠀⠀⠀⠀\u001b[38;5;4m⡇\u001b[0m⠀⠀⠀⠀⠀⠀⠀⠀⠀⠀⠀⠀⠀⠀⠀⠀\u001b[38;5;4m⠑\u001b[0m\u001b[38;5;4m⠢\u001b[0m\u001b[38;5;4m⢄\u001b[0m⠀⠀⠀⠀⠀\u001b[38;5;8m⠀\u001b[0m \n",
       "    \u001b[38;5;8m⠀\u001b[0m⠀⠀⠀⠀⠀⠀⠀⠀⠀⠀⠀⠀⠀⠀⠀⠀⠀⠀⠀⠀⠀⠀⠀⠀⠀\u001b[38;5;4m⡇\u001b[0m⠀⠀⠀⠀⠀⠀⠀⠀⠀⠀⠀⠀⠀⠀⠀⠀⠀tn23⠀⠀⠀\u001b[38;5;8m⠀\u001b[0m \n",
       "    \u001b[38;5;8m⠀\u001b[0m⠀⠀⠀⠀⠀⠀⠀⠀⠀⠀⠀⠀⠀⠀⠀⠀⠀⠀⠀⠀⠀⠀⠀⠀⠀\u001b[38;5;4m⠃\u001b[0m⠀⠀⠀⠀⠀⠀⠀⠀⠀⠀⠀⠀⠀⠀⠀⠀⠀⠀⠀\u001b[38;5;4m⢸\u001b[0m⠀⠀⠀⠀\u001b[38;5;8m⠀\u001b[0m \n",
       "    \u001b[38;5;8m⠀\u001b[0m⠀⠀⠀⠀⠀⠀⠀⠀⠀⠀⠀⠀⠀⠀⠀⠀⠀⠀⠀⠀⠀⠀⠀⠀⠀⠀⠀⠀⠀⠀⠀⠀⠀⠀⠀⠀⠀⠀⠀⠀⠀⠀⠀⠀⠀\u001b[38;5;4m⢸\u001b[0m⠀⠀⠀⠀\u001b[38;5;8m⠀\u001b[0m \n",
       "    \u001b[38;5;8m⠀\u001b[0m⠀⠀⠀⠀⠀⠀⠀⠀⠀⠀⠀⠀⠀⠀⠀⠀⠀⠀⠀⠀⠀⠀⠀⠀⠀⠀⠀⠀⠀⠀⠀⠀⠀⠀⠀⠀⠀⠀⠀⠀⠀⠀⠀⠀⠀2⠀⠀⠀⠀\u001b[38;5;8m⠀\u001b[0m \n",
       "    \u001b[38;5;8m⠀⠀⠀⠀⠀⠀⠀⠀⠀⠀⠀⠀⠀⠀⠀⠀⠀⠀⠀⠀⠀⠀⠀⠀⠀⠀⠀⠀⠀⠀⠀⠀⠀⠀⠀⠀⠀⠀⠀⠀⠀⠀⠀⠀⠀⠀⠀⠀⠀⠀⠀⠀\u001b[0m "
      ]
     },
     "metadata": {},
     "output_type": "display_data"
    }
   ],
   "source": [
    "tn1 = ITensorNetwork(s; link_space=2)\n",
    "@visualize tn1;\n",
    "tn2 = ITensorNetwork(s; link_space=2)\n",
    "@visualize tn2;"
   ]
  },
  {
   "cell_type": "markdown",
   "metadata": {},
   "source": [
    "These states support all kinds of operations, such as an 'outer' product that composes networks while automatically connecting edges. This can for example be used to lazily represent the inner product of two states:"
   ]
  },
  {
   "cell_type": "code",
   "execution_count": 10,
   "metadata": {},
   "outputs": [
    {
     "data": {
      "text/plain": [
       "    \u001b[38;5;8m⠀⠀⠀⠀⠀⠀⠀⠀⠀⠀⠀⠀⠀⠀⠀⠀⠀⠀⠀⠀⠀⠀⠀⠀⠀⠀⠀⠀⠀⠀⠀⠀⠀⠀⠀⠀⠀⠀⠀⠀⠀⠀⠀⠀⠀⠀⠀⠀⠀⠀⠀⠀\u001b[0m \n",
       "    \u001b[38;5;8m⠀\u001b[0m⠀⠀⠀⠀⠀⠀⠀⠀⠀⠀⠀⠀⠀⠀⠀⠀⠀⠀⠀⠀⠀⠀⠀⠀⠀⠀⠀⠀⠀⠀⠀⠀⠀⠀⠀⠀⠀⠀⠀⠀⠀⠀⠀⠀⠀⠀⠀⠀⠀⠀\u001b[38;5;8m⠀\u001b[0m \n",
       "    \u001b[38;5;8m⠀\u001b[0m⠀⠀⠀⠀⠀⠀⠀⠀⠀⠀⠀⠀⠀⠀⠀⠀⠀⠀⠀⠀⠀⠀⠀⠀⠀⠀⠀⠀⠀⠀⠀⠀⠀⠀⠀⠀⠀⠀⠀⠀⠀⠀⠀⠀⠀⠀⠀⠀⠀⠀\u001b[38;5;8m⠀\u001b[0m \n",
       "    \u001b[38;5;8m⠀\u001b[0m⠀⠀⠀⠀⠀⠀⠀⠀⠀⠀⠀⠀⠀⠀⠀⠀⠀⠀⠀⠀⠀⠀⠀⠀⠀⠀⠀⠀⠀⠀⠀⠀⠀⠀⠀⠀⠀⠀⠀⠀⠀⠀⠀⠀⠀⠀⠀⠀⠀⠀\u001b[38;5;8m⠀\u001b[0m \n",
       "    \u001b[38;5;8m⠀\u001b[0m⠀⠀⠀⠀⠀⠀⠀⠀⠀⠀⠀Z(1, 2)⠀⠀⠀⠀⠀⠀⠀⠀⠀⠀⠀⠀⠀⠀⠀⠀⠀⠀⠀⠀⠀⠀⠀⠀⠀⠀⠀⠀⠀⠀⠀⠀\u001b[38;5;8m⠀\u001b[0m \n",
       "    \u001b[38;5;8m⠀\u001b[0m⠀⠀⠀⠀⠀⠀⠀⠀⠀⠀⠀\u001b[38;5;4m⢀\u001b[0m\u001b[38;5;4m⠤\u001b[0m\u001b[38;5;4m⠊\u001b[0m⠀\u001b[38;5;4m⠈\u001b[0m\u001b[38;5;4m⠑\u001b[0m\u001b[38;5;4m⠢\u001b[0m\u001b[38;5;4m⢄\u001b[0m\u001b[38;5;4m⡀\u001b[0m⠀⠀⠀⠀⠀⠀⠀⠀⠀⠀⠀⠀⠀⠀⠀⠀⠀⠀⠀⠀⠀⠀⠀⠀⠀⠀⠀⠀⠀⠀\u001b[38;5;8m⠀\u001b[0m \n",
       "    \u001b[38;5;8m⠀\u001b[0m⠀⠀⠀⠀⠀⠀⠀⠀⠀\u001b[38;5;4m⢀\u001b[0m\u001b[38;5;4m⠔\u001b[0m\u001b[38;5;4m⠁\u001b[0m⠀⠀⠀⠀⠀⠀⠀\u001b[38;5;4m⠈\u001b[0m\u001b[38;5;4m⠑\u001b[0m\u001b[38;5;4m⠢\u001b[0m2\u001b[38;5;4m⡀\u001b[0m⠀⠀⠀⠀⠀⠀⠀⠀⠀⠀⠀⠀⠀⠀⠀⠀⠀⠀⠀⠀⠀⠀⠀⠀⠀⠀\u001b[38;5;8m⠀\u001b[0m \n",
       "    \u001b[38;5;8m⠀\u001b[0m⠀⠀⠀⠀⠀⠀⠀\u001b[38;5;4m⣀\u001b[0m\u001b[38;5;4m⠔\u001b[0m2⠀⠀⠀⠀⠀⠀⠀⠀⠀⠀⠀⠀⠀\u001b[38;5;4m⠈\u001b[0m\u001b[38;5;4m⠑\u001b[0m\u001b[38;5;4m⠢\u001b[0m\u001b[38;5;4m⢄\u001b[0m\u001b[38;5;4m⡀\u001b[0m⠀⠀⠀⠀⠀⠀⠀⠀⠀⠀⠀⠀⠀⠀⠀⠀⠀⠀⠀⠀⠀⠀\u001b[38;5;8m⠀\u001b[0m \n",
       "    \u001b[38;5;8m⠀\u001b[0m⠀⠀⠀⠀⠀\u001b[38;5;4m⡠\u001b[0m\u001b[38;5;4m⠊\u001b[0m⠀⠀⠀⠀⠀⠀⠀⠀⠀⠀⠀⠀⠀⠀⠀⠀⠀⠀⠀⠀Z(2, 2)⠀⠀⠀⠀⠀⠀⠀⠀⠀⠀⠀⠀⠀⠀⠀⠀\u001b[38;5;8m⠀\u001b[0m \n",
       "    \u001b[38;5;8m⠀\u001b[0m⠀Z(1, 1)⠀⠀⠀⠀⠀⠀⠀⠀⠀⠀⠀⠀⠀⠀⠀⠀⠀⠀⠀\u001b[38;5;4m⢀\u001b[0m\u001b[38;5;4m⠔\u001b[0m\u001b[38;5;4m⠁\u001b[0m⠀\u001b[38;5;4m⠈\u001b[0m\u001b[38;5;4m⠑\u001b[0m\u001b[38;5;4m⠢\u001b[0m\u001b[38;5;4m⢄\u001b[0m\u001b[38;5;4m⡀\u001b[0m⠀⠀⠀⠀⠀⠀⠀⠀⠀⠀⠀⠀⠀⠀\u001b[38;5;8m⠀\u001b[0m \n",
       "    \u001b[38;5;8m⠀\u001b[0m⠀⠀⠀⠀⠀⠀⠀\u001b[38;5;4m⠉\u001b[0m\u001b[38;5;4m⠢\u001b[0m\u001b[38;5;4m⢄\u001b[0m\u001b[38;5;4m⡀\u001b[0m⠀⠀⠀⠀⠀⠀⠀⠀⠀⠀⠀⠀⠀⠀\u001b[38;5;4m⡠\u001b[0m\u001b[38;5;4m⠔\u001b[0m\u001b[38;5;4m⠁\u001b[0m⠀⠀⠀⠀⠀⠀⠀\u001b[38;5;4m⠈\u001b[0m\u001b[38;5;4m⠑\u001b[0m\u001b[38;5;4m⠢\u001b[0m2\u001b[38;5;4m⡀\u001b[0m⠀⠀⠀⠀⠀⠀⠀⠀⠀⠀\u001b[38;5;8m⠀\u001b[0m \n",
       "    \u001b[38;5;8m⠀\u001b[0m⠀⠀⠀⠀⠀⠀⠀⠀⠀⠀\u001b[38;5;4m⠈\u001b[0m2\u001b[38;5;4m⠢\u001b[0m\u001b[38;5;4m⢄\u001b[0m\u001b[38;5;4m⡀\u001b[0m⠀⠀⠀⠀⠀⠀⠀⠀\u001b[38;5;4m⡠\u001b[0m2⠀⠀⠀⠀⠀⠀⠀⠀⠀⠀⠀⠀⠀⠀\u001b[38;5;4m⠈\u001b[0m\u001b[38;5;4m⠒\u001b[0m\u001b[38;5;4m⠤\u001b[0m\u001b[38;5;4m⣀\u001b[0m⠀⠀⠀⠀⠀⠀⠀\u001b[38;5;8m⠀\u001b[0m \n",
       "    \u001b[38;5;8m⠀\u001b[0m⠀⠀⠀⠀⠀⠀⠀⠀⠀⠀⠀⠀⠀⠀\u001b[38;5;4m⠈\u001b[0m\u001b[38;5;4m⠑\u001b[0m\u001b[38;5;4m⠢\u001b[0m\u001b[38;5;4m⢄\u001b[0m⠀⠀\u001b[38;5;4m⢀\u001b[0m\u001b[38;5;4m⠔\u001b[0m\u001b[38;5;4m⠊\u001b[0m⠀⠀⠀⠀⠀⠀⠀⠀⠀⠀⠀⠀⠀⠀⠀⠀⠀⠀⠀Z(3, 2)⠀\u001b[38;5;8m⠀\u001b[0m \n",
       "    \u001b[38;5;8m⠀\u001b[0m⠀⠀⠀⠀⠀⠀⠀⠀⠀⠀⠀⠀⠀⠀⠀⠀Z(2, 1)⠀⠀⠀⠀⠀⠀⠀⠀⠀⠀⠀⠀⠀⠀⠀⠀⠀⠀⠀⠀\u001b[38;5;4m⡠\u001b[0m\u001b[38;5;4m⠊\u001b[0m\u001b[38;5;4m⠁\u001b[0m⠀⠀⠀⠀\u001b[38;5;8m⠀\u001b[0m \n",
       "    \u001b[38;5;8m⠀\u001b[0m⠀⠀⠀⠀⠀⠀⠀⠀⠀⠀⠀⠀⠀⠀⠀⠀⠀⠀⠀⠀⠀⠀\u001b[38;5;4m⠈\u001b[0m\u001b[38;5;4m⠑\u001b[0m\u001b[38;5;4m⠢\u001b[0m\u001b[38;5;4m⢄\u001b[0m\u001b[38;5;4m⡀\u001b[0m⠀⠀⠀⠀⠀⠀⠀⠀⠀⠀⠀⠀⠀2\u001b[38;5;4m⡠\u001b[0m\u001b[38;5;4m⠊\u001b[0m⠀⠀⠀⠀⠀⠀⠀\u001b[38;5;8m⠀\u001b[0m \n",
       "    \u001b[38;5;8m⠀\u001b[0m⠀⠀⠀⠀⠀⠀⠀⠀⠀⠀⠀⠀⠀⠀⠀⠀⠀⠀⠀⠀⠀⠀⠀⠀⠀⠀\u001b[38;5;4m⠈\u001b[0m2\u001b[38;5;4m⠢\u001b[0m\u001b[38;5;4m⢄\u001b[0m\u001b[38;5;4m⡀\u001b[0m⠀⠀⠀⠀⠀⠀⠀\u001b[38;5;4m⢀\u001b[0m\u001b[38;5;4m⠔\u001b[0m\u001b[38;5;4m⠉\u001b[0m⠀⠀⠀⠀⠀⠀⠀⠀⠀\u001b[38;5;8m⠀\u001b[0m \n",
       "    \u001b[38;5;8m⠀\u001b[0m⠀⠀⠀⠀⠀⠀⠀⠀⠀⠀⠀⠀⠀⠀⠀⠀⠀⠀⠀⠀⠀⠀⠀⠀⠀⠀⠀⠀⠀⠀\u001b[38;5;4m⠈\u001b[0m\u001b[38;5;4m⠑\u001b[0m\u001b[38;5;4m⠢\u001b[0m\u001b[38;5;4m⢄\u001b[0m\u001b[38;5;4m⡀\u001b[0m⠀\u001b[38;5;4m⢀\u001b[0m\u001b[38;5;4m⠔\u001b[0m\u001b[38;5;4m⠁\u001b[0m⠀⠀⠀⠀⠀⠀⠀⠀⠀⠀⠀\u001b[38;5;8m⠀\u001b[0m \n",
       "    \u001b[38;5;8m⠀\u001b[0m⠀⠀⠀⠀⠀⠀⠀⠀⠀⠀⠀⠀⠀⠀⠀⠀⠀⠀⠀⠀⠀⠀⠀⠀⠀⠀⠀⠀⠀⠀⠀⠀Z(3, 1)⠀⠀⠀⠀⠀⠀⠀⠀⠀⠀⠀\u001b[38;5;8m⠀\u001b[0m \n",
       "    \u001b[38;5;8m⠀\u001b[0m⠀⠀⠀⠀⠀⠀⠀⠀⠀⠀⠀⠀⠀⠀⠀⠀⠀⠀⠀⠀⠀⠀⠀⠀⠀⠀⠀⠀⠀⠀⠀⠀⠀⠀⠀⠀⠀⠀⠀⠀⠀⠀⠀⠀⠀⠀⠀⠀⠀⠀\u001b[38;5;8m⠀\u001b[0m \n",
       "    \u001b[38;5;8m⠀\u001b[0m⠀⠀⠀⠀⠀⠀⠀⠀⠀⠀⠀⠀⠀⠀⠀⠀⠀⠀⠀⠀⠀⠀⠀⠀⠀⠀⠀⠀⠀⠀⠀⠀⠀⠀⠀⠀⠀⠀⠀⠀⠀⠀⠀⠀⠀⠀⠀⠀⠀⠀\u001b[38;5;8m⠀\u001b[0m \n",
       "    \u001b[38;5;8m⠀\u001b[0m⠀⠀⠀⠀⠀⠀⠀⠀⠀⠀⠀⠀⠀⠀⠀⠀⠀⠀⠀⠀⠀⠀⠀⠀⠀⠀⠀⠀⠀⠀⠀⠀⠀⠀⠀⠀⠀⠀⠀⠀⠀⠀⠀⠀⠀⠀⠀⠀⠀⠀\u001b[38;5;8m⠀\u001b[0m \n",
       "    \u001b[38;5;8m⠀⠀⠀⠀⠀⠀⠀⠀⠀⠀⠀⠀⠀⠀⠀⠀⠀⠀⠀⠀⠀⠀⠀⠀⠀⠀⠀⠀⠀⠀⠀⠀⠀⠀⠀⠀⠀⠀⠀⠀⠀⠀⠀⠀⠀⠀⠀⠀⠀⠀⠀⠀\u001b[0m "
      ]
     },
     "metadata": {},
     "output_type": "display_data"
    }
   ],
   "source": [
    "Z = tn1 ⊗ dag(tn2)\n",
    "@visualize Z;"
   ]
  },
  {
   "cell_type": "markdown",
   "metadata": {},
   "source": [
    "We can obtain the actual inner product by sequentially contracting tensors in this inner product network according to some contraction sequence. A network contraction is performed by contracting along one edge at a time, for example:"
   ]
  },
  {
   "cell_type": "code",
   "execution_count": 11,
   "metadata": {},
   "outputs": [
    {
     "data": {
      "text/plain": [
       "    \u001b[38;5;8m⠀⠀⠀⠀⠀⠀⠀⠀⠀⠀⠀⠀⠀⠀⠀⠀⠀⠀⠀⠀⠀⠀⠀⠀⠀⠀⠀⠀⠀⠀⠀⠀⠀⠀⠀⠀⠀⠀⠀⠀⠀⠀⠀⠀⠀⠀⠀⠀⠀⠀⠀⠀\u001b[0m \n",
       "    \u001b[38;5;8m⠀\u001b[0m⠀⠀⠀⠀⠀⠀⠀⠀⠀⠀⠀⠀⠀⠀⠀⠀⠀⠀⠀⠀⠀⠀⠀⠀⠀⠀⠀⠀⠀⠀⠀⠀⠀⠀⠀⠀⠀⠀⠀⠀⠀⠀⠀⠀⠀⠀⠀⠀⠀⠀\u001b[38;5;8m⠀\u001b[0m \n",
       "    \u001b[38;5;8m⠀\u001b[0m⠀⠀⠀⠀⠀⠀⠀⠀⠀⠀⠀⠀⠀⠀⠀⠀⠀⠀⠀⠀⠀⠀⠀⠀⠀⠀⠀⠀⠀⠀⠀⠀⠀⠀⠀⠀⠀⠀⠀⠀⠀⠀⠀⠀⠀⠀⠀⠀⠀⠀\u001b[38;5;8m⠀\u001b[0m \n",
       "    \u001b[38;5;8m⠀\u001b[0m⠀⠀⠀⠀⠀⠀⠀⠀⠀⠀⠀⠀⠀⠀⠀⠀⠀⠀⠀⠀⠀⠀⠀⠀⠀⠀⠀⠀⠀⠀⠀⠀⠀⠀⠀⠀⠀⠀⠀⠀⠀⠀⠀⠀⠀⠀⠀⠀⠀⠀\u001b[38;5;8m⠀\u001b[0m \n",
       "    \u001b[38;5;8m⠀\u001b[0m⠀⠀⠀⠀⠀⠀⠀⠀⠀⠀⠀⠀⠀⠀⠀⠀⠀⠀⠀⠀⠀⠀Z̃(2, 1)⠀⠀⠀⠀⠀⠀⠀⠀⠀⠀⠀⠀⠀⠀⠀⠀⠀⠀⠀⠀\u001b[38;5;8m⠀\u001b[0m \n",
       "    \u001b[38;5;8m⠀\u001b[0m⠀⠀⠀⠀⠀⠀⠀⠀⠀⠀⠀⠀⠀⠀⠀2\u001b[38;5;4m⣀\u001b[0m\u001b[38;5;4m⠤\u001b[0m\u001b[38;5;4m⠤\u001b[0m\u001b[38;5;4m⠔\u001b[0m\u001b[38;5;4m⠒\u001b[0m\u001b[38;5;4m⠒\u001b[0m\u001b[38;5;4m⠉\u001b[0m\u001b[38;5;4m⠉\u001b[0m⠀⠀\u001b[38;5;4m⢱\u001b[0m⠀\u001b[38;5;4m⠈\u001b[0m\u001b[38;5;4m⠉\u001b[0m\u001b[38;5;4m⠑\u001b[0m\u001b[38;5;4m⠒\u001b[0m\u001b[38;5;4m⠢\u001b[0m\u001b[38;5;4m⠤\u001b[0m\u001b[38;5;4m⢄\u001b[0m\u001b[38;5;4m⣀\u001b[0m2⠀⠀⠀⠀⠀⠀⠀⠀⠀⠀⠀⠀⠀\u001b[38;5;8m⠀\u001b[0m \n",
       "    \u001b[38;5;8m⠀\u001b[0m⠀⠀⠀⠀⠀⠀\u001b[38;5;4m⣀\u001b[0m\u001b[38;5;4m⣀\u001b[0m\u001b[38;5;4m⠤\u001b[0m\u001b[38;5;4m⠤\u001b[0m\u001b[38;5;4m⠔\u001b[0m\u001b[38;5;4m⠒\u001b[0m\u001b[38;5;4m⠊\u001b[0m\u001b[38;5;4m⠉\u001b[0m\u001b[38;5;4m⠉\u001b[0m⠀⠀⠀⠀⠀⠀⠀⠀⠀⠀⠀\u001b[38;5;4m⠈\u001b[0m\u001b[38;5;4m⡆\u001b[0m⠀⠀⠀⠀⠀⠀⠀⠀⠀\u001b[38;5;4m⠉\u001b[0m\u001b[38;5;4m⠉\u001b[0m\u001b[38;5;4m⠒\u001b[0m\u001b[38;5;4m⠒\u001b[0m\u001b[38;5;4m⠤\u001b[0m\u001b[38;5;4m⠤\u001b[0m\u001b[38;5;4m⢄\u001b[0m\u001b[38;5;4m⣀\u001b[0m\u001b[38;5;4m⡀\u001b[0m⠀⠀⠀⠀\u001b[38;5;8m⠀\u001b[0m \n",
       "    \u001b[38;5;8m⠀\u001b[0mZ̃(3, 1)⠀⠀⠀⠀⠀⠀⠀⠀⠀⠀⠀⠀⠀⠀⠀⠀⠀⠀⠀\u001b[38;5;4m⢱\u001b[0m⠀⠀⠀⠀⠀⠀⠀⠀⠀⠀⠀⠀⠀Z̃(1, 2)⠀\u001b[38;5;8m⠀\u001b[0m \n",
       "    \u001b[38;5;8m⠀\u001b[0m⠀⠀⠀⠀\u001b[38;5;4m⢸\u001b[0m⠀⠀⠀⠀⠀⠀⠀⠀⠀⠀⠀⠀⠀⠀⠀⠀⠀⠀⠀⠀⠀⠀\u001b[38;5;4m⠈\u001b[0m\u001b[38;5;4m⡆\u001b[0m⠀⠀⠀⠀⠀⠀⠀⠀⠀⠀⠀⠀\u001b[38;5;4m⢀\u001b[0m\u001b[38;5;4m⠔\u001b[0m\u001b[38;5;4m⠁\u001b[0m⠀⠀⠀⠀⠀⠀\u001b[38;5;8m⠀\u001b[0m \n",
       "    \u001b[38;5;8m⠀\u001b[0m⠀⠀⠀⠀⠀\u001b[38;5;4m⡇\u001b[0m⠀⠀⠀⠀⠀⠀⠀⠀⠀⠀⠀⠀⠀⠀⠀⠀⠀⠀⠀⠀⠀⠀2⠀⠀⠀⠀⠀⠀⠀⠀⠀⠀\u001b[38;5;4m⣀\u001b[0m\u001b[38;5;4m⠔\u001b[0m\u001b[38;5;4m⠁\u001b[0m⠀⠀⠀⠀⠀⠀⠀⠀\u001b[38;5;8m⠀\u001b[0m \n",
       "    \u001b[38;5;8m⠀\u001b[0m⠀⠀⠀⠀⠀\u001b[38;5;4m⢸\u001b[0m⠀⠀⠀⠀⠀⠀⠀⠀⠀⠀⠀⠀⠀⠀⠀⠀⠀⠀⠀⠀⠀⠀⠀\u001b[38;5;4m⡇\u001b[0m⠀⠀⠀⠀⠀⠀⠀\u001b[38;5;4m⡠\u001b[0m2⠀⠀⠀⠀⠀⠀⠀⠀⠀⠀⠀\u001b[38;5;8m⠀\u001b[0m \n",
       "    \u001b[38;5;8m⠀\u001b[0m⠀⠀⠀⠀⠀⠀\u001b[38;5;4m⡇\u001b[0m⠀⠀⠀⠀⠀⠀⠀⠀⠀⠀⠀⠀⠀⠀⠀⠀⠀⠀⠀⠀⠀⠀\u001b[38;5;4m⢸\u001b[0m⠀⠀⠀⠀⠀\u001b[38;5;4m⡠\u001b[0m\u001b[38;5;4m⠊\u001b[0m⠀⠀⠀⠀⠀⠀⠀⠀⠀⠀⠀⠀⠀\u001b[38;5;8m⠀\u001b[0m \n",
       "    \u001b[38;5;8m⠀\u001b[0m⠀⠀⠀⠀⠀⠀2\u001b[38;5;4m⡀\u001b[0m⠀⠀⠀⠀⠀⠀⠀⠀⠀⠀⠀⠀⠀⠀⠀⠀⠀⠀⠀⠀⠀⠀\u001b[38;5;4m⡇\u001b[0m⠀\u001b[38;5;4m⢀\u001b[0m\u001b[38;5;4m⠤\u001b[0m\u001b[38;5;4m⠊\u001b[0m⠀⠀⠀⠀⠀⠀⠀⠀⠀⠀⠀⠀⠀⠀⠀\u001b[38;5;8m⠀\u001b[0m \n",
       "    \u001b[38;5;8m⠀\u001b[0m⠀⠀⠀⠀⠀⠀⠀\u001b[38;5;4m⢇\u001b[0m⠀⠀⠀⠀⠀⠀⠀⠀⠀⠀⠀⠀⠀⠀⠀⠀⠀⠀Z̃(2, 2)⠀⠀⠀⠀⠀⠀⠀⠀⠀⠀⠀⠀⠀⠀⠀⠀\u001b[38;5;8m⠀\u001b[0m \n",
       "    \u001b[38;5;8m⠀\u001b[0m⠀⠀⠀⠀⠀⠀⠀\u001b[38;5;4m⠸\u001b[0m\u001b[38;5;4m⡀\u001b[0m⠀⠀⠀⠀⠀⠀⠀⠀⠀⠀⠀⠀⠀⠀\u001b[38;5;4m⢀\u001b[0m\u001b[38;5;4m⣀\u001b[0m\u001b[38;5;4m⡠\u001b[0m\u001b[38;5;4m⠤\u001b[0m\u001b[38;5;4m⠒\u001b[0m\u001b[38;5;4m⠊\u001b[0m\u001b[38;5;4m⠉\u001b[0m⠀⠀⠀⠀⠀⠀⠀⠀⠀⠀⠀⠀⠀⠀⠀⠀⠀⠀⠀⠀\u001b[38;5;8m⠀\u001b[0m \n",
       "    \u001b[38;5;8m⠀\u001b[0m⠀⠀⠀⠀⠀⠀⠀⠀\u001b[38;5;4m⢇\u001b[0m⠀⠀⠀⠀⠀⠀⠀⠀\u001b[38;5;4m⢀\u001b[0m\u001b[38;5;4m⣀\u001b[0m\u001b[38;5;4m⠤\u001b[0m2\u001b[38;5;4m⠒\u001b[0m\u001b[38;5;4m⠉\u001b[0m\u001b[38;5;4m⠁\u001b[0m⠀⠀⠀⠀⠀⠀⠀⠀⠀⠀⠀⠀⠀⠀⠀⠀⠀⠀⠀⠀⠀⠀⠀⠀⠀⠀\u001b[38;5;8m⠀\u001b[0m \n",
       "    \u001b[38;5;8m⠀\u001b[0m⠀⠀⠀⠀⠀⠀⠀⠀\u001b[38;5;4m⠸\u001b[0m\u001b[38;5;4m⡀\u001b[0m⠀\u001b[38;5;4m⣀\u001b[0m\u001b[38;5;4m⡠\u001b[0m\u001b[38;5;4m⠤\u001b[0m\u001b[38;5;4m⠒\u001b[0m\u001b[38;5;4m⠊\u001b[0m\u001b[38;5;4m⠉\u001b[0m\u001b[38;5;4m⠁\u001b[0m⠀⠀⠀⠀⠀⠀⠀⠀⠀⠀⠀⠀⠀⠀⠀⠀⠀⠀⠀⠀⠀⠀⠀⠀⠀⠀⠀⠀⠀⠀⠀⠀\u001b[38;5;8m⠀\u001b[0m \n",
       "    \u001b[38;5;8m⠀\u001b[0m⠀⠀⠀⠀⠀Z̃(3, 2)⠀⠀⠀⠀⠀⠀⠀⠀⠀⠀⠀⠀⠀⠀⠀⠀⠀⠀⠀⠀⠀⠀⠀⠀⠀⠀⠀⠀⠀⠀⠀⠀⠀⠀⠀⠀⠀\u001b[38;5;8m⠀\u001b[0m \n",
       "    \u001b[38;5;8m⠀\u001b[0m⠀⠀⠀⠀⠀⠀⠀⠀⠀⠀⠀⠀⠀⠀⠀⠀⠀⠀⠀⠀⠀⠀⠀⠀⠀⠀⠀⠀⠀⠀⠀⠀⠀⠀⠀⠀⠀⠀⠀⠀⠀⠀⠀⠀⠀⠀⠀⠀⠀⠀\u001b[38;5;8m⠀\u001b[0m \n",
       "    \u001b[38;5;8m⠀\u001b[0m⠀⠀⠀⠀⠀⠀⠀⠀⠀⠀⠀⠀⠀⠀⠀⠀⠀⠀⠀⠀⠀⠀⠀⠀⠀⠀⠀⠀⠀⠀⠀⠀⠀⠀⠀⠀⠀⠀⠀⠀⠀⠀⠀⠀⠀⠀⠀⠀⠀⠀\u001b[38;5;8m⠀\u001b[0m \n",
       "    \u001b[38;5;8m⠀\u001b[0m⠀⠀⠀⠀⠀⠀⠀⠀⠀⠀⠀⠀⠀⠀⠀⠀⠀⠀⠀⠀⠀⠀⠀⠀⠀⠀⠀⠀⠀⠀⠀⠀⠀⠀⠀⠀⠀⠀⠀⠀⠀⠀⠀⠀⠀⠀⠀⠀⠀⠀\u001b[38;5;8m⠀\u001b[0m \n",
       "    \u001b[38;5;8m⠀⠀⠀⠀⠀⠀⠀⠀⠀⠀⠀⠀⠀⠀⠀⠀⠀⠀⠀⠀⠀⠀⠀⠀⠀⠀⠀⠀⠀⠀⠀⠀⠀⠀⠀⠀⠀⠀⠀⠀⠀⠀⠀⠀⠀⠀⠀⠀⠀⠀⠀⠀\u001b[0m "
      ]
     },
     "metadata": {},
     "output_type": "display_data"
    }
   ],
   "source": [
    "Z̃ = contract(Z, (1, 1) => (2, 1))\n",
    "@visualize Z̃;"
   ]
  },
  {
   "cell_type": "code",
   "execution_count": null,
   "metadata": {},
   "outputs": [],
   "source": []
  }
 ],
 "metadata": {
  "kernelspec": {
   "display_name": "Julia 1.9.1",
   "language": "julia",
   "name": "julia-1.9"
  },
  "language_info": {
   "file_extension": ".jl",
   "mimetype": "application/julia",
   "name": "julia",
   "version": "1.9.1"
  }
 },
 "nbformat": 4,
 "nbformat_minor": 4
}
