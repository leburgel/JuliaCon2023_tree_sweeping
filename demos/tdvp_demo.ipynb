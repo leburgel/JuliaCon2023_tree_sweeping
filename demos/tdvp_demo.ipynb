{
 "cells": [
  {
   "cell_type": "markdown",
   "metadata": {},
   "source": [
    "# Time evolution"
   ]
  },
  {
   "cell_type": "code",
   "execution_count": 1,
   "metadata": {},
   "outputs": [],
   "source": [
    "using ITensors\n",
    "using ITensorNetworks\n",
    "using ITensorNetworks: applyexp\n",
    "using Observers\n",
    "using Random"
   ]
  },
  {
   "cell_type": "markdown",
   "metadata": {},
   "source": [
    "In this notebook we will go through some examples of simulating time evolution for a spin model on a lattice with a tree-like geometry using the [TDVP](https://arxiv.org/abs/1408.5056) algorithm.\n",
    "\n",
    "As an example, we will consider a next-to-nearest neighbor spin-1/2 Heisenberg model with Hamiltonian\n",
    "\n",
    "$$\n",
    "H = J_1 \\sum_{\\langle i, j \\rangle} \\vec{S}_i \\cdot \\vec{S}_j + J_2 \\sum_{\\langle\\langle i, j \\rangle\\rangle} \\vec{S}_i \\cdot \\vec{S}_j + h \\sum_i S^z_i,\n",
    "$$\n",
    "\n",
    "on a spin system defined on a small comb tree with 6 sites\n",
    "<center><img align=\"center\" width=\"200\" src=\"./fig/small_comb_tree.svg\"></center>"
   ]
  },
  {
   "cell_type": "markdown",
   "metadata": {},
   "source": [
    "### Basic time evolution"
   ]
  },
  {
   "cell_type": "markdown",
   "metadata": {},
   "source": [
    "We'll start by running a two-site TDVP scheme for a total time $t = 1$. This will involve $N = t / \\tau$ sweeps, each of which evolves the given state by a time step $\\tau = 0.1$."
   ]
  },
  {
   "cell_type": "code",
   "execution_count": 2,
   "metadata": {},
   "outputs": [],
   "source": [
    "# set TDVP parameters\n",
    "cutoff = 1e-12\n",
    "tau = 0.1\n",
    "ttotal = 1.0\n",
    "\n",
    "# define geometry and Hamiltonian\n",
    "root_vertex = (3, 2)\n",
    "c = named_comb_tree((3, 2))\n",
    "s = siteinds(\"S=1/2\", c)\n",
    "Hos = ITensorNetworks.heisenberg(c)\n",
    "H = TTN(Hos, s);"
   ]
  },
  {
   "cell_type": "markdown",
   "metadata": {},
   "source": [
    "We can also keep track of some relevant quantities during each time evolution step using the ITensors.jl [observer system](https://itensor.github.io/ITensors.jl/dev/Observer.html#observer). Here we'll keep track of the local magnetization on the central site of the comb, as well as the total energy of the state."
   ]
  },
  {
   "cell_type": "code",
   "execution_count": 3,
   "metadata": {},
   "outputs": [],
   "source": [
    "using Observers\n",
    "\n",
    "c = (2, 1)\n",
    "obs = Observer(\n",
    "    \"Sz\" => (; psi) -> expect(\"Sz\", psi; vertices=[c])[c],\n",
    "    \"En\" => (; psi) -> real(inner(psi', H, psi)),\n",
    ");"
   ]
  },
  {
   "cell_type": "markdown",
   "metadata": {},
   "source": [
    "We can now time evolve a given initial state state $|\\phi\\rangle$ over a time $t$ by calling `ψ = tdvp(H, -im * t, ϕ)`, which approximates $|\\psi\\rangle = \\exp(-iHt)|\\phi\\rangle$."
   ]
  },
  {
   "cell_type": "code",
   "execution_count": 4,
   "metadata": {},
   "outputs": [],
   "source": [
    "ϕ = TTN(s, v -> iseven(sum(isodd.(v))) ? \"Up\" : \"Dn\") # start from product state\n",
    "ψ1 = tdvp(\n",
    "    H,\n",
    "    -im * ttotal,\n",
    "    ϕ;\n",
    "    time_step=-im * tau,\n",
    "    cutoff,\n",
    "    normalize=false,\n",
    "    (sweep_observer!)=obs\n",
    ");"
   ]
  },
  {
   "cell_type": "markdown",
   "metadata": {},
   "source": [
    "The magnetization and energy during at each time step can be read off from the observer:"
   ]
  },
  {
   "cell_type": "code",
   "execution_count": 5,
   "metadata": {},
   "outputs": [
    {
     "data": {
      "text/html": [
       "<div><div style = \"float: left;\"><span>10×2 DataFrame</span></div><div style = \"clear: both;\"></div></div><div class = \"data-frame\" style = \"overflow-x: scroll;\"><table class = \"data-frame\" style = \"margin-bottom: 6px;\"><thead><tr class = \"header\"><th class = \"rowNumber\" style = \"font-weight: bold; text-align: right;\">Row</th><th style = \"text-align: left;\">Sz</th><th style = \"text-align: left;\">En</th></tr><tr class = \"subheader headerLastRow\"><th class = \"rowNumber\" style = \"font-weight: bold; text-align: right;\"></th><th title = \"ComplexF64\" style = \"text-align: left;\">Complex…</th><th title = \"Float64\" style = \"text-align: left;\">Float64</th></tr></thead><tbody><tr><td class = \"rowNumber\" style = \"font-weight: bold; text-align: right;\">1</td><td style = \"text-align: right;\">-0.492534-1.70024e-20im</td><td style = \"text-align: right;\">-1.25</td></tr><tr><td class = \"rowNumber\" style = \"font-weight: bold; text-align: right;\">2</td><td style = \"text-align: right;\">-0.470545+3.44243e-20im</td><td style = \"text-align: right;\">-1.25</td></tr><tr><td class = \"rowNumber\" style = \"font-weight: bold; text-align: right;\">3</td><td style = \"text-align: right;\">-0.435229+6.50984e-19im</td><td style = \"text-align: right;\">-1.25</td></tr><tr><td class = \"rowNumber\" style = \"font-weight: bold; text-align: right;\">4</td><td style = \"text-align: right;\">-0.388492-1.29753e-18im</td><td style = \"text-align: right;\">-1.25</td></tr><tr><td class = \"rowNumber\" style = \"font-weight: bold; text-align: right;\">5</td><td style = \"text-align: right;\">-0.332825+2.07511e-18im</td><td style = \"text-align: right;\">-1.25</td></tr><tr><td class = \"rowNumber\" style = \"font-weight: bold; text-align: right;\">6</td><td style = \"text-align: right;\">-0.271141+4.63178e-18im</td><td style = \"text-align: right;\">-1.25</td></tr><tr><td class = \"rowNumber\" style = \"font-weight: bold; text-align: right;\">7</td><td style = \"text-align: right;\">-0.206587+5.17449e-18im</td><td style = \"text-align: right;\">-1.25</td></tr><tr><td class = \"rowNumber\" style = \"font-weight: bold; text-align: right;\">8</td><td style = \"text-align: right;\">-0.142354+3.51877e-18im</td><td style = \"text-align: right;\">-1.25</td></tr><tr><td class = \"rowNumber\" style = \"font-weight: bold; text-align: right;\">9</td><td style = \"text-align: right;\">-0.0814742+7.71132e-18im</td><td style = \"text-align: right;\">-1.25</td></tr><tr><td class = \"rowNumber\" style = \"font-weight: bold; text-align: right;\">10</td><td style = \"text-align: right;\">-0.0266519+5.57142e-18im</td><td style = \"text-align: right;\">-1.25</td></tr></tbody></table></div>"
      ],
      "text/latex": [
       "\\begin{tabular}{r|cc}\n",
       "\t& Sz & En\\\\\n",
       "\t\\hline\n",
       "\t& Complex… & Float64\\\\\n",
       "\t\\hline\n",
       "\t1 & -0.492534-1.70024e-20im & -1.25 \\\\\n",
       "\t2 & -0.470545+3.44243e-20im & -1.25 \\\\\n",
       "\t3 & -0.435229+6.50984e-19im & -1.25 \\\\\n",
       "\t4 & -0.388492-1.29753e-18im & -1.25 \\\\\n",
       "\t5 & -0.332825+2.07511e-18im & -1.25 \\\\\n",
       "\t6 & -0.271141+4.63178e-18im & -1.25 \\\\\n",
       "\t7 & -0.206587+5.17449e-18im & -1.25 \\\\\n",
       "\t8 & -0.142354+3.51877e-18im & -1.25 \\\\\n",
       "\t9 & -0.0814742+7.71132e-18im & -1.25 \\\\\n",
       "\t10 & -0.0266519+5.57142e-18im & -1.25 \\\\\n",
       "\\end{tabular}\n"
      ],
      "text/plain": [
       "\u001b[1m10×2 DataFrame\u001b[0m\n",
       "\u001b[1m Row \u001b[0m│\u001b[1m Sz                       \u001b[0m\u001b[1m En      \u001b[0m\n",
       "     │\u001b[90m Complex…                 \u001b[0m\u001b[90m Float64 \u001b[0m\n",
       "─────┼───────────────────────────────────\n",
       "   1 │  -0.492534-1.70024e-20im    -1.25\n",
       "   2 │  -0.470545+3.44243e-20im    -1.25\n",
       "   3 │  -0.435229+6.50984e-19im    -1.25\n",
       "   4 │  -0.388492-1.29753e-18im    -1.25\n",
       "   5 │  -0.332825+2.07511e-18im    -1.25\n",
       "   6 │  -0.271141+4.63178e-18im    -1.25\n",
       "   7 │  -0.206587+5.17449e-18im    -1.25\n",
       "   8 │  -0.142354+3.51877e-18im    -1.25\n",
       "   9 │ -0.0814742+7.71132e-18im    -1.25\n",
       "  10 │ -0.0266519+5.57142e-18im    -1.25"
      ]
     },
     "execution_count": 5,
     "metadata": {},
     "output_type": "execute_result"
    }
   ],
   "source": [
    "obs"
   ]
  },
  {
   "cell_type": "markdown",
   "metadata": {},
   "source": [
    "We can check some basic properties of this unitary time evolution, such as conservation of probability and conservation of energy."
   ]
  },
  {
   "cell_type": "code",
   "execution_count": 6,
   "metadata": {},
   "outputs": [
    {
     "name": "stdout",
     "output_type": "stream",
     "text": [
      "norm(ψ1) ≈ 1.0 = true\n",
      "real(inner(ψ1', H, ψ1)) ≈ inner(ϕ', H, ϕ) = true\n"
     ]
    }
   ],
   "source": [
    "@show norm(ψ1) ≈ 1.0\n",
    "@show real(inner(ψ1', H, ψ1)) ≈ inner(ϕ', H, ϕ);"
   ]
  },
  {
   "cell_type": "markdown",
   "metadata": {},
   "source": [
    "We can also perform the same evolution backwards and check that we end up close to the original state."
   ]
  },
  {
   "cell_type": "code",
   "execution_count": 7,
   "metadata": {},
   "outputs": [
    {
     "name": "stdout",
     "output_type": "stream",
     "text": [
      "norm(ψ2) ≈ 1.0 = true\n",
      "abs(inner(ϕ, ψ2)) > 0.99 = true\n"
     ]
    }
   ],
   "source": [
    "ψ2 = tdvp(\n",
    "    H,\n",
    "    +im * ttotal,\n",
    "    ψ1;\n",
    "    time_step=+im * tau,\n",
    "    cutoff,\n",
    "    normalize=false,\n",
    ")\n",
    "@show norm(ψ2) ≈ 1.0\n",
    "@show abs(inner(ϕ, ψ2)) > 0.99;"
   ]
  },
  {
   "cell_type": "markdown",
   "metadata": {},
   "source": [
    "### Sum of Hamiltonians"
   ]
  },
  {
   "cell_type": "markdown",
   "metadata": {},
   "source": [
    "Time evolution also supports the use of Hamiltonians which are defined as a lazy sum of component Hamiltonians (as do all other sweeping routines in ITensorNetworks.jl for that matter). To evolve using a sum of Hamiltonians, we can just replace the `TTN` Hamiltonian operator by a `Vector{TTN}` which contains all Hamiltonian terms:\n",
    "\n",
    "```julia\n",
    "ψ = tdvp([H1, H2, ...], t, ϕ; kwargs...)\n",
    "```"
   ]
  },
  {
   "cell_type": "markdown",
   "metadata": {},
   "source": [
    "### Custom solvers"
   ]
  },
  {
   "cell_type": "markdown",
   "metadata": {},
   "source": [
    "Instead of just supplying a Hamiltonian operator in `TTN` format to the TDVP routine, we can instead supply a custom local solver which encodes how a local region should be updated during the sweeping routine. As an example, we can run TDVP with a local solver that uses a custom exponentiation algorithm found in `ITensorNetworks.applyexp` instead of the default `Krylovkit.exponentiate` solver.\n",
    "\n",
    "This generally requires some knowledge about the internals of the sweeping routines, which are not well documented at this time. Detailed instructions for defining custom solvers will be added to the ITensorNetworks.jl documentation soon. For now, some more details are given in the [example on time evolution for time-dependent problems](./tdvp_dynamic_demo.ipynb)."
   ]
  },
  {
   "cell_type": "code",
   "execution_count": 8,
   "metadata": {},
   "outputs": [
    {
     "name": "stdout",
     "output_type": "stream",
     "text": [
      "norm(ψ3) ≈ 1.0 = true\n",
      "real(inner(ψ3', H, ψ3)) ≈ inner(ϕ', H, ϕ) = true\n",
      "inner(ψ1, ψ3) ≈ 1.0 = true\n"
     ]
    },
    {
     "data": {
      "text/plain": [
       "true"
      ]
     },
     "execution_count": 8,
     "metadata": {},
     "output_type": "execute_result"
    }
   ],
   "source": [
    "function solver(PH, ψ0; time_step, kwargs...)\n",
    "    solver_kwargs = (;\n",
    "        ishermitian=true, tol=1e-12, krylovdim=30, maxiter=100, verbosity=0, eager=true\n",
    "    )\n",
    "    psi, exp_info = applyexp(PH, time_step, ψ0; solver_kwargs...)\n",
    "    return psi, (; info=exp_info)\n",
    "end\n",
    "\n",
    "ψ3 = tdvp(\n",
    "    solver,\n",
    "    H,\n",
    "    -im * ttotal,\n",
    "    ϕ;\n",
    "    time_step=-im * tau,\n",
    "    cutoff,\n",
    "    normalize=false,\n",
    ")\n",
    "\n",
    "@show norm(ψ3) ≈ 1.0\n",
    "@show real(inner(ψ3', H, ψ3)) ≈ inner(ϕ', H, ϕ)\n",
    "@show inner(ψ1, ψ3) ≈ 1.0; # check if custom solver gives the same result"
   ]
  },
  {
   "cell_type": "markdown",
   "metadata": {},
   "source": [
    "### Imaginary time evolution"
   ]
  },
  {
   "cell_type": "markdown",
   "metadata": {},
   "source": [
    "We can also use the TDVP routine for ground state searches by performing several sweeps of imaginary time evolution:"
   ]
  },
  {
   "cell_type": "code",
   "execution_count": 9,
   "metadata": {},
   "outputs": [
    {
     "data": {
      "text/plain": [
       "-2.4747448713915907"
      ]
     },
     "execution_count": 9,
     "metadata": {},
     "output_type": "execute_result"
    }
   ],
   "source": [
    "reverse_step = true\n",
    "cutoff = 1e-12\n",
    "tau = 1.0\n",
    "ttotal = 50.0\n",
    "\n",
    "ϕ = normalize!(random_ttn(s; link_space=2))\n",
    "ψ = copy(ϕ)\n",
    "\n",
    "trange = 0.0:tau:ttotal\n",
    "for (step, t) in enumerate(trange)\n",
    "    nsite = (step <= 10 ? 2 : 1)\n",
    "    ψ = tdvp(\n",
    "        H, -tau, ψ; cutoff, nsite, reverse_step=false, normalize=true, exponentiate_krylovdim=15\n",
    "    )\n",
    "end\n",
    "e = real(inner(ψ', H, ψ))"
   ]
  },
  {
   "cell_type": "markdown",
   "metadata": {},
   "source": [
    "We can compare the resulting ground state energy to the one we would obtain using DMRG:"
   ]
  },
  {
   "cell_type": "code",
   "execution_count": 10,
   "metadata": {},
   "outputs": [
    {
     "data": {
      "text/plain": [
       "-2.4747448713915907"
      ]
     },
     "execution_count": 10,
     "metadata": {},
     "output_type": "execute_result"
    }
   ],
   "source": [
    "ψ_dmrg = dmrg(H, ϕ; nsweeps=10, cutoff, nsite=2)\n",
    "e_dmrg = real(inner(ψ_dmrg', H, ψ_dmrg))"
   ]
  },
  {
   "cell_type": "code",
   "execution_count": null,
   "metadata": {},
   "outputs": [],
   "source": []
  }
 ],
 "metadata": {
  "kernelspec": {
   "display_name": "Julia 1.9.1",
   "language": "julia",
   "name": "julia-1.9"
  },
  "language_info": {
   "file_extension": ".jl",
   "mimetype": "application/julia",
   "name": "julia",
   "version": "1.9.1"
  }
 },
 "nbformat": 4,
 "nbformat_minor": 4
}
