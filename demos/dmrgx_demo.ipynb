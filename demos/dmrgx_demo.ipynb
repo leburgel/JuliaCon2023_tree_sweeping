{
 "cells": [
  {
   "cell_type": "markdown",
   "metadata": {},
   "source": [
    "# Excitations on a tree geometry"
   ]
  },
  {
   "cell_type": "code",
   "execution_count": 1,
   "metadata": {},
   "outputs": [],
   "source": [
    "using ITensors\n",
    "using ITensorNetworks\n",
    "using Random"
   ]
  },
  {
   "cell_type": "markdown",
   "metadata": {},
   "source": [
    "In this notebook we characterize excitations for a spin model on a lattice with a tree-like geometry using the [DMRG-X algorithm](https://journals.aps.org/prl/abstract/10.1103/PhysRevLett.116.247204).\n",
    "\n",
    "As an example, we will consider a random field spin-1/2 Heisenberg model with Hamiltonian\n",
    "\n",
    "$$\n",
    "H = \\sum_{\\langle i, j \\rangle} \\vec{S}_i \\cdot \\vec{S}_j + \\sum_i h_i S^z_i,\n",
    "$$\n",
    "\n",
    "on a spin system defined on a small comb tree with 6 sites\n",
    "<center><img align=\"center\" width=\"200\" src=\"./fig/small_comb_tree.svg\"></center>"
   ]
  },
  {
   "cell_type": "code",
   "execution_count": 2,
   "metadata": {},
   "outputs": [],
   "source": [
    "c = named_comb_tree((3, 2))\n",
    "s = siteinds(\"S=1/2\", c)\n",
    "root_vertex = (1, 2)\n",
    "\n",
    "Random.seed!(12)\n",
    "W = 12\n",
    "# random fields h ∈ [-W, W]\n",
    "h = W * (2 * rand(nv(c)) .- 1)\n",
    "H = TTN(ITensorNetworks.heisenberg(c; h), s);"
   ]
  },
  {
   "cell_type": "markdown",
   "metadata": {},
   "source": [
    "With the DMRG-X algorithm, we can now find the excited state of the given Hamiltonian that is closest to a given initial state. As an example, we choose the initial state to be a product state with random up/down spins at each site, and run a 2-site version of the DMRG-X algorithm:"
   ]
  },
  {
   "cell_type": "code",
   "execution_count": 3,
   "metadata": {},
   "outputs": [
    {
     "name": "stdout",
     "output_type": "stream",
     "text": [
      "abs(inner(ψ', H, ψ) / inner(ψ, ψ) - inner(ϕ', H, ϕ) / inner(ϕ, ϕ)) < 0.1 = true\n",
      "abs(inner(H, ψ, H, ψ) - inner(ψ', H, ψ) ^ 2) > 0.01 = true\n",
      "abs(inner(H, ϕ, H, ϕ) - inner(ϕ', H, ϕ) ^ 2) < 1.0e-7 = true\n"
     ]
    }
   ],
   "source": [
    "ψ = normalize!(TTN(s, v -> rand([\"↑\", \"↓\"])))\n",
    "\n",
    "dmrg_x_kwargs = (\n",
    "    nsweeps=20, reverse_step=false, normalize=true, maxdim=20, cutoff=1e-10, outputlevel=0\n",
    ")\n",
    "\n",
    "ϕ = dmrg_x(H, ψ; nsite=2, dmrg_x_kwargs...)\n",
    "\n",
    "@show abs(inner(ψ', H, ψ) / inner(ψ, ψ) - inner(ϕ', H, ϕ) / inner(ϕ, ϕ)) < 1e-1\n",
    "@show abs(inner(H, ψ, H, ψ) - inner(ψ', H, ψ)^2) > 1e-2\n",
    "@show abs(inner(H, ϕ, H, ϕ) - inner(ϕ', H, ϕ)^2) < 1e-7;"
   ]
  },
  {
   "cell_type": "markdown",
   "metadata": {},
   "source": [
    "For this small system, we can compare our result to exact diagonalization to see if DMRG-X gave the expected result:"
   ]
  },
  {
   "cell_type": "code",
   "execution_count": 4,
   "metadata": {},
   "outputs": [
    {
     "name": "stdout",
     "output_type": "stream",
     "text": [
      "abs(inner(ϕ', H, ϕ) - (dag(U_exact') * T * U_exact)[]) < 1.0e-6 = true\n",
      "abs(abs(inner(U_dmrgx, U_exact)) - 1) < 1.0e-6 = true\n"
     ]
    }
   ],
   "source": [
    "@disable_warn_order U0 = contract(ψ, root_vertex)\n",
    "@disable_warn_order T = contract(H, root_vertex)\n",
    "D, U = eigen(T; ishermitian=true)\n",
    "u = uniqueind(U, T)\n",
    "_, max_ind = findmax(abs, array(dag(U0) * U))\n",
    "U_exact = U * dag(onehot(u => max_ind))\n",
    "@disable_warn_order U_dmrgx = contract(ϕ, root_vertex)\n",
    "@show abs(inner(ϕ', H, ϕ) - (dag(U_exact') * T * U_exact)[]) < 1e-6\n",
    "@show abs(abs(inner(U_dmrgx, U_exact)) - 1) < 1e-6;"
   ]
  },
  {
   "cell_type": "code",
   "execution_count": null,
   "metadata": {},
   "outputs": [],
   "source": []
  }
 ],
 "metadata": {
  "kernelspec": {
   "display_name": "Julia 1.9.1",
   "language": "julia",
   "name": "julia-1.9"
  },
  "language_info": {
   "file_extension": ".jl",
   "mimetype": "application/julia",
   "name": "julia",
   "version": "1.9.1"
  }
 },
 "nbformat": 4,
 "nbformat_minor": 4
}
